{
 "cells": [
  {
   "cell_type": "code",
   "execution_count": 10,
   "id": "f1e186a7-3267-4bbe-bfbc-ae7bc54c1535",
   "metadata": {},
   "outputs": [
    {
     "data": {
      "text/plain": [
       "'cpu'"
      ]
     },
     "execution_count": 10,
     "metadata": {},
     "output_type": "execute_result"
    }
   ],
   "source": [
    "import os\n",
    "import time\n",
    "\n",
    "import numpy as np\n",
    "import pandas as pd\n",
    "import matplotlib.pyplot as plt\n",
    "\n",
    "import torch\n",
    "import torch.nn as nn\n",
    "from torch.utils.data import TensorDataset, DataLoader\n",
    "import torchinfo\n",
    "\n",
    "from sklearn.preprocessing import MinMaxScaler, StandardScaler\n",
    "from sklearn.model_selection import train_test_split  \n",
    "\n",
    "device = 'cuda' if torch.cuda.is_available() else 'cpu'\n",
    "device"
   ]
  },
  {
   "cell_type": "code",
   "execution_count": 12,
   "id": "a3b75682-09f9-409e-a3e4-f04e236b33a9",
   "metadata": {},
   "outputs": [
    {
     "data": {
      "text/html": [
       "<div>\n",
       "<style scoped>\n",
       "    .dataframe tbody tr th:only-of-type {\n",
       "        vertical-align: middle;\n",
       "    }\n",
       "\n",
       "    .dataframe tbody tr th {\n",
       "        vertical-align: top;\n",
       "    }\n",
       "\n",
       "    .dataframe thead th {\n",
       "        text-align: right;\n",
       "    }\n",
       "</style>\n",
       "<table border=\"1\" class=\"dataframe\">\n",
       "  <thead>\n",
       "    <tr style=\"text-align: right;\">\n",
       "      <th></th>\n",
       "      <th>Open</th>\n",
       "      <th>High</th>\n",
       "      <th>Low</th>\n",
       "      <th>Close</th>\n",
       "      <th>Volume</th>\n",
       "    </tr>\n",
       "    <tr>\n",
       "      <th>Date</th>\n",
       "      <th></th>\n",
       "      <th></th>\n",
       "      <th></th>\n",
       "      <th></th>\n",
       "      <th></th>\n",
       "    </tr>\n",
       "  </thead>\n",
       "  <tbody>\n",
       "    <tr>\n",
       "      <th>2000-01-04</th>\n",
       "      <td>6000.0</td>\n",
       "      <td>6110.0</td>\n",
       "      <td>5660.0</td>\n",
       "      <td>6110.0</td>\n",
       "      <td>74195000</td>\n",
       "    </tr>\n",
       "    <tr>\n",
       "      <th>2000-01-05</th>\n",
       "      <td>5800.0</td>\n",
       "      <td>6060.0</td>\n",
       "      <td>5520.0</td>\n",
       "      <td>5580.0</td>\n",
       "      <td>74680000</td>\n",
       "    </tr>\n",
       "    <tr>\n",
       "      <th>2000-01-06</th>\n",
       "      <td>5750.0</td>\n",
       "      <td>5780.0</td>\n",
       "      <td>5580.0</td>\n",
       "      <td>5620.0</td>\n",
       "      <td>54390000</td>\n",
       "    </tr>\n",
       "    <tr>\n",
       "      <th>2000-01-07</th>\n",
       "      <td>5560.0</td>\n",
       "      <td>5670.0</td>\n",
       "      <td>5360.0</td>\n",
       "      <td>5540.0</td>\n",
       "      <td>40305000</td>\n",
       "    </tr>\n",
       "    <tr>\n",
       "      <th>2000-01-10</th>\n",
       "      <td>5600.0</td>\n",
       "      <td>5770.0</td>\n",
       "      <td>5580.0</td>\n",
       "      <td>5770.0</td>\n",
       "      <td>46880000</td>\n",
       "    </tr>\n",
       "  </tbody>\n",
       "</table>\n",
       "</div>"
      ],
      "text/plain": [
       "              Open    High     Low   Close    Volume\n",
       "Date                                                \n",
       "2000-01-04  6000.0  6110.0  5660.0  6110.0  74195000\n",
       "2000-01-05  5800.0  6060.0  5520.0  5580.0  74680000\n",
       "2000-01-06  5750.0  5780.0  5580.0  5620.0  54390000\n",
       "2000-01-07  5560.0  5670.0  5360.0  5540.0  40305000\n",
       "2000-01-10  5600.0  5770.0  5580.0  5770.0  46880000"
      ]
     },
     "execution_count": 12,
     "metadata": {},
     "output_type": "execute_result"
    }
   ],
   "source": [
    "df = pd.read_csv(\"dataset/005930.KS.csv\")\n",
    "df = df.set_index('Date')\n",
    "df.drop(columns=\"Adj Close\", inplace=True)\n",
    "df.head()"
   ]
  },
  {
   "cell_type": "code",
   "execution_count": 13,
   "id": "89d61f4a-fc59-4313-827b-070e830ad657",
   "metadata": {},
   "outputs": [
    {
     "name": "stdout",
     "output_type": "stream",
     "text": [
      "(6122, 5) (6122, 1)\n"
     ]
    }
   ],
   "source": [
    "#### Dataset 구성\n",
    "df_y = df['Close'].to_frame()\n",
    "df_X = df\n",
    "print(df_X.shape, df_y.shape)"
   ]
  },
  {
   "cell_type": "code",
   "execution_count": 14,
   "id": "d1df847e-e66f-40fe-ad3f-d1f40af29c4b",
   "metadata": {},
   "outputs": [
    {
     "name": "stdout",
     "output_type": "stream",
     "text": [
      "(6122, 5) (6122, 1)\n"
     ]
    }
   ],
   "source": [
    "#### 데이터 전리리\n",
    "X_scaler = StandardScaler()\n",
    "y_scaler = MinMaxScaler()\n",
    "X = X_scaler.fit_transform(df_X)\n",
    "y = y_scaler.fit_transform(df_y)\n",
    "print(X.shape, y.shape)"
   ]
  },
  {
   "cell_type": "code",
   "execution_count": 22,
   "id": "9e0af140-4807-42b5-9541-b87a7b4bd381",
   "metadata": {},
   "outputs": [],
   "source": [
    "### X: 50일치 데이터 , y: 51일째 주가\n",
    "time_steps = 50\n",
    "data_X = []\n",
    "data_y = []\n",
    "\n",
    "for idx in range(0, y.size - time_steps):\n",
    "    _X = X[idx:time_steps+idx]\n",
    "    _y = y[time_steps+idx]\n",
    "    data_X.append(_X)\n",
    "    data_y.append(_y)"
   ]
  },
  {
   "cell_type": "code",
   "execution_count": 24,
   "id": "1f6f2ce0-59ff-452a-b00d-5455b81721ab",
   "metadata": {},
   "outputs": [
    {
     "data": {
      "text/plain": [
       "((6072, 50, 5), (6072, 1))"
      ]
     },
     "execution_count": 24,
     "metadata": {},
     "output_type": "execute_result"
    }
   ],
   "source": [
    "np.shape(data_X), np.shape(data_y)"
   ]
  },
  {
   "cell_type": "code",
   "execution_count": 27,
   "id": "85a03190-8a15-49ec-8050-7c24e208632f",
   "metadata": {},
   "outputs": [
    {
     "name": "stdout",
     "output_type": "stream",
     "text": [
      "(4857, 50, 5) (1215, 50, 5)\n",
      "float32\n"
     ]
    }
   ],
   "source": [
    "### Train / test set 분리\n",
    "X_train, X_test, y_train, y_test = train_test_split(data_X, data_y, test_size=0.2)\n",
    "print(np.shape(X_train), np.shape(X_test))\n",
    "X_train, X_test, y_train, y_test = (\n",
    "    np.array(X_train, dtype=\"float32\"),\n",
    "    np.array(X_test, dtype='float32'),\n",
    "    np.array(y_train, dtype='float32'),\n",
    "    np.array(y_test, dtype='float32')\n",
    ")\n",
    "print(X_train.dtype)"
   ]
  },
  {
   "cell_type": "code",
   "execution_count": 32,
   "id": "0bf8616f-801a-4210-8127-e44ff7c07952",
   "metadata": {},
   "outputs": [
    {
     "name": "stdout",
     "output_type": "stream",
     "text": [
      "Dataset :  4857 1215\n",
      "24 7\n"
     ]
    }
   ],
   "source": [
    "### Dataset, DataLoader 구성\n",
    "train_set = TensorDataset(torch.tensor(X_train), torch.tensor(y_train))\n",
    "test_set = TensorDataset(torch.tensor(X_test), torch.tensor(y_test))\n",
    "print('Dataset : ' , len(train_set), len(test_set))\n",
    "train_loader = DataLoader(train_set, batch_size=200, shuffle=True, drop_last=True)\n",
    "test_loader = DataLoader(test_set, batch_size=200)\n",
    "print(len(train_loader), len(test_loader))"
   ]
  },
  {
   "cell_type": "code",
   "execution_count": 41,
   "id": "2df497b7-0d41-425e-acd4-c6bfc7ee8974",
   "metadata": {},
   "outputs": [],
   "source": [
    "#### 모델 정의\n",
    "class StockPriceModel(nn.Module):\n",
    "\n",
    "    def __init__(self, input_size, hidden_size, num_layers, bidirectional=True, dropout_rate=0.3):\n",
    "        super().__init__()\n",
    "        self.lstm = nn.LSTM(\n",
    "            input_size=input_size,\n",
    "            hidden_size=hidden_size,\n",
    "            num_layers=num_layers,\n",
    "            bidirectional=bidirectional,\n",
    "            dropout=dropout_rate\n",
    "        )\n",
    "        self.dropout = nn.Dropout(dropout_rate)\n",
    "        i_features = hidden_size * 2 if bidirectional else hidden_size\n",
    "        self.lr = nn.Linear(i_features, 1)\n",
    "        self.sigmoid = nn.Sigmoid()\n",
    "\n",
    "    def forward(self, X):\n",
    "        X = X.transpose(1, 0)\n",
    "        out, _ = self.lstm(X)\n",
    "        last_out = self.dropout(out[-1])\n",
    "        last_out = self.lr(last_out)\n",
    "        return self.sigmoid(last_out)"
   ]
  },
  {
   "cell_type": "code",
   "execution_count": 42,
   "id": "3ed323de-8cde-4198-8a89-c628680bdfe1",
   "metadata": {},
   "outputs": [],
   "source": [
    "model = StockPriceModel(\n",
    "    input_size=5,\n",
    "    hidden_size=32,\n",
    "    num_layers=1,\n",
    "    bidirectional=True,\n",
    "    dropout_rate=0.3\n",
    ")\n",
    "model = model.to(device)"
   ]
  },
  {
   "cell_type": "code",
   "execution_count": 43,
   "id": "196d0bb5-5c5d-4ca4-b2de-6984ce92fe05",
   "metadata": {},
   "outputs": [
    {
     "name": "stdout",
     "output_type": "stream",
     "text": [
      "StockPriceModel(\n",
      "  (lstm): LSTM(5, 32, dropout=0.3, bidirectional=True)\n",
      "  (dropout): Dropout(p=0.3, inplace=False)\n",
      "  (lr): Linear(in_features=64, out_features=1, bias=True)\n",
      "  (sigmoid): Sigmoid()\n",
      ")\n"
     ]
    }
   ],
   "source": [
    "print(model)"
   ]
  },
  {
   "cell_type": "code",
   "execution_count": 44,
   "id": "248634de-f56b-497f-a7a9-c177d1a396d7",
   "metadata": {},
   "outputs": [
    {
     "data": {
      "text/plain": [
       "==========================================================================================\n",
       "Layer (type:depth-idx)                   Output Shape              Param #\n",
       "==========================================================================================\n",
       "StockPriceModel                          [200, 1]                  --\n",
       "├─LSTM: 1-1                              [50, 200, 64]             9,984\n",
       "├─Dropout: 1-2                           [200, 64]                 --\n",
       "├─Linear: 1-3                            [200, 1]                  65\n",
       "├─Sigmoid: 1-4                           [200, 1]                  --\n",
       "==========================================================================================\n",
       "Total params: 10,049\n",
       "Trainable params: 10,049\n",
       "Non-trainable params: 0\n",
       "Total mult-adds (Units.MEGABYTES): 99.85\n",
       "==========================================================================================\n",
       "Input size (MB): 0.20\n",
       "Forward/backward pass size (MB): 5.12\n",
       "Params size (MB): 0.04\n",
       "Estimated Total Size (MB): 5.36\n",
       "=========================================================================================="
      ]
     },
     "execution_count": 44,
     "metadata": {},
     "output_type": "execute_result"
    }
   ],
   "source": [
    "from torchinfo import summary\n",
    "summary(model, (200, 50, 5), device=device)"
   ]
  },
  {
   "cell_type": "code",
   "execution_count": 45,
   "id": "03589541-12b2-4a71-ad70-b286d7f743a7",
   "metadata": {},
   "outputs": [],
   "source": [
    "optimizer = torch.optim.Adam(model.parameters(), lr=0.01)\n",
    "loss_fn = nn.MSELoss()"
   ]
  },
  {
   "cell_type": "code",
   "execution_count": null,
   "id": "658008c7-fdb8-4d93-974d-214237047772",
   "metadata": {},
   "outputs": [
    {
     "name": "stdout",
     "output_type": "stream",
     "text": [
      "[0/100] train loss: 0.5435108325909823, val loss: 0.00893161806743592\n"
     ]
    }
   ],
   "source": [
    "train_loss_list = []\n",
    "test_loss_list = []\n",
    "\n",
    "for epoch in range(100):\n",
    "    model.train()\n",
    "    train_loss = 0.0\n",
    "    for X_train, y_train in train_loader:\n",
    "        X_train, y_train = X_train.to(device), y_train.to(device)\n",
    "        pred = model(X_train)\n",
    "        loss = loss_fn(pred, y_train)\n",
    "        loss.backward()\n",
    "        optimizer.step()\n",
    "        optimizer.zero_grad()\n",
    "        train_loss += loss.item()\n",
    "    train_loss_list.append(train_loss/len(train_loader))\n",
    "\n",
    "    model.eval()\n",
    "    test_loss = 0.0\n",
    "    with torch.no_grad():\n",
    "        for X_test, y_test in test_loader:\n",
    "            X_test, y_test = X_test.to(device), y_test.to(device)\n",
    "            pred_test = model(X_test)\n",
    "            test_loss += loss_fn(pred_test, y_test).item()\n",
    "        test_loss_list.append(test_loss/len(test_loader))\n",
    "    if epoch % 10 == 0 or epoch == (100-1):\n",
    "        print(f\"[{epoch}/100] train loss: {train_loss}, val loss: {test_loss}\")"
   ]
  }
 ],
 "metadata": {
  "kernelspec": {
   "display_name": "Python 3 (ipykernel)",
   "language": "python",
   "name": "python3"
  },
  "language_info": {
   "codemirror_mode": {
    "name": "ipython",
    "version": 3
   },
   "file_extension": ".py",
   "mimetype": "text/x-python",
   "name": "python",
   "nbconvert_exporter": "python",
   "pygments_lexer": "ipython3",
   "version": "3.12.7"
  }
 },
 "nbformat": 4,
 "nbformat_minor": 5
}
