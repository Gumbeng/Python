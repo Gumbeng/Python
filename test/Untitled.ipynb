{
 "cells": [
  {
   "cell_type": "code",
   "execution_count": 16,
   "id": "5930b96e-7de5-45c8-819f-243b9eaee8cb",
   "metadata": {},
   "outputs": [
    {
     "name": "stdout",
     "output_type": "stream",
     "text": [
      "                                             English  \\\n",
      "0                    Is It Time to Give Up on 1.5°C?   \n",
      "1     MILAN – Net-zero commitments are all the rage.   \n",
      "2  Countries, companies, and others worldwide hav...   \n",
      "3  But net-zero targets are not tantamount to lim...   \n",
      "4             This is well understood among experts.   \n",
      "\n",
      "                                             Chinese  \n",
      "0                                    是时候放弃1.5°C目标了吗？  \n",
      "1                                 发自米兰—净零承诺当前正处于风口上。  \n",
      "2  世界各地的国家、企业和其他国家都承诺要在某个特定日期前消除温室气体净排放 — — 某些国家的...  \n",
      "3  但净零目标并不等同于将全球变暖限制在巴黎气候协定的1.5°C目标或是任何特定变暖水平，而达成...  \n",
      "4                                       专家们对此早已深有体会。  \n"
     ]
    },
    {
     "data": {
      "text/plain": [
       "(454819, 2)"
      ]
     },
     "execution_count": 16,
     "metadata": {},
     "output_type": "execute_result"
    }
   ],
   "source": [
    "# 파일 읽기\n",
    "import pandas as pd\n",
    "file_path = \"data/news-commentary-v18.en-zh.tsv\"\n",
    "data = pd.read_csv(file_path, sep=\"\\t\", header=None, names=[\"English\", \"Chinese\"])\n",
    "\n",
    "# 데이터 확인\n",
    "print(data.head())  # 상위 5개 행 출력\n",
    "data.shape"
   ]
  },
  {
   "cell_type": "code",
   "execution_count": 17,
   "id": "427cc5f5-c3b4-42b7-b817-6b0356214c64",
   "metadata": {},
   "outputs": [
    {
     "name": "stdout",
     "output_type": "stream",
     "text": [
      "English    11451\n",
      "Chinese    11593\n",
      "dtype: int64\n",
      "결측치 제거 후\n",
      "English    0\n",
      "Chinese    0\n",
      "dtype: int64\n"
     ]
    }
   ],
   "source": [
    "# 결측치 확인\n",
    "print(data.isnull().sum())\n",
    "data = data.dropna()\n",
    "print(\"결측치 제거 후\")\n",
    "print(data.isnull().sum())"
   ]
  },
  {
   "cell_type": "code",
   "execution_count": 18,
   "id": "f5396a0f-76e6-4e39-85e9-8a6a07313ff6",
   "metadata": {
    "collapsed": true,
    "jupyter": {
     "outputs_hidden": true
    }
   },
   "outputs": [
    {
     "name": "stdout",
     "output_type": "stream",
     "text": [
      "0                      Is It Time to Give Up on 1.5°C?\n",
      "1       MILAN – Net-zero commitments are all the rage.\n",
      "2    Countries, companies, and others worldwide hav...\n",
      "3    But net-zero targets are not tantamount to lim...\n",
      "4               This is well understood among experts.\n",
      "Name: English, dtype: object\n",
      "0                                      是时候放弃1.5°C目标了吗？\n",
      "1                                   发自米兰—净零承诺当前正处于风口上。\n",
      "2    世界各地的国家、企业和其他国家都承诺要在某个特定日期前消除温室气体净排放 — — 某些国家的...\n",
      "3    但净零目标并不等同于将全球变暖限制在巴黎气候协定的1.5°C目标或是任何特定变暖水平，而达成...\n",
      "4                                         专家们对此早已深有体会。\n",
      "Name: Chinese, dtype: object\n",
      "정규화 적용\n",
      "0    None\n",
      "1    None\n",
      "2    None\n",
      "3    None\n",
      "4    None\n",
      "Name: English, dtype: object\n",
      "0    None\n",
      "1    None\n",
      "2    None\n",
      "3    None\n",
      "4    None\n",
      "Name: Chinese, dtype: object\n"
     ]
    }
   ],
   "source": [
    "import re\n",
    "\n",
    "def clean_text(text):\n",
    "    text = re.sub(r\"[^\\w\\s]\", \"\", text) # 특수문자 제거\n",
    "    text = re.sub(r\"\\s+\", \" \", text) # 중복 공백 제거\n",
    "\n",
    "print(data[\"English\"].head())\n",
    "print(data[\"Chinese\"].head())\n",
    "# 정규화 적용\n",
    "print(\"정규화 적용\")\n",
    "data[\"English\"] = data[\"English\"].apply(clean_text)\n",
    "data[\"Chinese\"] = data[\"Chinese\"].apply(clean_text)\n",
    "print(data[\"English\"].head())\n",
    "print(data[\"Chinese\"].head())"
   ]
  },
  {
   "cell_type": "code",
   "execution_count": 20,
   "id": "6ff99dd5-c42a-464a-ab3e-39ed02b85fdd",
   "metadata": {},
   "outputs": [
    {
     "name": "stdout",
     "output_type": "stream",
     "text": [
      "       English Chinese\n",
      "107596    None    None\n",
      "302783    None    None\n",
      "425620    None    None\n",
      "136228    None    None\n",
      "291444    None    None\n"
     ]
    }
   ],
   "source": [
    "from sklearn.model_selection import train_test_split\n",
    "\n",
    "# 데이터셋 분할\n",
    "train_data, val_data = train_test_split(data, test_size=0.1, random_state=42)\n",
    "\n",
    "print(train_data.head())"
   ]
  },
  {
   "cell_type": "code",
   "execution_count": 24,
   "id": "fcaaddff-a6e8-40df-90ba-0a675e088466",
   "metadata": {},
   "outputs": [],
   "source": [
    "from transformers import MarianMTModel, MarianTokenizer\n",
    "\n",
    "model_name = \"Helsinki-NLP/opus-mt-en-zh\"\n",
    "tokenizer = MarianTokenizer.from_pretrained(model_name)\n",
    "model = MarianMTModel.from_pretrained(model_name)  # 재시도b"
   ]
  },
  {
   "cell_type": "code",
   "execution_count": 27,
   "id": "d42c9c0c-139e-4af3-9be9-e90cd38817f9",
   "metadata": {},
   "outputs": [
    {
     "name": "stdout",
     "output_type": "stream",
     "text": [
      "你好,你好吗?\n"
     ]
    }
   ],
   "source": [
    "sample_text = \"Hello, how are you?\"\n",
    "inputs = tokenizer(sample_text, return_tensors=\"pt\", padding=True, truncation=True)\n",
    "translated = model.generate(inputs[\"input_ids\"])\n",
    "print(tokenizer.decode(translated[0], skip_special_tokens=True))"
   ]
  },
  {
   "cell_type": "code",
   "execution_count": 29,
   "id": "1feafe30-3608-46ee-8800-799bb5c343e1",
   "metadata": {},
   "outputs": [
    {
     "name": "stdout",
     "output_type": "stream",
     "text": [
      "BLEU Score: 0.0000\n"
     ]
    }
   ],
   "source": [
    "from nltk.translate.bleu_score import sentence_bleu\n",
    "\n",
    "# 참조 문장(리스트의 리스트 형태로 제공)\n",
    "reference = [[\"你好\", \"你好吗\"]]  # 참조 문장\n",
    "\n",
    "# 후보 문장(리스트 형태로 제공)\n",
    "candidate = [\"你好\", \"你好吗\"]  # 모델 출력\n",
    "\n",
    "# BLEU 점수 계산\n",
    "bleu_score = sentence_bleu(reference, candidate)\n",
    "print(f\"BLEU Score: {bleu_score:.4f}\")\n"
   ]
  },
  {
   "cell_type": "code",
   "execution_count": 22,
   "id": "8ab09693-08ac-48e6-bbea-143d058ed1c8",
   "metadata": {
    "scrolled": true
   },
   "outputs": [
    {
     "name": "stdout",
     "output_type": "stream",
     "text": [
      "Collecting transformers\n",
      "  Downloading transformers-4.46.3-py3-none-any.whl.metadata (44 kB)\n",
      "Requirement already satisfied: filelock in c:\\users\\playdata\\appdata\\local\\miniconda3\\envs\\ml\\lib\\site-packages (from transformers) (3.16.1)\n",
      "Requirement already satisfied: huggingface-hub<1.0,>=0.23.2 in c:\\users\\playdata\\appdata\\local\\miniconda3\\envs\\ml\\lib\\site-packages (from transformers) (0.26.2)\n",
      "Requirement already satisfied: numpy>=1.17 in c:\\users\\playdata\\appdata\\local\\miniconda3\\envs\\ml\\lib\\site-packages (from transformers) (2.1.2)\n",
      "Requirement already satisfied: packaging>=20.0 in c:\\users\\playdata\\appdata\\local\\miniconda3\\envs\\ml\\lib\\site-packages (from transformers) (24.1)\n",
      "Requirement already satisfied: pyyaml>=5.1 in c:\\users\\playdata\\appdata\\local\\miniconda3\\envs\\ml\\lib\\site-packages (from transformers) (6.0.2)\n",
      "Requirement already satisfied: regex!=2019.12.17 in c:\\users\\playdata\\appdata\\local\\miniconda3\\envs\\ml\\lib\\site-packages (from transformers) (2024.11.6)\n",
      "Requirement already satisfied: requests in c:\\users\\playdata\\appdata\\local\\miniconda3\\envs\\ml\\lib\\site-packages (from transformers) (2.32.3)\n",
      "Requirement already satisfied: tokenizers<0.21,>=0.20 in c:\\users\\playdata\\appdata\\local\\miniconda3\\envs\\ml\\lib\\site-packages (from transformers) (0.20.3)\n",
      "Collecting safetensors>=0.4.1 (from transformers)\n",
      "  Downloading safetensors-0.4.5-cp312-none-win_amd64.whl.metadata (3.9 kB)\n",
      "Requirement already satisfied: tqdm>=4.27 in c:\\users\\playdata\\appdata\\local\\miniconda3\\envs\\ml\\lib\\site-packages (from transformers) (4.66.6)\n",
      "Requirement already satisfied: fsspec>=2023.5.0 in c:\\users\\playdata\\appdata\\local\\miniconda3\\envs\\ml\\lib\\site-packages (from huggingface-hub<1.0,>=0.23.2->transformers) (2024.10.0)\n",
      "Requirement already satisfied: typing-extensions>=3.7.4.3 in c:\\users\\playdata\\appdata\\local\\miniconda3\\envs\\ml\\lib\\site-packages (from huggingface-hub<1.0,>=0.23.2->transformers) (4.12.2)\n",
      "Requirement already satisfied: colorama in c:\\users\\playdata\\appdata\\local\\miniconda3\\envs\\ml\\lib\\site-packages (from tqdm>=4.27->transformers) (0.4.6)\n",
      "Requirement already satisfied: charset-normalizer<4,>=2 in c:\\users\\playdata\\appdata\\local\\miniconda3\\envs\\ml\\lib\\site-packages (from requests->transformers) (3.4.0)\n",
      "Requirement already satisfied: idna<4,>=2.5 in c:\\users\\playdata\\appdata\\local\\miniconda3\\envs\\ml\\lib\\site-packages (from requests->transformers) (3.10)\n",
      "Requirement already satisfied: urllib3<3,>=1.21.1 in c:\\users\\playdata\\appdata\\local\\miniconda3\\envs\\ml\\lib\\site-packages (from requests->transformers) (2.2.3)\n",
      "Requirement already satisfied: certifi>=2017.4.17 in c:\\users\\playdata\\appdata\\local\\miniconda3\\envs\\ml\\lib\\site-packages (from requests->transformers) (2024.8.30)\n",
      "Downloading transformers-4.46.3-py3-none-any.whl (10.0 MB)\n",
      "   ---------------------------------------- 0.0/10.0 MB ? eta -:--:--\n",
      "   ---- ----------------------------------- 1.0/10.0 MB 16.7 MB/s eta 0:00:01\n",
      "   --------------------------- ------------ 6.8/10.0 MB 24.6 MB/s eta 0:00:01\n",
      "   ---------------------------------------- 10.0/10.0 MB 26.1 MB/s eta 0:00:00\n",
      "Downloading safetensors-0.4.5-cp312-none-win_amd64.whl (286 kB)\n",
      "Installing collected packages: safetensors, transformers\n",
      "Successfully installed safetensors-0.4.5 transformers-4.46.3\n"
     ]
    }
   ],
   "source": [
    "!pip install transformers"
   ]
  }
 ],
 "metadata": {
  "kernelspec": {
   "display_name": "Python 3 (ipykernel)",
   "language": "python",
   "name": "python3"
  },
  "language_info": {
   "codemirror_mode": {
    "name": "ipython",
    "version": 3
   },
   "file_extension": ".py",
   "mimetype": "text/x-python",
   "name": "python",
   "nbconvert_exporter": "python",
   "pygments_lexer": "ipython3",
   "version": "3.12.7"
  }
 },
 "nbformat": 4,
 "nbformat_minor": 5
}
