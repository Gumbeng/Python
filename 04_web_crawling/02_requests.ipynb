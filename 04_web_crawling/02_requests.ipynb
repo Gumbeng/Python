{
 "cells": [
  {
   "cell_type": "code",
   "execution_count": 1,
   "metadata": {},
   "outputs": [],
   "source": [
    "import requests"
   ]
  },
  {
   "cell_type": "markdown",
   "metadata": {
    "slideshow": {
     "slide_type": "slide"
    }
   },
   "source": [
    "# requests 모듈을 이용한 웹 요청\n",
    "- [Requests 홈페이지](https://requests.kennethreitz.org/en/master/)\n",
    "- **HTTP 요청을 처리하는 파이썬 패키지**\n",
    "- get/post 방식 모두를 지원하며 쿠키, 헤더정보등을 HTTP의 다양한 요청처리를 지원한다.\n",
    "- 설치\n",
    "    - `pip install requests`\n",
    "    - `conda install -c conda-forge requests`"
   ]
  },
  {
   "cell_type": "markdown",
   "metadata": {},
   "source": [
    "## Crawling을 위한 requests 코딩 패턴\n",
    "1. requests의 get()/post() 함수를 이용해 url을 넣어 서버 요청한다.\n",
    "3. 응답받은 내용을 처리.\n",
    "    - text(HTML)은 BeautifulSoup에 넣어 parsing\n",
    "    - binary 파일의 경우 파일출력을 이용해 local에 저장"
   ]
  },
  {
   "cell_type": "markdown",
   "metadata": {
    "slideshow": {
     "slide_type": "slide"
    }
   },
   "source": [
    "## 요청 함수\n",
    "- HTTP 요청 방식에 따라 두개 함수를 사용.\n",
    "- get(): GET방식 요청\n",
    "    - GET 방식(기본방식): 목적 - client가 자원을 요청하는 것 목적(달라는 것.)\n",
    "- post(): POST방식 요청\n",
    "    - POST 방식: 목적 - client가 자기의 자원을 server로 전송하는 것이 목적."
   ]
  },
  {
   "cell_type": "markdown",
   "metadata": {
    "slideshow": {
     "slide_type": "slide"
    }
   },
   "source": [
    "### requests.get(URL)\n",
    "- **GET 방식 요청**\n",
    "- **주요 매개변수**\n",
    "    - params: 요청파라미터를 dictionary로 전달\n",
    "    - headers: HTTP 요청 header를 dictionary로 전달\n",
    "        - 'User-Agent', 'Referer' 등 헤더 설정\n",
    "    - cookies: 쿠키정보를 전달\n",
    "- **반환값(Return Value)**\n",
    "    - [Response](#Response객체): 응답결과"
   ]
  },
  {
   "cell_type": "markdown",
   "metadata": {},
   "source": [
    "### requests.post(URL)\n",
    "- **POST 방식 요청**\n",
    "- **주요 매개변수**\n",
    "    - datas : 요청파라미터를 dictionary로 전달\n",
    "    - files : 업로드할 파일을 dictionary로 전달\n",
    "        - key: 이름, value: 파일과 연결된 InputStream(TextIOWrapper)\n",
    "    - headers: HTTP 요청 header를 dictionary로 전달\n",
    "        - 'User-Agent', 'Referer' 등 헤더 설정\n",
    "    - cookies: 쿠키정보를 전달\n",
    "- **반환값(Return Value)**\n",
    "    - [Response](#Response객체): 응답결과"
   ]
  },
  {
   "cell_type": "markdown",
   "metadata": {
    "slideshow": {
     "slide_type": "subslide"
    }
   },
   "source": [
    "> ### 요청파라미터(Request Parameter)\n",
    "> - 요청파라미터란?\n",
    ">     - 서버가 일하기 위해 클라이언트로 부터 받아야하는 값들\n",
    ">     - `name=value` 형태이며 여러개일 경우 `&`로 연결해서 전송됨\n",
    "> - Get 요청시 queryString 으로 전달\n",
    ">     - querystring : URL 뒤에 붙여서 전송한다.\n",
    ">     - ex) https://search.naver.com/search.naver?sm=top_hty&fbm=1&ie=utf8&query=python\n",
    ">     - requests.get() 요청시 \n",
    ">         1. url 뒤에 querystring으로 붙여서 전송\n",
    ">         2. dictionary 에 name=value 형태로 만들어 매개변수 params에 전달\n",
    "> - Post 요청시 요청정보의 body에 넣어 전달"
   ]
  },
  {
   "cell_type": "markdown",
   "metadata": {},
   "source": [
    "> ### HTTP 요청 헤더(Request Header)\n",
    "> HTTP 요청시 웹브라우저가 client의 여러 부가적인 정보들을 Key-Value 쌍 형식으로 전달한다.\n",
    "> - accept: 클라이언트가 처리가능한 content 타입 (Mime-type 형식으로 전달)\n",
    "> - accept-language: 클라이언트가 지원하는 언어(ex: ko, en-US)\n",
    "> - host: 요청한 host \n",
    "> - user-agent: 웹브라우저 종류"
   ]
  },
  {
   "cell_type": "markdown",
   "metadata": {
    "slideshow": {
     "slide_type": "slide"
    }
   },
   "source": [
    "## Response객체 -  응답데이터\n",
    "- get()/post() 의 요청에 대한 서버의 응답 결과를 Response에 담아 반환\n",
    "    - Response의 속성을 이용해 응답결과를 조회\n",
    "- 주요 속성(Attribut)\n",
    "    - **url**\n",
    "        - 응답 받은(요청한) url \n",
    "    - **status_code**\n",
    "        - HTTP 응답 상태코드\n",
    "    - **headers**\n",
    "        - 응답 header 정보를 dictionary로 반환\n",
    "- **응답 결과 조회**\n",
    "    - **text**\n",
    "        - 응답내용(html을 str로 반환)\n",
    "    - **content**\n",
    "        - 응답내용(응답결과가 binary-image, 동영상등- 일 경우사용하며 bytes로 반환)\n",
    "    - **json()**\n",
    "        - 응답 결과가 JSON 인 경우 dictionary로 변환해서 반환"
   ]
  },
  {
   "cell_type": "markdown",
   "metadata": {},
   "source": [
    "> ### JSON(JavaScript Object Notation)\n",
    "> key-value 형태 또는 배열 형태의 text이며 이 기종간 데이터 교환에 많이 사용된다. 자바스크립트 언어에서 Object와 array를 생성하는 문법을 이용해 만듬. \n",
    "- [JSON 공식사이트](http://json.org)\n",
    ">\n",
    "> ### json 모듈\n",
    "> JSON 형식 문자열을 다루는 모듈\n",
    "> - json.loads(json문자열)\n",
    ">    - JSON 형식 문자열을 dictionary로 변환\n",
    "> - json.dumps(dictionary)\n",
    ">    - dictionary를 JSON 형식 문자열로 변환"
   ]
  },
  {
   "cell_type": "markdown",
   "metadata": {},
   "source": [
    "> ### HTTP 응답 상태코드\n",
    "> - https://ko.wikipedia.org/wiki/HTTP_상태_코드\n",
    "- 2XX: 성공\n",
    "    - 200: OK\n",
    "- 3XX: 다른 주소로 이동 (이사)\n",
    "    - 300번대이면 자동으로 이동해 준다. 크롤링시는 볼일이 별로 없다.\n",
    "- 4XX: 클라이언트 오류 (사용자가 잘못한 것)\n",
    "  - 404: 존재하지 않는 주소\n",
    "- 5XX: 서버 오류 (서버에서 문제생긴 것)\n",
    "  - 500: 서버가 처리방법을 모르는 오류\n",
    "  - 503: 서버가 다운 등의 문제로 서비스 불가 상태"
   ]
  },
  {
   "cell_type": "markdown",
   "metadata": {},
   "source": [
    "### Get 방식 요청 예제"
   ]
  },
  {
   "cell_type": "code",
   "execution_count": 7,
   "metadata": {},
   "outputs": [
    {
     "name": "stdin",
     "output_type": "stream",
     "text": [
      "keyword: chatgpt\n"
     ]
    },
    {
     "name": "stdout",
     "output_type": "stream",
     "text": [
      "200\n",
      "<class 'requests.models.Response'>\n",
      "<class 'str'> 410578\n",
      "<!doctype html> <html lang=\"ko\"><head> <meta charset=\"utf-8\"> <meta name=\"referrer\" content=\"always\">  <meta name=\"format-detection\" content=\"telephone=no,address=no,email=no\"> <meta property=\"og:titl\n"
     ]
    }
   ],
   "source": [
    "import requests\n",
    "\n",
    "# url = \"https://www.naver.com/\"\n",
    "url = \"https://search.naver.com/search.naver?where=nexearch&sm=top_hty&fbm=0&ie=utf8&query={}\"  # 검색\n",
    "keyword = input(\"keyword:\")\n",
    "url = url.format(keyword)\n",
    "\n",
    "res = requests.get(url) # 요청 -> 응답데이터를 반환.\n",
    "print(res.status_code)\n",
    "if res.status_code == 200: #HTTP상태코드 == 200(정상응답을 받은경우 코드값.)\n",
    "    print(type(res))\n",
    "    print(type(res.text), len(res.text))  # response.text: 응답 문서내용 조회 - str\n",
    "    print(res.text[:200])\n",
    "    # print(len(res.text))\n",
    "else:\n",
    "    print(\"응답을 받지 못함.\", res.status_code)\n"
   ]
  },
  {
   "cell_type": "code",
   "execution_count": 14,
   "metadata": {},
   "outputs": [
    {
     "name": "stdout",
     "output_type": "stream",
     "text": [
      "https://httpbin.org/get\n",
      "응답상태코드: 200\n",
      "============응답데이터(text)==========\n",
      "{\n",
      "  \"args\": {\n",
      "    \"fbm\": \"0\", \n",
      "    \"page\": \"3\", \n",
      "    \"query\": \"python\"\n",
      "  }, \n",
      "  \"headers\": {\n",
      "    \"Accept\": \"*/*\", \n",
      "    \"Accept-Encoding\": \"gzip, deflate\", \n",
      "    \"Host\": \"httpbin.org\", \n",
      "    \"Referer\": \"https://www.google.com/\", \n",
      "    \"User-Agent\": \"Mozilla/5.0 (Windows NT 10.0; Win64; x64) AppleWebKit/537.36 (KHTML, like Gecko) Chrome/123.0.0.0 Safari/537.36\", \n",
      "    \"X-Amzn-Trace-Id\": \"Root=1-67087eab-5e41bb9a6f1268951e5f8a0f\"\n",
      "  }, \n",
      "  \"origin\": \"222.112.208.70\", \n",
      "  \"url\": \"https://httpbin.org/get?query=python&fbm=0&page=3\"\n",
      "}\n",
      "\n",
      "==========응답헤더============\n",
      "{'Date': 'Fri, 11 Oct 2024 01:26:03 GMT', 'Content-Type': 'application/json', 'Content-Length': '526', 'Connection': 'keep-alive', 'Server': 'gunicorn/19.9.0', 'Access-Control-Allow-Origin': '*', 'Access-Control-Allow-Credentials': 'true'}\n"
     ]
    }
   ],
   "source": [
    "import requests\n",
    "from pprint import pprint\n",
    "\n",
    "base_url = \"https://httpbin.org/{}\"\n",
    "url = base_url.format(\"get\")\n",
    "print(url)\n",
    "# 요청파라터터\n",
    "params = {\n",
    "    \"query\":\"python\",  # name : value\n",
    "    \"fbm\": 0,\n",
    "    \"page\": 3\n",
    "}\n",
    "\n",
    "req_headers = {\n",
    "    \"user-agent\":\"Mozilla/5.0 (Windows NT 10.0; Win64; x64) AppleWebKit/537.36 (KHTML, like Gecko) Chrome/129.0.0.0 Safari/537.36\"\n",
    "    , \"Referer\":\"https://www.google.com/\"\n",
    "}\n",
    "\n",
    "res = requests.get(url,  # url\n",
    "                   params=params, # 요청파라미터들\n",
    "                   headers=req_headers) # 요청 header 정보들 \n",
    "print(\"응답상태코드:\",  res.status_code)\n",
    "if res.status_code == 200:\n",
    "    print(\"============응답데이터(text)==========\")\n",
    "    print(res.text)\n",
    "    d2 = res.json() # JSON 문자열 -> dictionary로 변환해서 반환.\n",
    "    print(\"==========응답헤더============\")\n",
    "    print(res.headers)"
   ]
  },
  {
   "cell_type": "code",
   "execution_count": 15,
   "metadata": {},
   "outputs": [
    {
     "data": {
      "text/plain": [
       "dict"
      ]
     },
     "execution_count": 15,
     "metadata": {},
     "output_type": "execute_result"
    }
   ],
   "source": [
    "type(d2)"
   ]
  },
  {
   "cell_type": "code",
   "execution_count": 13,
   "metadata": {},
   "outputs": [
    {
     "name": "stdout",
     "output_type": "stream",
     "text": [
      "<class 'dict'>\n",
      "3\n",
      "<class 'str'>\n"
     ]
    }
   ],
   "source": [
    "import json\n",
    "\n",
    "### json 형식 str -> dict\n",
    "d = json.loads(res.text)\n",
    "print(type(d))\n",
    "print(d['args']['page'])\n",
    "\n",
    "#### dict -> json형식 str\n",
    "t = json.dumps(d)\n",
    "print(type(t))\n"
   ]
  },
  {
   "cell_type": "markdown",
   "metadata": {
    "heading_collapsed": true
   },
   "source": [
    "### Post 요청 예"
   ]
  },
  {
   "cell_type": "code",
   "execution_count": 17,
   "metadata": {},
   "outputs": [
    {
     "name": "stdout",
     "output_type": "stream",
     "text": [
      "https://httpbin.org/post\n",
      "{\n",
      "  \"args\": {}, \n",
      "  \"data\": \"\", \n",
      "  \"files\": {}, \n",
      "  \"form\": {\n",
      "    \"fbm\": \"0\", \n",
      "    \"page\": \"3\", \n",
      "    \"query\": \"python\"\n",
      "  }, \n",
      "  \"headers\": {\n",
      "    \"Accept\": \"*/*\", \n",
      "    \"Accept-Encoding\": \"gzip, deflate\", \n",
      "    \"Content-Length\": \"25\", \n",
      "    \"Content-Type\": \"application/x-www-form-urlencoded\", \n",
      "    \"Host\": \"httpbin.org\", \n",
      "    \"Referer\": \"https://www.google.com/\", \n",
      "    \"User-Agent\": \"Mozilla/5.0 (Windows NT 10.0; Win64; x64) AppleWebKit/537.36 (KHTML, like Gecko) Chrome/123.0.0.0 Safari/537.36\", \n",
      "    \"X-Amzn-Trace-Id\": \"Root=1-67088448-7b49986e7d4809bb0f4ebcb8\"\n",
      "  }, \n",
      "  \"json\": null, \n",
      "  \"origin\": \"222.112.208.70\", \n",
      "  \"url\": \"https://httpbin.org/post\"\n",
      "}\n",
      "\n",
      "{'args': {}, 'data': '', 'files': {}, 'form': {'fbm': '0', 'page': '3', 'query': 'python'}, 'headers': {'Accept': '*/*', 'Accept-Encoding': 'gzip, deflate', 'Content-Length': '25', 'Content-Type': 'application/x-www-form-urlencoded', 'Host': 'httpbin.org', 'Referer': 'https://www.google.com/', 'User-Agent': 'Mozilla/5.0 (Windows NT 10.0; Win64; x64) AppleWebKit/537.36 (KHTML, like Gecko) Chrome/123.0.0.0 Safari/537.36', 'X-Amzn-Trace-Id': 'Root=1-67088448-7b49986e7d4809bb0f4ebcb8'}, 'json': None, 'origin': '222.112.208.70', 'url': 'https://httpbin.org/post'}\n"
     ]
    }
   ],
   "source": [
    "url = base_url.format(\"post\")\n",
    "print(url)\n",
    "# post방식은 요청 파라미터를 url뒤에 붙이지 않고 dictionary로 정의해서 함수에 전달.\n",
    "params = {\n",
    "    \"query\":\"python\",\n",
    "    \"fbm\": 0,\n",
    "    \"page\": 3\n",
    "}\n",
    "req_headers = {\n",
    "    \"user-agent\":\"Mozilla/5.0 (Windows NT 10.0; Win64; x64) AppleWebKit/537.36 (KHTML, like Gecko) Chrome/123.0.0.0 Safari/537.36\"\n",
    "    , \"Referer\":\"https://www.google.com/\"\n",
    "}\n",
    "\n",
    "res = requests.post(\n",
    "    url,\n",
    "    data=params,      \n",
    "    headers=req_headers\n",
    ")\n",
    "\n",
    "if res.status_code == 200:\n",
    "    print(res.text)     # -> str\n",
    "    print(res.json())  # JSON -> dict\n",
    "else:\n",
    "    print(\"실패:\", res.status_code)"
   ]
  },
  {
   "cell_type": "markdown",
   "metadata": {
    "slideshow": {
     "slide_type": "slide"
    }
   },
   "source": [
    "### 응답결과(Response) 조회"
   ]
  },
  {
   "cell_type": "code",
   "execution_count": 3,
   "metadata": {},
   "outputs": [],
   "source": [
    "from bs4 import BeautifulSoup\n",
    "import requests\n",
    "\n",
    "url = 'http://www.pythonscraping.com/pages/warandpeace.html'\n",
    "\n",
    "user_agent = \"Mozilla/5.0 (Windows NT 10.0; Win64; x64) AppleWebKit/537.36 (KHTML, like Gecko) Chrome/129.0.0.0 Safari/537.36\"\n",
    "\n",
    "res = requests.get(url, headers={\"user-agent\":user_agent})\n",
    "\n",
    "if res.status_code == 200:\n",
    "\n",
    "    soup = BeautifulSoup(res.text, \"lxml\")\n",
    "    green_list = soup.select(\"span.green\") # select(): 여러개조회. select_one(): 한개\n",
    "    search_names = []\n",
    "    for tag in green_list:# <span class=\"green\">Anna Pavlovna</span>\n",
    "        search_names.append(tag.text.replace(\"\\n\", ' '))\n",
    "else:\n",
    "    print(\"실패:\", res.status_code)"
   ]
  },
  {
   "cell_type": "code",
   "execution_count": 4,
   "metadata": {},
   "outputs": [
    {
     "data": {
      "text/plain": [
       "{'Abbe Morio',\n",
       " 'Anatole',\n",
       " 'Anna Pavlovna',\n",
       " 'Anna Pavlovna Scherer',\n",
       " \"Anna Pavlovna's\",\n",
       " 'Baron Funke',\n",
       " 'Dowager Empress Marya Fedorovna',\n",
       " 'Empress Marya Fedorovna',\n",
       " 'Her Majesty',\n",
       " 'King of Prussia',\n",
       " 'Montmorencys',\n",
       " 'Prince Vasili',\n",
       " 'Prince Vasili Kuragin',\n",
       " 'Rohans',\n",
       " 'St. Petersburg',\n",
       " 'The prince',\n",
       " 'Wintzingerode',\n",
       " 'le Vicomte de Mortemart',\n",
       " 'the Emperor',\n",
       " 'the Empress',\n",
       " 'the baron',\n",
       " 'the prince'}"
      ]
     },
     "execution_count": 4,
     "metadata": {},
     "output_type": "execute_result"
    }
   ],
   "source": [
    "set(search_names)"
   ]
  },
  {
   "cell_type": "code",
   "execution_count": null,
   "metadata": {},
   "outputs": [],
   "source": [
    "import pymysql\n",
    "\n",
    "\n",
    "# SQL 실행\n",
    "insert_sql = \"insert into category (classification) values (%s)\"\n",
    "\n",
    "with pymysql.connect(host=\"127.0.0.1\", port=3306, user='scott', password='tiger', db='accident') as conn:\n",
    "    with conn.cursor() as cursor:\n",
    "        result = cursor.executemany(insert_sql, classification)\n",
    "        conn.commit()\n",
    "        print(\"처리 행수:\", result)"
   ]
  },
  {
   "cell_type": "code",
   "execution_count": 16,
   "metadata": {},
   "outputs": [],
   "source": [
    "from bs4 import BeautifulSoup\n",
    "import requests\n",
    "\n",
    "url = 'https://www.genesis.com/kr/ko/support/faq.html?anchorID=faq_tab'\n",
    "\n",
    "user_agent = \"Mozilla/5.0 (Windows NT 10.0; Win64; x64) AppleWebKit/537.36 (KHTML, like Gecko) Chrome/129.0.0.0 Safari/537.36\"\n",
    "\n",
    "res = requests.get(url, headers={\"user-agent\":user_agent})\n",
    "res2 = requests.get(url, headers={\"user-agent\":user_agent})\n",
    "if res.status_code == 200:\n",
    "    soup = BeautifulSoup(res.text, \"lxml\")\n",
    "    soup2 = BeautifulSoup(res2.text, \"lxml\")\n",
    "    green_list = soup.select(\"a.accordion-btn\") # select(): 여러개조회. select_one(): 한개\n",
    "    green_list_title = soup2.select(\"strong.accordion-label\") # 분류 조회\n",
    "\n",
    "    search_title = []\n",
    "    search_names = []\n",
    "    for tag in range(len(green_list)):# <span class=\"green\">Anna Pavlovna</span>\n",
    "        search_names.append(green_list[tag].text.replace(\"\\n\", ' '))\n",
    "        search_title.append(green_list_title[tag].text.replace(\"\\n\", ' '))\n",
    "else:\n",
    "    print(\"실패:\", res.status_code)"
   ]
  },
  {
   "cell_type": "code",
   "execution_count": 61,
   "metadata": {
    "scrolled": true
   },
   "outputs": [
    {
     "name": "stdout",
     "output_type": "stream",
     "text": [
      "['  제네시스 구입 후 세금계산서 발급받으려고 하는데 어떻게 해야 하나요? ', '  제네시스 차량 구입 시 의무보험료란 금액을 납부하였습니다. 이것은 어떤 종류의 보험인가요? ', '  일정기간 이상 지난 차량은 자동차세가 경감된다고 하는데 그 내용을 알고 싶습니다. ', '  부가세 환급을 받을 수 있는 차종 및 조건은 무엇인가요? ', '  차량에 부과되는 세금은 어떤 종류가 있나요? ', '  제네시스 차량을 구입하려면 어떻게 해야하나요? ', '  차량구입에 관련된 금액은 어떠한 결제방식이 있나요? ', '  차량 계약금 및 차량 대금을 입금하려고 하는데 입금 계좌가 정해져 있나요? ', '  차량 계약 후 해지 시 계약금은 환불 받을 수 있나요? ', '  제네시스에서 중고차를 구입할 수 있나요? ', '  차량 계약 후 예상 납기일에 대해 알 수 있나요? ', '  신차 구입시 기존에 타던 차량을 팔고 인도금으로 대체할 수 있나요? ', '  자동차 리스에 대해 알고 싶어요. ', '  포인트는 유효기간이 있나요? ', '  본인 이외의 가족이 보유한 포인트를 사용할 수 있나요? ', '  장애인 차량 구입 조건에 대해 알고 싶습니다. ', '  장애인 조건으로 제네시스 차량 구입 시 혜택을 알고 싶습니다. ', '  세이브오토 및 M포인트 차감을 통해 차량 가격을 할인받았습니다. 그런데 세금계산서상 금액과 차이가 있는데 왜 그런가요? ', '  세이브오토 이용에 관해 알고 싶습니다. ', '  제네시스 차량 구입 시 신용카드는 얼마까지 이용할 수 있나요? ', '  제네시스 차량 구입시 신용카드는 복수의 카드로 결제가 가능한가요? ', '  제네시스 구입 시 차량대금을 신용카드로 결제할 경우 소득공제가 가능한가요? ', '  제네시스 차량 대금을 신용카드로 결제하려고 합니다. 계약자 이외의 다른 사람 카드로 결제가 가능한가요? ', '  제네시스 구입 시 할부금을 카드로 결제할 수 있나요? ', '  할부를 이용하여 차량을 구입하고자 합니다. 구비해야 할 서류는 어떤 것이 있나요? ', '  근저당 설정이 되어 있습니다. 어떻게 해야 하나요? ', '  인터넷으로 정비 예약은 어떻게 하는 건가요? ', '  정비 예약 시에 예약 대기란 무엇인가요? ', '  홈페이지의 아이디가 기억나지 않을 때는 어떻게 하나요? ', '  홈페이지의 비밀번호를 분실하였습니다. 어떻게 해야 되나요? ', '  비밀번호 및 개인정보를 변경하고 싶을 때는 어떻게 해야 하나요? ', '  제네시스 홈페이지에 있는 저작물 사용 시 어떤 제한을 받습니까? ', '  제품 카탈로그나 설명서의 내용을 사용해도 되는지 궁금합니다. ', '  제네시스 저작물 사용에 대해서 자세한 내용을 알려주세요. ', '  제네시스 홈페이지의 가입 대상을 알려주세요.  ', '  구글 플레이스토어 혹은 앱 스토어에서 MY GENESIS 앱이 안 보여요. 어떻게 해야 하나요?  ', '  MY GENESIS 앱 다운로드가 중간에 멈춰요. 어떻게 해야 하나요? ', '  앱을 사용하던 중 화면이 하얗게 변하면서 실행이 안 돼요 ', '  MY GENESIS 실행 후,  팝업창을 확인하면 앱이 자동으로 종료됩니다. 어떻게 해야 하나요?  ', '  제네시스 통합 회원 가입 과정에서 인증 문자가 오지 않아요. 어떻게 해야 하나요?  ', '  디지털 키는 어떻게 등록하나요? ', '  디지털 키 2는 어떻게 등록하나요?  ', '  아이폰에서 디지털 키를 사용할 수 있나요? ', '  기존 디지털 키 앱에서 디지털 키를 등록하여 사용하고 있습니다. MY GENESIS 앱에서 디지털 키를 새로 등록해야 하나요? ', '  디지털 키 등록이 안 돼요. ', \"  디지털 키 등록 중 '패드가 인식되지 않습니다. 스마트폰을 차량 무선 충전 패드에 올려 주세요.' 메시지가 보이며 등록이 실패할 경우 어떻게 해야 하나요? \", \"  차량 내비게이션 화면에 '디지털 키 등록이 취소되었습니다.' 메시지가 보이면서 디지털 키 등록이 안 돼요. \", \"  MY GENESIS 앱에서 디지털 키 등록 시 '연결 시도 중' 메시지가 보이면서 등록이 중단되거나, '디지털 키를 등록할 수 없습니다. 잠시 후 다시 시도해 주세요.' 메시지가 나타나는 경우는 어떻게 해야 하나요? \", '  MY GENESIS 앱에 차량이 여러 대 등록되어 있는데 모두 디지털 키를 등록할 수 있나요? ', '  디지털 키 등록을 완료했는데 디지털 키를 사용할 수 없어요. ', '  근거리 원격 제어(디지털 키) 버튼이 활성화되지 않아요. 어떻게 해야 하나요? ', '  사용하는 스마트폰이 2대인데 2대 모두 디지털 키를 사용할 수 있나요? ', '  제네시스 커넥티드 서비스는 어떻게 가입하나요? ', '  제네시스 커넥티드 서비스 앱이 종료되면 제네시스 커넥티드 서비스 5년 무료 이용권도 같이 종료되나요? ', '  마이 월렛에는 어떤 카드를 연동할 수 있나요? ', '  마이 월렛에서 제네시스 EV 충전 카드가 안 보이거나 활성화가 안 되어 있어요. ', '  MY GENESIS 앱에 신용카드를 연결해서 사용했는데, 카드사에서 승인 거절 문자 메시지가 왔어요. ', '  무상 혜택 쿠폰 잔여 회차는 어떻게 확인하나요?  ', '  차량 이용 권한 양도는 어떻게 하나요?  ', '  차량 이용 권한을 양도하면 차량의 대표 명의자도 변경되나요? ', '  법인 차량의 차량 이용 권한 양도는 어떻게 이루어지나요? ', '  차량 권한 양도 알림이 오지 않아요. ', '  차량 공유는 어떻게 하나요? ', '  차량 공유 기간은 어느 정도인가요? ', '  차량 공유는 어떻게 해지하나요? ', \"  MY GENESIS 앱에서 '차량 공유 요청하기'와 같은 기능은 없나요? \", '  차량 공유 알림이 오지 않아요. ', \"  차량번호를 입력했는데 '차량 정보가 일치하지 않습니다.' 메시지가 보이면서 진행이 안 돼요.  \", '  법인 차량인데 QR 코드로 차량 등록이 안 돼요. ', '  차량 등록을 위해 서류를 제출했는데 승인까지 얼마나 기다려야 하나요? ', '  법인 차량을 등록하기 위해 서류 제출로 차량을 등록했는데, 아직도 서류 확인 중으로 나와요. ', '  차량은 등록되어 있는데 차량번호가 안 보여요. ', \"  중고로 구매한 차량을 QR코드로 등록하려고 하는데 '다른 고객님께서 이미 등록하신 차량입니다.' 메시지가 보이면서 차량 등록이 안 돼요.  \", \"  차량 등록 과정에서 '이미 등록된 차량입니다.'라는 메시지가 보여요. \", '  공동 명의로 차량을 출고하였는데, 대표 명의자가 아닌 공동 명의자가 앱에서 차량을 사용하려면 어떻게 해야 하나요? ', '  빌트인 캠 영상은 어떻게 확인하나요? ', '  기존의 제네시스 커넥티드 서비스 앱에서 사용했던 기능들이 없어요. ', \"  위젯에 '네트워크 연결을 할 수 없습니다. 상태를 확인해 주세요.' 메시지가 보이면서 위젯을 사용할 수 없어요. \", '  제네시스 프리빌리지 서비스로 프리미엄 차량 관리 서비스를 신청했는데, 바우처는 어디에서 볼 수 있나요? ', '  중고차를 구입하여 MY GENESIS 앱에서 실운행자로 등록하여 사용하고 있는데 프리빌리지 서비스가 조회되지 않아요. ', '  모빌리티 케어 쿠폰은 어떻게 조회하나요? ', '  차량을 공유 받았는데 모빌리티 케어 쿠폰이 안 보여요. ', '  모빌리티 케어 쿠폰 잔여가 있으나 0개로 조회되어 오토케어 상담 예약을 할 수 없는데 어떻게 해야 하나요? ', '  충전소 결제가 안 돼요. ', '  차량을 매각했는데 충전 크레딧은 어떻게 확인하나요? ', '  12V 배터리 상세진단 기능은 어떻게 이용할 수 있나요? ', '  소모품 현황을 직접 등록할 수 있나요? ', '  차량 공유 및 권한 양도를 했는데, 차량의 이전 주행기록이 보이지 않아요. ', '  차계부 내역을 직접 등록할 수 있나요? ', '  간편 비밀번호(PIN) 초기화는 어떻게 하나요? ', '  MY GENESIS 앱을 사용할 때 본인 명의의 휴대폰을 사용해야 하나요? ', '  멤버십은 어떻게 등록하고 포인트를 사용/적립할 수 있나요? ', '  법인 명의 차량도 가입 가능하나요? ', '  타인 명의 차량으로도 제네시스 카페이를 이용할 수 있나요? ', '  차량 리스트에서 차량을 삭제하고 싶습니다. 어떻게 해야 하나요? ', '  차량이 외부 해제 상태인데, 해당 차량을 어떻게 다시 이용할 수 있나요? ', '  매장에서 주차요금 종이 할인권을 받았습니다. 종이 할인권은 어떻게 사용하나요? ', '  결제 비밀번호 등록은 어떻게 하나요? ', '  결제 비밀번호는 언제 사용하나요? ', '  제네시스 카페이 주차장 결제 시, 다자녀 할인이나 장애인 할인 등을 받을 수 있나요? ', '  주차요금을 제네시스 카페이로 정산한 뒤에, 바로 출차하지 않아 추가요금이 발생하면 추가요금은 어떻게 결제해야 하나요? ', '  주차요금이 0원 상황에서 시동을 켜거나 제네시스 카페이 결제를 요청하면 어떻게 되나요? ', '  결제 완료 후에도 멤버십 포인트를 사용하거나 주차권 할인을 받을 수 있나요? ', '  제네시스 카페이 결제 한도는 어떻게 되나요?  ', '  제네시스 카페이로 결제한 내역을 어디서 확인할 수 있나요?  ', '  제네시스 카페이로 결제했는데 취소하고 싶습니다. 어떻게 해야 하나요?  ', '  제네시스 카페이는 어디서 사용할 수 있나요? ', '  내비게이션에서도 서비스 가맹점을 확인할 수 있나요?  ', '  제휴 가맹점은 앞으로 늘어날 계획이 있나요? ', '  제휴 주유소에 도착하기 전에 미리 결제할 수 있나요? ', '  차량 소유주가 아닌 사람도 제네시스 카페이를 가입할 수 있나요? ', '  제네시스 카페이 가입 가능한 차종이 어떻게 되나요?  ', '  차량 매각 시 자동으로 서비스가 해지되나요? ', '  멤버십은 어떻게 삭제하나요? ', '  멤버십 포인트 잔액은 어떻게 확인하나요? ', '  분실 신고로 카드가 정지되면 제네시스 카페이에서도 카드가 정지되나요? ', '  실물 카드를 재발급 받으면 카드를 재등록해야 하나요? ', '  차량 분실/도난 시 타인이 제네시스 카페이를 사용할 수 있나요? ', '  결제 비밀번호를 3회 이상 틀리면 어떻게 되나요? ', '  차량번호를 변경해도 서비스를 계속 사용할 수 있나요? ', '  서비스 요금은 어떻게 되나요? ', '  제네시스 카페이에 카드 등록 시, 카드 연회비가 추가로 발생하나요? ', '  서비스 탈퇴는 어떻게 할 수 있나요? ', '  제네시스 카페이 가입은 어떻게 할 수 있나요? 방법을 알고 싶습니다.  ', '  왜 제네시스 커넥티드 서비스에 꼭 가입해야 제네시스 카페이에 가입할 수 있나요? ', '  결제 카드 등록은 어떻게 할 수 있나요?  ', '  법인카드도 등록할 수 있나요? ', '  카드는 최대 몇 개까지 등록할 수 있나요? ', '  타인 명의 신용/체크 카드도 등록할 수 있나요?  ', '  제네시스 카페이를 이용할 차량은 어떻게 등록하나요? ', '  차량 매각/양도 시에도 서비스를 계속 이용할 수 있나요? ', '   스마트폰의 Android Wear앱에서 LG Watch Style 연결 시도시 “연결 시도 중…”이라는 문구가 나오며 연결이 되지 않습니다. ', '   단말기 전화번호는 어디서 확인하나요? ', '   ‘커넥티드 서비스 스마트폰 앱과의 연결이 해제되었습니다’라는 문구가 나오며 스마트워치 어플리케이션이 실행되지 않습니다. ', '   자동차전용도로(올림픽도로, 강변북로 등)에서 휘발유가 떨어진 경우에도 긴급 주유 서비스가 제공되나요? ', '   긴급 견인 출동 요원이 견인을 하면서 특수 장비가 필요한 경우 추가 비용이 드나요? ', '   도난 추적 서비스 요청을 했는데, 추적이 불가능한 경우가 있나요? ', '   제네시스 커넥티드 서비스 어플리케이션 인증 비밀번호 변경은 어떻게 하나요? ', '   원격 공조 제어 서비스 이용 시 시동만 켤 수는 없나요? ', '  제네시스 커넥티드 서비스 유료 요금제가 어떻게 되나요? ', '  제네시스 커넥티드 서비스 보증기간이 어떻게 되나요? ', '  제네시스 커넥티드 서비스 이용 시 오류가 발생합니다. ', '  원격 공조 제어 서비스를 사용했는데 계속 비상등이 켜져 깜박입니다. ', '  GPS 수신이 안됩니다.  ', '  주행 중에 시스템 조작이 안됩니다.  ', '  서비스 이용 중 가입 정보 변경이 필요할 때는 어떻게 하나요? ', '  리스차량으로 제네시스 커넥티드 서비스를 이용하다가 차량을 반납할 때는 어떻게 해야하나요? ', '  제네시스 커넥티드 서비스를 이용하다가 차량을 매각하거나 타인에게 양도한 경우에는 어떻게 해야 하나요? ', '  제네시스 커넥티드 서비스를 해지하고 싶습니다. ', '  제네시스 커넥티드 서비스는 어떻게 가입하나요? ', '   스마트폰과 스마트워치가 연결 되었는데 스마트워치 메뉴에 제네시스 커넥티드 서비스 어플리케이션이 보이지 않습니다. ', '  중고차를 구입했는데 제네시스 커넥티드 서비스에 가입할 수 있나요? ', '  차량 계약자와 실 사용자가 다를 경우 실 사용자 명의로 제네시스 커넥티드 서비스를 가입할 수 있나요? ', '  법인/리스/렌트 차량도 제네시스 커넥티드 서비스를 가입할 수 있나요? ', '  가입자 정보는 어떻게 변경하나요? ', '  제네시스 커넥티드 서비스를 가입하면 어떤 서비스가 제공되나요? ', '   SOS 서비스로 긴급출동을 요청했을 경우 제공 받을 수 있는 서비스는 어떤 것이 있나요? ', '   도난 경보 알림 서비스는 어떻게 이용하나요? ', '   도난 추적 서비스 요청은 어떻게 해야 하나요? ', '  차량진단 서비스는 어떻게 이용하나요? ', '  월간 리포트가 무엇인가요? ', '  에어백 전개 자동통보 서비스는 어떻게 이용하나요? ', '   제네시스 커넥티드 서비스 앱은 어떻게 사용하나요? ', '   제네시스 커넥티드 서비스 앱에 여러 대의 차량을 등록할 수 있나요? ', '   다른 사람에게 제네시스 커넥티드 서비스 가입 차량을 공유할 수 있나요? ', '  사용 중인 제네시스 커넥티드 서비스 요금제가 궁금합니다. ', '  요금제 납부 방식을 변경하고 싶습니다. ', '  요금 미납을 했을 경우 가산금은 몇%인가요?  ', '  제네시스 커넥티드 서비스 가입 차량을 매각하면 자동으로 해지되나요? ', '   디지털 키 2 는 어떻게 등록하나요? ', '   디지털 키 2 는 어떻게 공유하나요? ', '   친구나 가족이 디지털 키를 공유 받아 사용하기 위해서 무엇이 필요한가요? ', '   사용자는 여러 개의 스마트폰에 디지털 키를 저장할 수 있나요? ', '   주행 중에도 스마트폰을 무선 충전 패드에 올려두어야 하나요? ', '   차량을 판매하면 스마트폰에 등록된 디지털 키는 어떻게 되나요? ', '   통신이 잘 되지 않는 곳에서도 디지털 키를 사용할 수 있나요? ', '   스마트폰 배터리가 부족한 상태에서 디지털 키를 사용할 수 있나요? ', '   NFC 카드 키를 지갑에 넣고 사용할 수 있나요? ', '   NFC 카드 키를 스마트폰 케이스에 넣어서 사용할 수 있나요? ', '   차량 도어 잠금 및 해제를 위해서 스마트폰을 차량 도어 손잡이에 얼마나 가까이 가져가야 하나요? ', '   디지털 키 2는 특정 스마트폰에서만 사용 가능한가요? ', '  빌트인 캠 녹화 영상이 없습니다.\\xa0어떻게 해야 하나요? ', '  업데이트할 때 에러가 발생합니다.\\xa0어떻게 해야 하나요? ', '  스마트폰 USB 케이블 연결이 잘 안됩니다. 어떻게 해야 하나요? ', '  이벤트 알림을 설정했는데도 알림 메시지가 오지 않습니다. 어떻게 해야 하나요?  ', '  녹화 영상 관리 방법이 궁금합니다. ', '  빌트인 캠 업데이트를 하지 않으면 영상 녹화가 안 되나요? ', '  USB 메모리 저장 버튼이 활성화가 안됩니다. 어떻게 해야 하나요? ', '  무선 소프트웨어 업데이트로 차량 시스템 업데이트 가능하다는 문자와 고객통지문을 받았는데 언제 업데이트를 받을 수 있나요? ', '  무선 통신으로 차량에 소프트웨어가 자동으로 다운로드 된다고 들었는데, 다운로드 현황은 어떻게 확인 가능한가요? ', '  다운로드와 설치 준비가 완료되었는데, 업데이트 안내 팝업이 나타나지 않는다면 차량에 문제가 있는 건가요? ', '  업데이트가 완료되면 업데이트 내용은 어디서 확인 가능한가요?  ', '  MY GENESIS App(앱)으로 업데이트 완료 여부를 확인 가능한가요?  ']\n"
     ]
    }
   ],
   "source": [
    "import re\n",
    "cnt = 1\n",
    "se = []\n",
    "cleaned_text = []\n",
    "for i,b in zip(search_names, search_title):\n",
    "    cleaned_text.append(re.sub(r'\\[.*?\\]', '', i))\n",
    "    cnt += 1\n",
    "print(cleaned_text)"
   ]
  },
  {
   "cell_type": "code",
   "execution_count": 42,
   "metadata": {},
   "outputs": [],
   "source": [
    "import re"
   ]
  },
  {
   "cell_type": "code",
   "execution_count": 69,
   "metadata": {},
   "outputs": [
    {
     "name": "stdout",
     "output_type": "stream",
     "text": [
      "처리 행수: 8\n"
     ]
    }
   ],
   "source": [
    "import pymysql\n",
    "\n",
    "\n",
    "# SQL 실행\n",
    "insert_sql = \"insert into category(classification) values (%s)\"\n",
    "\n",
    "with pymysql.connect(host=\"127.0.0.1\", port=3306, user='scott', password='tiger', db='accident') as conn:\n",
    "    with conn.cursor() as cursor:\n",
    "        result = cursor.executemany(insert_sql, set(search_title))\n",
    "        conn.commit()\n",
    "        print(\"처리 행수:\", result)"
   ]
  },
  {
   "cell_type": "markdown",
   "metadata": {},
   "source": [
    "## binary date 를 다운로드"
   ]
  },
  {
   "cell_type": "code",
   "execution_count": 24,
   "metadata": {},
   "outputs": [
    {
     "name": "stdout",
     "output_type": "stream",
     "text": [
      "<class 'bytes'>\n"
     ]
    }
   ],
   "source": [
    "url = \"https://www.kia.com/content/dam/kwp/kr/ko/main-kv-contents/202311/kv_the_new_carnival_pc.jpg\"\n",
    "\n",
    "res = requests.get(url, headers={\"user-agent\":user_agent})\n",
    "\n",
    "if res.status_code == 200:\n",
    "    file = res.content  # binary 데이터 -> bytes으로 반환.\n",
    "    print(type(file))\n",
    "    with open(\"car.jpg\", \"wb\") as fo:\n",
    "        fo.write(file)"
   ]
  },
  {
   "cell_type": "markdown",
   "metadata": {},
   "source": [
    "## Daum New 목록 조회\n",
    "- https://news.daum.net 의 뉴스기사 목록에서 제목, 상세뉴스 url을 수집해서 csv 파일에 저장\n",
    "- 크롤링시 확인할 내용\n",
    "    - 요청 url을 파악한다.\n",
    "    - 페이지에서 수집할 내용을 찾는 방법을 웹브라우저 **개발자 도구를 이용해 찾는다.**\n",
    "    - 요청시 전달할 **요청정보들(header, cookie 등 정보) 를 개발자 도구를 이용해 찾는다.**"
   ]
  },
  {
   "cell_type": "markdown",
   "metadata": {},
   "source": [
    "> ### CSV 형식 파일\n",
    "> - Comma Separate Value\n",
    "> - 정형(표형태) 데이터를 text 파일에 저장하는 방식(형식)\n",
    "> - 한행에 한개의 데이터를 저장\n",
    "> - 데이터를 구성하는 속성들은 \",\" 를 구분자로 나눠서 작성한다.\n",
    "> - 예\n",
    "> ```csv\n",
    "> 이름,나이,주소\n",
    "> 홍길동,20,인천\n",
    "> 이순신,15,서울\n",
    "> 강감찬,30,부산\n",
    "> ```"
   ]
  },
  {
   "cell_type": "code",
   "execution_count": 27,
   "metadata": {},
   "outputs": [
    {
     "data": {
      "text/plain": [
       "'2024-10-11-11-35-37.csv'"
      ]
     },
     "execution_count": 27,
     "metadata": {},
     "output_type": "execute_result"
    }
   ],
   "source": [
    "from datetime import datetime\n",
    "datetime.now().strftime(\"%Y-%m-%d-%H-%M-%S\")+\".csv\""
   ]
  },
  {
   "cell_type": "code",
   "execution_count": 29,
   "metadata": {},
   "outputs": [],
   "source": [
    "# 실습\\daum_new_list.py\n",
    "## https://news.daum.net\n",
    "\n",
    "# pip install requests beautifulsoup4\n",
    "import requests\n",
    "from bs4 import BeautifulSoup\n",
    "\n",
    "url = \"https://news.daum.net\"\n",
    "# 뉴스제목: <a>의 content, 링크주소: <a>의 href 속성값\n",
    "a_selector = \"body > div.container-doc > main > section > div > div.content-article > div.box_g.box_news_issue > ul > li > div > div > strong > a\"\n",
    "# user-agent: 1.개발자도구>콘솔: navigator.userAgent, 2. google검색: my user agent 검색\n",
    "user_agent = 'Mozilla/5.0 (Windows NT 10.0; Win64; x64) AppleWebKit/537.36 (KHTML, like Gecko) Chrome/123.0.0.0 Safari/537.36'\n",
    "\n",
    "def get_daum_news_list():\n",
    "    \"\"\"\n",
    "    다음 뉴스 기사 목록을 크롤링하는 함수.\n",
    "    news.daum.net의 기사 목록에서 \"제목\", \"링크\" 들을 수집.\n",
    "\n",
    "    aguments\n",
    "    return\n",
    "        DataFrame: 조회결과들을 담은 DataFrame(표)\n",
    "    raise\n",
    "        Exception: 처리 실패시 발생\n",
    "    \"\"\"\n",
    "    # 1. 요청\n",
    "    res = requests.get(url, headers={\"user-agent\":user_agent})\n",
    "    # 2. 응답 페이지에서 필요한 정보 추출\n",
    "    if res.status_code == 200:\n",
    "        soup = BeautifulSoup(res.text, \"lxml\")\n",
    "        a_list = soup.select(a_selector)# [<a href=\"url\">제목</a>, ...]\n",
    "        result_list = []\n",
    "        for a_tag in a_list:\n",
    "            title = a_tag.get_text() # 뉴스제목. a_tag.text\n",
    "            link = a_tag.get(\"href\") # 개별뉴스 페이지 url. a_tag['href']\n",
    "            result_list.append([title.strip(), link])\n",
    "        \n",
    "        return result_list\n",
    "    else:\n",
    "        raise Exception(f\"요청 실패. 응답코드: {res.status_code}\")      \n",
    "\n",
    "if __name__ == \"__main__\":\n",
    "    result = get_daum_news_list()\n",
    "    # from pprint import pprint\n",
    "    # pprint(result)\n",
    "    \n",
    "    # 저장할 디렉토리를 생성\n",
    "    import os\n",
    "    from datetime import datetime\n",
    "    import pandas as pd\n",
    "    save_dir = \"daum_news_list\"\n",
    "    os.makedirs(save_dir, exist_ok=True)\n",
    "    \n",
    "    # 저장할 파일명 - 특정 기간마다 크롤링 수행할 경우 실행 날짜/시간을 이용해서 만들어 준다.\n",
    "    d = datetime.now().strftime(\"%Y-%m-%d-%H-%M-%S\")\n",
    "    file_path = f\"{save_dir}/{d}.csv\"\n",
    "    # DataFrame 생성\n",
    "    result_df = pd.DataFrame(result, columns=['제목', \"링크주소\"])\n",
    "    # csv 파일로 저장.\n",
    "    result_df.to_csv(file_path, index=False)"
   ]
  },
  {
   "cell_type": "markdown",
   "metadata": {},
   "source": [
    "# Open API 를 이용\n",
    "\n",
    "Open API는 말 그대로 공개된 프로그래밍 인터페이스로, 외부 개발자나 사용자가 특정 서비스나 애플리케이션에 접근하여 서비스를 받을 수 있도록 공개된 API이다.\n",
    "\n",
    "## 정의\n",
    "\n",
    "Open API는 애플리케이션 개발자가 공개된 API를 사용해 다른 서비스와 애플리케이션을 연동할 수 있도록 만든 인터페이스이다. \n",
    "일반적으로 RESTful API 형식으로 서비스 한다.\n",
    "\n",
    "## 특징\n",
    "\n",
    "- 공개성: 누구나 접근할 수 있으며, 문서화가 잘 되어 있어 사용자가 쉽게 활용할 수 있음.\n",
    "- 표준화: 대부분 표준화된 HTTP 프로토콜과 JSON, XML 형식을 사용.\n",
    "- 보안성: API 키나 OAuth 같은 인증 방식으로 보안을 유지.\n",
    "\n",
    "## 사용 사례\n",
    "다양한 기업, 공공기관에서 다양한 서비스를 오픈 api로 제공한다. \n",
    "\n",
    "- 구글 맵 API: 외부 애플리케이션에서 구글 맵을 활용할 수 있게 해주는 대표적인 Open API.\n",
    "- 트위터 API: 트위터(X) 데이터를 외부에서 가져오거나 포스팅할 수 있도록 제공.\n",
    "- 네이버 개발자 오픈 API: 네이버의 다양한 서비스를 제공. (검색, 검색어 트랜드 조회, 캘린더 등)"
   ]
  },
  {
   "cell_type": "markdown",
   "metadata": {},
   "source": [
    "## 공공데이터 포털 데이터 조회\n",
    "- 서비스를 받기위한 API 키를 신청한다.\n",
    "- 가이드에 따라 요청방식, 요청 URL, 전달 값을 맞춰 요청한다."
   ]
  },
  {
   "cell_type": "markdown",
   "metadata": {},
   "source": [
    "> ### JSON 형식 파일\n",
    "> - 데이터를 text파일에 저장하는 형식으로 Javascript 객체 표기법을 이용한다.\n",
    "> - 파이썬의 dictionary 표기법과 동일다.\n",
    "> - 파이썬은 json 표준 모듈을 이용해 처리한다.\n",
    ">     - json.dump(): dictionary를 json 형식 문자열로 변환\n",
    ">     - json.load(): json 파일을 읽어 dictionary로 반환"
   ]
  },
  {
   "cell_type": "code",
   "execution_count": 18,
   "metadata": {
    "scrolled": true
   },
   "outputs": [
    {
     "name": "stdout",
     "output_type": "stream",
     "text": [
      "<class 'dict'>\n",
      "15\n",
      "[{'대수': 1,\n",
      "  '데이터기준일자': '2024-03-12',\n",
      "  '주소': '경기도 광명시 광명로 928번길 18-20(광명3동 행정복지센터)',\n",
      "  '행정동': '광명3동'},\n",
      " {'대수': 1,\n",
      "  '데이터기준일자': '2024-03-12',\n",
      "  '주소': '경기도 광명시 오리로 1018(광명종합사회복지관)',\n",
      "  '행정동': '광명3동'},\n",
      " {'대수': 2,\n",
      "  '데이터기준일자': '2024-03-12',\n",
      "  '주소': '경기도 광명시 너부대로35번길 20(광명5동 행정복지센터)',\n",
      "  '행정동': '광명5동'},\n",
      " {'대수': 1,\n",
      "  '데이터기준일자': '2024-03-12',\n",
      "  '주소': '경기도 광명시 광명로 791번길 6(광명6동 행정복지센터)',\n",
      "  '행정동': '광명6동'},\n",
      " {'대수': 1,\n",
      "  '데이터기준일자': '2024-03-12',\n",
      "  '주소': '경기도 광명시 식곡길 34(광명6동 옥길경로당)',\n",
      "  '행정동': '광명6동'},\n",
      " {'대수': 1,\n",
      "  '데이터기준일자': '2024-03-12',\n",
      "  '주소': '경기도 광명시 새터로 13(광명7동 행정복지센터)',\n",
      "  '행정동': '광명7동'},\n",
      " {'대수': 2,\n",
      "  '데이터기준일자': '2024-03-12',\n",
      "  '주소': '경기도 광명시 사성로 121(철산1동 행정복지센터)',\n",
      "  '행정동': '철산1동'},\n",
      " {'대수': 1,\n",
      "  '데이터기준일자': '2024-03-12',\n",
      "  '주소': '경기도 광명시 시청로 93(도로 맞은편 현충근린공원 버스정류장)',\n",
      "  '행정동': '철산2동'},\n",
      " {'대수': 1,\n",
      "  '데이터기준일자': '2024-03-12',\n",
      "  '주소': '경기도 광명시 오리로 747(하안1동 행정복지센터)',\n",
      "  '행정동': '하안1동'},\n",
      " {'대수': 1,\n",
      "  '데이터기준일자': '2024-03-12',\n",
      "  '주소': '경기도 광명시 오리로 613(광명보건소 앞 재활용마당)',\n",
      "  '행정동': '하안1동'},\n",
      " {'대수': 1,\n",
      "  '데이터기준일자': '2024-03-12',\n",
      "  '주소': '경기도 광명시 안재로2번길 43(단독필지삼거리 입구)',\n",
      "  '행정동': '하안1동'},\n",
      " {'대수': 1,\n",
      "  '데이터기준일자': '2024-03-12',\n",
      "  '주소': '경기도 광명시 소하로 25(소하1동 행정복지센터)',\n",
      "  '행정동': '소하1동'},\n",
      " {'대수': 1,\n",
      "  '데이터기준일자': '2024-03-12',\n",
      "  '주소': '경기도 광명시 성채로 52(소하2동 행정복지센터)',\n",
      "  '행정동': '소하2동'},\n",
      " {'대수': 1,\n",
      "  '데이터기준일자': '2024-03-12',\n",
      "  '주소': '경기도 광명시 설월로 10(소하2동 복지회관)',\n",
      "  '행정동': '소하2동'},\n",
      " {'대수': 1,\n",
      "  '데이터기준일자': '2024-03-12',\n",
      "  '주소': '경기도 광명시 서독로 104번길 14(학온동 행정복지센터)',\n",
      "  '행정동': '학온동'}]\n"
     ]
    }
   ],
   "source": [
    "import requests\n",
    "import json\n",
    "\n",
    "\n",
    "url = 'https://api.odcloud.kr/api/15127133/v1/uddi:ea3c3b5a-3bd8-4faf-b155-bb2af3cc3377'\n",
    "with open('api_key.json', 'rt') as fr:\n",
    "    key_dict = json.load(fr)\n",
    "\n",
    "key = key_dict['apikey']\n",
    "params ={'serviceKey' : key_dict[\"apikey\"],\n",
    "         'pageNo' : 1, \n",
    "         'perPage': 20,}\n",
    "\n",
    "response = requests.get(url, params=params)\n",
    "if response.status_code == 200:\n",
    "    result = response.json()\n",
    "    print(type(result))\n",
    "    from pprint import pprint\n",
    "    print(len(result['data']))\n",
    "    pprint(result['data'])"
   ]
  },
  {
   "cell_type": "code",
   "execution_count": 17,
   "metadata": {
    "scrolled": true
   },
   "outputs": [
    {
     "ename": "NameError",
     "evalue": "name 'result' is not defined",
     "output_type": "error",
     "traceback": [
      "\u001b[1;31m---------------------------------------------------------------------------\u001b[0m",
      "\u001b[1;31mNameError\u001b[0m                                 Traceback (most recent call last)",
      "Cell \u001b[1;32mIn[17], line 1\u001b[0m\n\u001b[1;32m----> 1\u001b[0m \u001b[43mresult\u001b[49m\n",
      "\u001b[1;31mNameError\u001b[0m: name 'result' is not defined"
     ]
    }
   ],
   "source": [
    "result"
   ]
  }
 ],
 "metadata": {
  "kernelspec": {
   "display_name": "Python 3 (ipykernel)",
   "language": "python",
   "name": "python3"
  },
  "language_info": {
   "codemirror_mode": {
    "name": "ipython",
    "version": 3
   },
   "file_extension": ".py",
   "mimetype": "text/x-python",
   "name": "python",
   "nbconvert_exporter": "python",
   "pygments_lexer": "ipython3",
   "version": "3.12.5"
  },
  "toc": {
   "base_numbering": 1,
   "nav_menu": {},
   "number_sections": true,
   "sideBar": false,
   "skip_h1_title": false,
   "title_cell": "Table of Contents",
   "title_sidebar": "Contents",
   "toc_cell": false,
   "toc_position": {},
   "toc_section_display": false,
   "toc_window_display": false
  },
  "varInspector": {
   "cols": {
    "lenName": 16,
    "lenType": 16,
    "lenVar": 40
   },
   "kernels_config": {
    "python": {
     "delete_cmd_postfix": "",
     "delete_cmd_prefix": "del ",
     "library": "var_list.py",
     "varRefreshCmd": "print(var_dic_list())"
    },
    "r": {
     "delete_cmd_postfix": ") ",
     "delete_cmd_prefix": "rm(",
     "library": "var_list.r",
     "varRefreshCmd": "cat(var_dic_list()) "
    }
   },
   "types_to_exclude": [
    "module",
    "function",
    "builtin_function_or_method",
    "instance",
    "_Feature"
   ],
   "window_display": false
  }
 },
 "nbformat": 4,
 "nbformat_minor": 4
}
