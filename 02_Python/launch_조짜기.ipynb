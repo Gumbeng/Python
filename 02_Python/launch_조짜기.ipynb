{
 "cells": [
  {
   "cell_type": "code",
   "execution_count": 1,
   "id": "0f083512",
   "metadata": {},
   "outputs": [],
   "source": [
    "import random"
   ]
  },
  {
   "cell_type": "code",
   "execution_count": 1,
   "id": "0964d942",
   "metadata": {},
   "outputs": [
    {
     "name": "stdout",
     "output_type": "stream",
     "text": [
      "27\n"
     ]
    }
   ],
   "source": [
    "stu_list = [\n",
    "    \"강채연\",\n",
    "    \"고성주\",\n",
    "    # \"공인용\",\n",
    "    \"김동명\",\n",
    "    \"김동훈\",\n",
    "    \"김승현\",\n",
    "    \"김지영\",\n",
    "    \"김희민\",\n",
    "    \"노원재\",\n",
    "    \"박미현\",\n",
    "    \"박서윤\",\n",
    "    \"박유나\",\n",
    "    \"박창규\",\n",
    "    \"배성현\",\n",
    "    # \"백하은\",\n",
    "    \"성은진\",\n",
    "    \"안형진\",\n",
    "    \"유경상\",\n",
    "    \"유일환\",\n",
    "    \"이세화\",\n",
    "    # \"임연경\",\n",
    "    \"장예린\",\n",
    "    \"전수연\",\n",
    "    \"전하연\",\n",
    "    \"정민준\",\n",
    "    \"정유진\",\n",
    "    \"정지원\",\n",
    "    \"조하늘\",\n",
    "    \"조해원\",\n",
    "    \"홍준  \"\n",
    "\n",
    "]\n",
    "print(len(stu_list))"
   ]
  },
  {
   "cell_type": "code",
   "execution_count": 7,
   "id": "3847493d",
   "metadata": {},
   "outputs": [
    {
     "ename": "NameError",
     "evalue": "name 'random' is not defined",
     "output_type": "error",
     "traceback": [
      "\u001b[1;31m---------------------------------------------------------------------------\u001b[0m",
      "\u001b[1;31mNameError\u001b[0m                                 Traceback (most recent call last)",
      "Cell \u001b[1;32mIn[7], line 2\u001b[0m\n\u001b[0;32m      1\u001b[0m num \u001b[38;5;241m=\u001b[39m \u001b[38;5;241m4\u001b[39m\n\u001b[1;32m----> 2\u001b[0m \u001b[43mrandom\u001b[49m\u001b[38;5;241m.\u001b[39mshuffle(stu_list)\n\u001b[0;32m      3\u001b[0m result \u001b[38;5;241m=\u001b[39m [stu_list[i \u001b[38;5;241m*\u001b[39m num : (i \u001b[38;5;241m+\u001b[39m \u001b[38;5;241m1\u001b[39m) \u001b[38;5;241m*\u001b[39m num] \u001b[38;5;28;01mfor\u001b[39;00m i \u001b[38;5;129;01min\u001b[39;00m \u001b[38;5;28mrange\u001b[39m((\u001b[38;5;28mlen\u001b[39m(stu_list) \u001b[38;5;241m+\u001b[39m num \u001b[38;5;241m-\u001b[39m \u001b[38;5;241m1\u001b[39m) \u001b[38;5;241m/\u001b[39m\u001b[38;5;241m/\u001b[39m num )] \n",
      "\u001b[1;31mNameError\u001b[0m: name 'random' is not defined"
     ]
    }
   ],
   "source": [
    "num = 4\n",
    "random.shuffle(stu_list)\n",
    "result = [stu_list[i * num : (i + 1) * num] for i in range((len(stu_list) + num - 1) // num )] "
   ]
  },
  {
   "cell_type": "code",
   "execution_count": 6,
   "id": "0523bf22",
   "metadata": {},
   "outputs": [
    {
     "ename": "NameError",
     "evalue": "name 'result' is not defined",
     "output_type": "error",
     "traceback": [
      "\u001b[1;31m---------------------------------------------------------------------------\u001b[0m",
      "\u001b[1;31mNameError\u001b[0m                                 Traceback (most recent call last)",
      "Cell \u001b[1;32mIn[6], line 1\u001b[0m\n\u001b[1;32m----> 1\u001b[0m \u001b[38;5;28;01mfor\u001b[39;00m idx, r \u001b[38;5;129;01min\u001b[39;00m \u001b[38;5;28menumerate\u001b[39m(\u001b[43mresult\u001b[49m, start\u001b[38;5;241m=\u001b[39m\u001b[38;5;241m1\u001b[39m):\n\u001b[0;32m      2\u001b[0m     \u001b[38;5;28mprint\u001b[39m(\u001b[38;5;124mf\u001b[39m\u001b[38;5;124m\"\u001b[39m\u001b[38;5;132;01m{\u001b[39;00midx\u001b[38;5;132;01m}\u001b[39;00m\u001b[38;5;124m조: \u001b[39m\u001b[38;5;124m\"\u001b[39m, end\u001b[38;5;241m=\u001b[39m\u001b[38;5;124m\"\u001b[39m\u001b[38;5;124m\"\u001b[39m)\n\u001b[0;32m      3\u001b[0m     \u001b[38;5;28;01mfor\u001b[39;00m name \u001b[38;5;129;01min\u001b[39;00m r:\n",
      "\u001b[1;31mNameError\u001b[0m: name 'result' is not defined"
     ]
    }
   ],
   "source": [
    "for idx, r in enumerate(result, start=1):\n",
    "    print(f\"{idx}조: \", end=\"\")\n",
    "    for name in r:\n",
    "        print(name, end=',  ')\n",
    "    print()"
   ]
  },
  {
   "cell_type": "code",
   "execution_count": 5,
   "id": "602151ea",
   "metadata": {},
   "outputs": [
    {
     "ename": "SyntaxError",
     "evalue": "invalid syntax (2828906933.py, line 1)",
     "output_type": "error",
     "traceback": [
      "\u001b[1;36m  Cell \u001b[1;32mIn[5], line 1\u001b[1;36m\u001b[0m\n\u001b[1;33m    1조: 고성주,  안형진,  정민준,  김동명\u001b[0m\n\u001b[1;37m     ^\u001b[0m\n\u001b[1;31mSyntaxError\u001b[0m\u001b[1;31m:\u001b[0m invalid syntax\n"
     ]
    }
   ],
   "source": [
    "1조: 고성주,  안형진,  정민준,  김동명  \n",
    "2조: 임연경,  조해원,  김동훈,  강채연  \n",
    "3조: 김희민,  박서윤,  김지영,  성은진  \n",
    "4조: 박미현,  정지원,  노원재,  조하늘  \n",
    "5조: 전수연,  홍준  ,  이세화,  정유진  \n",
    "6조: 유경상,  전하연,  장예린,  공인용  \n",
    "7조: 박창규,  박유나,  백하은,  유일환"
   ]
  },
  {
   "cell_type": "code",
   "execution_count": null,
   "id": "4d8f6cd5",
   "metadata": {},
   "outputs": [],
   "source": []
  },
  {
   "cell_type": "code",
   "execution_count": null,
   "id": "c600a080",
   "metadata": {},
   "outputs": [],
   "source": []
  },
  {
   "cell_type": "code",
   "execution_count": null,
   "id": "3196c497",
   "metadata": {},
   "outputs": [],
   "source": []
  },
  {
   "cell_type": "code",
   "execution_count": null,
   "id": "c514073e",
   "metadata": {},
   "outputs": [],
   "source": []
  }
 ],
 "metadata": {
  "kernelspec": {
   "display_name": "Python 3 (ipykernel)",
   "language": "python",
   "name": "python3"
  },
  "language_info": {
   "codemirror_mode": {
    "name": "ipython",
    "version": 3
   },
   "file_extension": ".py",
   "mimetype": "text/x-python",
   "name": "python",
   "nbconvert_exporter": "python",
   "pygments_lexer": "ipython3",
   "version": "3.12.5"
  }
 },
 "nbformat": 4,
 "nbformat_minor": 5
}
