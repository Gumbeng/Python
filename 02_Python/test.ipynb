{
 "cells": [
  {
   "cell_type": "code",
   "execution_count": 6,
   "id": "bf7de2c5-eb0c-4a7b-87bc-c365f144d5a8",
   "metadata": {},
   "outputs": [
    {
     "data": {
      "text/plain": [
       "2"
      ]
     },
     "execution_count": 6,
     "metadata": {},
     "output_type": "execute_result"
    }
   ],
   "source": [
    "1 + 1"
   ]
  },
  {
   "cell_type": "code",
   "execution_count": 2,
   "id": "f40b3a4c-acc4-4c9f-9c30-8e558de14015",
   "metadata": {},
   "outputs": [
    {
     "data": {
      "text/plain": [
       "-100"
      ]
     },
     "execution_count": 2,
     "metadata": {},
     "output_type": "execute_result"
    }
   ],
   "source": [
    "100 - 200"
   ]
  },
  {
   "cell_type": "code",
   "execution_count": 5,
   "id": "841e7671-bc2c-4056-8ccb-24226238180b",
   "metadata": {},
   "outputs": [
    {
     "data": {
      "text/plain": [
       "5.0"
      ]
     },
     "execution_count": 5,
     "metadata": {},
     "output_type": "execute_result"
    }
   ],
   "source": [
    "10 / 2  # shift + enter, control + enter"
   ]
  },
  {
   "cell_type": "code",
   "execution_count": 7,
   "id": "72be3677-07f6-417b-9a80-b5e0d5e83d7e",
   "metadata": {},
   "outputs": [
    {
     "name": "stdout",
     "output_type": "stream",
     "text": [
      "20\n"
     ]
    }
   ],
   "source": [
    "if True:\n",
    "    print(20)"
   ]
  },
  {
   "cell_type": "markdown",
   "id": "cfcc794f-5357-4d6f-914f-82137d77318f",
   "metadata": {},
   "source": [
    "# 제목\n",
    "\n",
    "## 소제목\n",
    "\n",
    "- 일번\n",
    "- 이번\n",
    "- 삼번"
   ]
  },
  {
   "cell_type": "code",
   "execution_count": 75,
   "id": "30e1c62d-091e-46f5-b45d-69aa8d2a1027",
   "metadata": {},
   "outputs": [
    {
     "name": "stdin",
     "output_type": "stream",
     "text": [
      " 1 10\n"
     ]
    },
    {
     "name": "stdout",
     "output_type": "stream",
     "text": [
      "['1', '10']\n",
      "0 25\n"
     ]
    }
   ],
   "source": [
    "time = input().split()\n",
    "print(time)\n",
    "h = int(time[0])\n",
    "m = int(time[1])\n",
    "\n",
    "if m > 44:\n",
    "    print(h, m-45)\n",
    "elif m <= 45 and h >= 1:\n",
    "    print(h-1, m+15)\n",
    "else:\n",
    "    print(23, m+15)"
   ]
  },
  {
   "cell_type": "code",
   "execution_count": 190,
   "id": "3c31e25e-d45b-404a-ad54-77b0c87f68f9",
   "metadata": {},
   "outputs": [
    {
     "name": "stdin",
     "output_type": "stream",
     "text": [
      " 5\n"
     ]
    },
    {
     "name": "stdout",
     "output_type": "stream",
     "text": [
      "    *\n",
      "   **\n",
      "  ***\n",
      " ****\n",
      "*****\n"
     ]
    }
   ],
   "source": [
    "a = int(input())\n",
    "\n",
    "for i in range(a-1, -1, -1):\n",
    "    print(\" \"*i + \"*\" * (a-i))"
   ]
  },
  {
   "cell_type": "code",
   "execution_count": 59,
   "id": "e0877acf-9ea3-4478-a2e3-29615b9509d4",
   "metadata": {},
   "outputs": [
    {
     "name": "stdin",
     "output_type": "stream",
     "text": [
      " 5 4\n",
      " 1 2 3\n"
     ]
    },
    {
     "name": "stdout",
     "output_type": "stream",
     "text": [
      "test : 0  :  3\n",
      "test : 1  :  3\n"
     ]
    },
    {
     "name": "stdin",
     "output_type": "stream",
     "text": [
      " 3 4 4\n"
     ]
    },
    {
     "name": "stdout",
     "output_type": "stream",
     "text": [
      "test : 2  :  4\n",
      "test : 3  :  4\n"
     ]
    },
    {
     "name": "stdin",
     "output_type": "stream",
     "text": [
      " 1 4 1\n"
     ]
    },
    {
     "name": "stdout",
     "output_type": "stream",
     "text": [
      "test : 0  :  1\n",
      "test : 1  :  1\n",
      "test : 2  :  1\n",
      "test : 3  :  1\n"
     ]
    },
    {
     "name": "stdin",
     "output_type": "stream",
     "text": [
      " 2 2 2\n"
     ]
    },
    {
     "name": "stdout",
     "output_type": "stream",
     "text": [
      "test : 1  :  2\n",
      "1 2 1 1 0 "
     ]
    }
   ],
   "source": [
    "n, m = map(int, input().split())\n",
    "baskets = [0] * n # 처음 바구니들의 상태\n",
    "\n",
    "for i in range(m):\n",
    "    i, j, k = map(int, input().split()) # i번 바구니부터 j번 바구니까지 k로 채우기\n",
    "    for l in range(i-1, j):\n",
    "        baskets[l] = k\n",
    "        print(\"test :\",l,\" : \", baskets[l])\n",
    "\n",
    "for i in range(n):\n",
    "    print(baskets[i], end=' ') # print(*baskets)로도 가능\n"
   ]
  },
  {
   "cell_type": "markdown",
   "id": "4aacc4aa-0d78-49ef-8491-6c0a19cd2dce",
   "metadata": {},
   "source": []
  },
  {
   "cell_type": "code",
   "execution_count": null,
   "id": "c68f3eef-85e0-47d3-b7cf-81022ac22256",
   "metadata": {},
   "outputs": [],
   "source": []
  }
 ],
 "metadata": {
  "kernelspec": {
   "display_name": "Python 3 (ipykernel)",
   "language": "python",
   "name": "python3"
  },
  "language_info": {
   "codemirror_mode": {
    "name": "ipython",
    "version": 3
   },
   "file_extension": ".py",
   "mimetype": "text/x-python",
   "name": "python",
   "nbconvert_exporter": "python",
   "pygments_lexer": "ipython3",
   "version": "3.12.5"
  }
 },
 "nbformat": 4,
 "nbformat_minor": 5
}
