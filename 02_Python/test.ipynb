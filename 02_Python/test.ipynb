{
 "cells": [
  {
   "cell_type": "code",
   "execution_count": 6,
   "id": "bf7de2c5-eb0c-4a7b-87bc-c365f144d5a8",
   "metadata": {},
   "outputs": [
    {
     "data": {
      "text/plain": [
       "2"
      ]
     },
     "execution_count": 6,
     "metadata": {},
     "output_type": "execute_result"
    }
   ],
   "source": [
    "1 + 1"
   ]
  },
  {
   "cell_type": "code",
   "execution_count": null,
   "id": "48d5cbd0-f763-49d1-8576-1b95d26d4891",
   "metadata": {},
   "outputs": [],
   "source": []
  },
  {
   "cell_type": "code",
   "execution_count": 2,
   "id": "f40b3a4c-acc4-4c9f-9c30-8e558de14015",
   "metadata": {},
   "outputs": [
    {
     "data": {
      "text/plain": [
       "-100"
      ]
     },
     "execution_count": 2,
     "metadata": {},
     "output_type": "execute_result"
    }
   ],
   "source": [
    "100 - 200"
   ]
  },
  {
   "cell_type": "code",
   "execution_count": 5,
   "id": "841e7671-bc2c-4056-8ccb-24226238180b",
   "metadata": {},
   "outputs": [
    {
     "data": {
      "text/plain": [
       "5.0"
      ]
     },
     "execution_count": 5,
     "metadata": {},
     "output_type": "execute_result"
    }
   ],
   "source": [
    "10 / 2  # shift + enter, control + enter"
   ]
  },
  {
   "cell_type": "code",
   "execution_count": 7,
   "id": "72be3677-07f6-417b-9a80-b5e0d5e83d7e",
   "metadata": {},
   "outputs": [
    {
     "name": "stdout",
     "output_type": "stream",
     "text": [
      "20\n"
     ]
    }
   ],
   "source": [
    "if True:\n",
    "    print(20)"
   ]
  },
  {
   "cell_type": "markdown",
   "id": "cfcc794f-5357-4d6f-914f-82137d77318f",
   "metadata": {},
   "source": [
    "# 제목\n",
    "\n",
    "## 소제목\n",
    "\n",
    "- 일번\n",
    "- 이번\n",
    "- 삼번"
   ]
  },
  {
   "cell_type": "code",
   "execution_count": 75,
   "id": "30e1c62d-091e-46f5-b45d-69aa8d2a1027",
   "metadata": {},
   "outputs": [
    {
     "name": "stdin",
     "output_type": "stream",
     "text": [
      " 1 10\n"
     ]
    },
    {
     "name": "stdout",
     "output_type": "stream",
     "text": [
      "['1', '10']\n",
      "0 25\n"
     ]
    }
   ],
   "source": [
    "time = input().split()\n",
    "print(time)\n",
    "h = int(time[0])\n",
    "m = int(time[1])\n",
    "\n",
    "if m > 44:\n",
    "    print(h, m-45)\n",
    "elif m <= 45 and h >= 1:\n",
    "    print(h-1, m+15)\n",
    "else:\n",
    "    print(23, m+15)"
   ]
  },
  {
   "cell_type": "code",
   "execution_count": 190,
   "id": "3c31e25e-d45b-404a-ad54-77b0c87f68f9",
   "metadata": {},
   "outputs": [
    {
     "name": "stdin",
     "output_type": "stream",
     "text": [
      " 5\n"
     ]
    },
    {
     "name": "stdout",
     "output_type": "stream",
     "text": [
      "    *\n",
      "   **\n",
      "  ***\n",
      " ****\n",
      "*****\n"
     ]
    }
   ],
   "source": [
    "a = int(input())\n",
    "\n",
    "for i in range(a-1, -1, -1):\n",
    "    print(\" \"*i + \"*\" * (a-i))"
   ]
  },
  {
   "cell_type": "code",
   "execution_count": 59,
   "id": "e0877acf-9ea3-4478-a2e3-29615b9509d4",
   "metadata": {},
   "outputs": [
    {
     "name": "stdin",
     "output_type": "stream",
     "text": [
      " 5 4\n",
      " 1 2 3\n"
     ]
    },
    {
     "name": "stdout",
     "output_type": "stream",
     "text": [
      "test : 0  :  3\n",
      "test : 1  :  3\n"
     ]
    },
    {
     "name": "stdin",
     "output_type": "stream",
     "text": [
      " 3 4 4\n"
     ]
    },
    {
     "name": "stdout",
     "output_type": "stream",
     "text": [
      "test : 2  :  4\n",
      "test : 3  :  4\n"
     ]
    },
    {
     "name": "stdin",
     "output_type": "stream",
     "text": [
      " 1 4 1\n"
     ]
    },
    {
     "name": "stdout",
     "output_type": "stream",
     "text": [
      "test : 0  :  1\n",
      "test : 1  :  1\n",
      "test : 2  :  1\n",
      "test : 3  :  1\n"
     ]
    },
    {
     "name": "stdin",
     "output_type": "stream",
     "text": [
      " 2 2 2\n"
     ]
    },
    {
     "name": "stdout",
     "output_type": "stream",
     "text": [
      "test : 1  :  2\n",
      "1 2 1 1 0 "
     ]
    }
   ],
   "source": [
    "n, m = map(int, input().split())\n",
    "baskets = [0] * n # 처음 바구니들의 상태\n",
    "\n",
    "for i in range(m):\n",
    "    i, j, k = map(int, input().split()) # i번 바구니부터 j번 바구니까지 k로 채우기\n",
    "    for l in range(i-1, j):\n",
    "        baskets[l] = k\n",
    "        print(\"test :\",l,\" : \", baskets[l])\n",
    "\n",
    "for i in range(n):\n",
    "    print(baskets[i], end=' ') # print(*baskets)로도 가능\n"
   ]
  },
  {
   "cell_type": "code",
   "execution_count": 5,
   "id": "dc4166f8-032c-46f1-9c18-e82d32180005",
   "metadata": {},
   "outputs": [
    {
     "name": "stdout",
     "output_type": "stream",
     "text": [
      "{100, 70, 80, 85, 90, 95}\n"
     ]
    }
   ],
   "source": [
    "jumsu = [100, 90, 100, 80, 70, 100, 80, 90, 95, 85] \n",
    "print(set(jumsu))"
   ]
  },
  {
   "cell_type": "code",
   "execution_count": 14,
   "id": "ff7b4076-249e-4155-b412-3631c0c4dd7d",
   "metadata": {},
   "outputs": [
    {
     "name": "stdin",
     "output_type": "stream",
     "text": [
      " 5 4\n",
      " 1 2\n"
     ]
    },
    {
     "ename": "AttributeError",
     "evalue": "'int' object has no attribute 'reverse'",
     "output_type": "error",
     "traceback": [
      "\u001b[1;31m---------------------------------------------------------------------------\u001b[0m",
      "\u001b[1;31mAttributeError\u001b[0m                            Traceback (most recent call last)",
      "Cell \u001b[1;32mIn[14], line 7\u001b[0m\n\u001b[0;32m      5\u001b[0m     i,j \u001b[38;5;241m=\u001b[39m \u001b[38;5;28mmap\u001b[39m(\u001b[38;5;28mint\u001b[39m, \u001b[38;5;28minput\u001b[39m()\u001b[38;5;241m.\u001b[39msplit())\n\u001b[0;32m      6\u001b[0m     temp \u001b[38;5;241m=\u001b[39m box[i\u001b[38;5;241m-\u001b[39m\u001b[38;5;241m1\u001b[39m]\n\u001b[1;32m----> 7\u001b[0m     \u001b[43mtemp\u001b[49m\u001b[38;5;241;43m.\u001b[39;49m\u001b[43mreverse\u001b[49m()\n\u001b[0;32m      8\u001b[0m     box[i\u001b[38;5;241m-\u001b[39m\u001b[38;5;241m1\u001b[39m] \u001b[38;5;241m=\u001b[39m temp\n\u001b[0;32m      9\u001b[0m \u001b[38;5;28;01mfor\u001b[39;00m i \u001b[38;5;129;01min\u001b[39;00m \u001b[38;5;28mrange\u001b[39m(N):\n",
      "\u001b[1;31mAttributeError\u001b[0m: 'int' object has no attribute 'reverse'"
     ]
    }
   ],
   "source": [
    "N,M = map(int, input().split())\n",
    "box = [i for i in range(1, N+1)]\n",
    "temp = 0\n",
    "for x in range(M):\n",
    "    i,j = map(int, input().split())\n",
    "    temp = box[i-1]\n",
    "    temp.reverse()\n",
    "    box[i-1] = temp\n",
    "for i in range(N):\n",
    "    print(box[i], end= ' ')\n",
    "    "
   ]
  },
  {
   "cell_type": "code",
   "execution_count": 16,
   "id": "ec672471-31df-4c97-b98d-e656e1d8324e",
   "metadata": {},
   "outputs": [
    {
     "name": "stdin",
     "output_type": "stream",
     "text": [
      " 5 4\n",
      " 1 2\n"
     ]
    },
    {
     "name": "stdout",
     "output_type": "stream",
     "text": [
      "확인 : [1, 2]\n"
     ]
    },
    {
     "name": "stdin",
     "output_type": "stream",
     "text": [
      " 3 4\n"
     ]
    },
    {
     "name": "stdout",
     "output_type": "stream",
     "text": [
      "확인 : [3, 4]\n"
     ]
    },
    {
     "name": "stdin",
     "output_type": "stream",
     "text": [
      " 1 4\n"
     ]
    },
    {
     "name": "stdout",
     "output_type": "stream",
     "text": [
      "확인 : [2, 1, 4, 3]\n"
     ]
    },
    {
     "name": "stdin",
     "output_type": "stream",
     "text": [
      " 2 2\n"
     ]
    },
    {
     "name": "stdout",
     "output_type": "stream",
     "text": [
      "확인 : [4]\n",
      "3 4 1 2 5 "
     ]
    }
   ],
   "source": [
    "N, M = map(int, input().split())\n",
    "numbers = [i for i in range(1, N+1)]\n",
    "for i in range(M):\n",
    "    j,k = map(int, input().split())\n",
    "    te = numbers[j-1:k]\n",
    "    te.reverse()\n",
    "    numbers[j-1:k] = te\n",
    "for i in range(N):\n",
    "    print(numbers[i], end=\" \")"
   ]
  },
  {
   "cell_type": "code",
   "execution_count": 23,
   "id": "6fe7a697-8d05-47c3-8c93-c6cacf8b55bc",
   "metadata": {},
   "outputs": [
    {
     "data": {
      "text/plain": [
       "66.66666666666667"
      ]
     },
     "execution_count": 23,
     "metadata": {},
     "output_type": "execute_result"
    }
   ],
   "source": [
    "60 / 30 * 100 / 3"
   ]
  },
  {
   "cell_type": "code",
   "execution_count": 60,
   "id": "770f1fd0-086a-4ca3-bd11-fc591101c8ba",
   "metadata": {},
   "outputs": [
    {
     "name": "stdin",
     "output_type": "stream",
     "text": [
      " 5\n",
      " 1 2 4 8 16\n"
     ]
    },
    {
     "name": "stdout",
     "output_type": "stream",
     "text": [
      "38.75\n"
     ]
    }
   ],
   "source": [
    "N = int(input())\n",
    "maxNum = 0;\n",
    "score = list(map(int, input().split()))\n",
    "print(sum(score) / max(score) * 100 / N)"
   ]
  },
  {
   "cell_type": "code",
   "execution_count": 114,
   "id": "7564b58f-029d-4871-8854-cc281e208de1",
   "metadata": {},
   "outputs": [
    {
     "name": "stdin",
     "output_type": "stream",
     "text": [
      " baekjoon\n"
     ]
    },
    {
     "name": "stdout",
     "output_type": "stream",
     "text": [
      "1 0 -1 -1 2 -1 -1 -1 -1 4 3 -1 -1 7 5 -1 -1 -1 -1 -1 -1 -1 -1 -1 -1 -1 "
     ]
    }
   ],
   "source": [
    "S = input()\n",
    "\n",
    "for x in 'abcdefghijklmnopqrstuvwxyz':\n",
    "    print(S.find(x), end = ' ')"
   ]
  },
  {
   "cell_type": "code",
   "execution_count": 102,
   "id": "daa38e82-11da-4c3d-989b-8675687dc04d",
   "metadata": {},
   "outputs": [
    {
     "name": "stdin",
     "output_type": "stream",
     "text": [
      " A\n"
     ]
    },
    {
     "name": "stdout",
     "output_type": "stream",
     "text": [
      "65\n"
     ]
    }
   ],
   "source": [
    "print(ord(input()))"
   ]
  },
  {
   "cell_type": "code",
   "execution_count": 203,
   "id": "927da13f-88b4-472b-80ca-d344561cdc74",
   "metadata": {},
   "outputs": [
    {
     "name": "stdin",
     "output_type": "stream",
     "text": [
      " 0 1 1 1 1 2\n"
     ]
    },
    {
     "name": "stdout",
     "output_type": "stream",
     "text": [
      "1 0 1 1 1 6 "
     ]
    }
   ],
   "source": [
    "chess = [1, 1, 2, 2, 2, 8]  # 정해진 말의 수\n",
    " \n",
    "a = list(map(int, input().split()))\n",
    " \n",
    "for i in range(6):\n",
    "    print(chess[i] - a[i], end=' ')"
   ]
  },
  {
   "cell_type": "code",
   "execution_count": 308,
   "id": "bf08aa9b-b5cf-4718-8978-ddbf6840c7e0",
   "metadata": {},
   "outputs": [
    {
     "name": "stdin",
     "output_type": "stream",
     "text": [
      " zzaa\n"
     ]
    },
    {
     "name": "stdout",
     "output_type": "stream",
     "text": [
      "?\n"
     ]
    }
   ],
   "source": [
    "t = input().upper()\n",
    "n = list(set(t))\n",
    "\n",
    "t_cnt = []\n",
    "\n",
    "for i in n:\n",
    "    t_cnt.append(t.count(i))\n",
    "if t_cnt.count(max(t_cnt)) > 1:\n",
    "    print(\"?\")\n",
    "else:\n",
    "    print(n[t_cnt.index(max(t_cnt))])"
   ]
  },
  {
   "cell_type": "code",
   "execution_count": 285,
   "id": "2ae33191-e907-4ca6-be2a-9ebc35ad7bc3",
   "metadata": {},
   "outputs": [
    {
     "name": "stdin",
     "output_type": "stream",
     "text": [
      " a\n"
     ]
    },
    {
     "ename": "ValueError",
     "evalue": "invalid literal for int() with base 10: 'a'",
     "output_type": "error",
     "traceback": [
      "\u001b[1;31m---------------------------------------------------------------------------\u001b[0m",
      "\u001b[1;31mValueError\u001b[0m                                Traceback (most recent call last)",
      "Cell \u001b[1;32mIn[285], line 1\u001b[0m\n\u001b[1;32m----> 1\u001b[0m n \u001b[38;5;241m=\u001b[39m \u001b[38;5;28;43mint\u001b[39;49m\u001b[43m(\u001b[49m\u001b[38;5;28;43minput\u001b[39;49m\u001b[43m(\u001b[49m\u001b[43m)\u001b[49m\u001b[43m)\u001b[49m\n\u001b[0;32m      2\u001b[0m \u001b[38;5;28;01mfor\u001b[39;00m i \u001b[38;5;129;01min\u001b[39;00m \u001b[38;5;28mrange\u001b[39m(\u001b[38;5;241m1\u001b[39m, n\u001b[38;5;241m+\u001b[39m\u001b[38;5;241m1\u001b[39m):\n\u001b[0;32m      3\u001b[0m     \u001b[38;5;28mprint\u001b[39m(\u001b[38;5;124m\"\u001b[39m\u001b[38;5;124m \u001b[39m\u001b[38;5;124m\"\u001b[39m \u001b[38;5;241m*\u001b[39m (n\u001b[38;5;241m-\u001b[39mi) \u001b[38;5;241m+\u001b[39m \u001b[38;5;124m\"\u001b[39m\u001b[38;5;124m*\u001b[39m\u001b[38;5;124m\"\u001b[39m \u001b[38;5;241m*\u001b[39m (i \u001b[38;5;241m*\u001b[39m \u001b[38;5;241m2\u001b[39m \u001b[38;5;241m-\u001b[39m\u001b[38;5;241m1\u001b[39m))\n",
      "\u001b[1;31mValueError\u001b[0m: invalid literal for int() with base 10: 'a'"
     ]
    }
   ],
   "source": [
    "n = int(input())\n",
    "for i in range(1, n+1):\n",
    "    print(\" \" * (n-i) + \"*\" * (i * 2 -1))\n",
    "for i in range(n-1, 0, -1):\n",
    "    print(\" \" * (n-i) + \"*\" * (i * 2 -1))"
   ]
  },
  {
   "cell_type": "code",
   "execution_count": 304,
   "id": "fb5c932b-2b3c-4743-bc69-0d73d06a608f",
   "metadata": {},
   "outputs": [
    {
     "data": {
      "text/plain": [
       "{'a', 'b', 'z'}"
      ]
     },
     "execution_count": 304,
     "metadata": {},
     "output_type": "execute_result"
    }
   ],
   "source": [
    "a = ['z','a','b','b']\n",
    "n = set(a)\n"
   ]
  },
  {
   "cell_type": "code",
   "execution_count": 310,
   "id": "eb460b9c-98af-4789-aa5f-64adb249f56f",
   "metadata": {
    "editable": true,
    "slideshow": {
     "slide_type": ""
    },
    "tags": []
   },
   "outputs": [
    {
     "name": "stdin",
     "output_type": "stream",
     "text": [
      " ljes=njak\n"
     ]
    },
    {
     "name": "stdout",
     "output_type": "stream",
     "text": [
      "6\n"
     ]
    }
   ],
   "source": [
    "sp = ['c=','c-','dz=','d-','lj','nj','s=','z=']\n",
    "t = input()\n",
    "\n",
    "for i in sp:\n",
    "    t = t.replace(i, \"*\")\n",
    "print(len(t))"
   ]
  },
  {
   "cell_type": "code",
   "execution_count": 12,
   "id": "c84cf093-97ab-4bbb-b723-a8f7e843c209",
   "metadata": {
    "editable": true,
    "slideshow": {
     "slide_type": ""
    },
    "tags": []
   },
   "outputs": [
    {
     "name": "stdin",
     "output_type": "stream",
     "text": [
      " 123 45\n"
     ]
    },
    {
     "name": "stdout",
     "output_type": "stream",
     "text": [
      "54\n"
     ]
    }
   ],
   "source": [
    "arr = list(map(int, input().split()))\n",
    "a_arr = []\n",
    "b_arr = []\n",
    "a_str = str(arr[0])\n",
    "b_str = str(arr[1])\n",
    "for i in range(len(a_str)):\n",
    "    a_arr.append(int(a_str[i]))\n",
    "for i in range(len(b_str)):\n",
    "    b_arr.append(int(b_str[i]))\n",
    "total = 0\n",
    "for i in range(len(a_arr)):\n",
    "    for v in range(len(b_arr)):\n",
    "        total += a_arr[i] * b_arr[v]\n",
    "print(total)"
   ]
  },
  {
   "cell_type": "code",
   "execution_count": 19,
   "id": "fb11cfe1-61c8-4855-8043-3b00f2833c7b",
   "metadata": {},
   "outputs": [
    {
     "name": "stdin",
     "output_type": "stream",
     "text": [
      " 121 34\n"
     ]
    },
    {
     "name": "stdout",
     "output_type": "stream",
     "text": [
      "28\n"
     ]
    }
   ],
   "source": [
    "A_str, B_str = input().split()\n",
    "\n",
    "A = list(map(int, A_str))\n",
    "B = list(map(int, B_str))\n",
    "\n",
    "total = 0\n",
    "\n",
    "for a in A:\n",
    "    for b in B:\n",
    "        total += a * b\n",
    "\n",
    "print(total)"
   ]
  },
  {
   "cell_type": "code",
   "execution_count": 24,
   "id": "fca560ec-592c-461c-a8a1-93659235f1a2",
   "metadata": {},
   "outputs": [
    {
     "ename": "SyntaxError",
     "evalue": "invalid non-printable character U+00A0 (2261955544.py, line 1)",
     "output_type": "error",
     "traceback": [
      "\u001b[1;36m  Cell \u001b[1;32mIn[24], line 1\u001b[1;36m\u001b[0m\n\u001b[1;33m    a,b = input().split()\u001b[0m\n\u001b[1;37m       ^\u001b[0m\n\u001b[1;31mSyntaxError\u001b[0m\u001b[1;31m:\u001b[0m invalid non-printable character U+00A0\n"
     ]
    }
   ],
   "source": [
    "x, y = input().split()\n",
    "z = 0\n",
    "w = 0\n",
    "for i in range(len(x)):\n",
    "    z += int(x[i])\n",
    "    print(\"z :\",x[i])\n",
    "for i in range(len(y)):\n",
    "    w += int(y[i])\n",
    "    print(\"w :\",y[i])\n",
    "print(z*w)"
   ]
  },
  {
   "cell_type": "code",
   "execution_count": 66,
   "id": "25d7eaa0-a12d-49f8-b388-0e47795cce6c",
   "metadata": {},
   "outputs": [
    {
     "name": "stdin",
     "output_type": "stream",
     "text": [
      " 121 34\n"
     ]
    },
    {
     "name": "stdout",
     "output_type": "stream",
     "text": [
      "28\n"
     ]
    }
   ],
   "source": [
    "a, b = input().split()\n",
    "a = list(map(int,a))\n",
    "b = list(map(int,b))\n",
    "print(sum(a) * sum(b))"
   ]
  },
  {
   "cell_type": "code",
   "execution_count": 1,
   "id": "3ad49656-c2c7-4dcf-9874-d28f7908dc78",
   "metadata": {},
   "outputs": [
    {
     "name": "stdin",
     "output_type": "stream",
     "text": [
      " \n"
     ]
    },
    {
     "ename": "ValueError",
     "evalue": "not enough values to unpack (expected 3, got 0)",
     "output_type": "error",
     "traceback": [
      "\u001b[1;31m---------------------------------------------------------------------------\u001b[0m",
      "\u001b[1;31mValueError\u001b[0m                                Traceback (most recent call last)",
      "Cell \u001b[1;32mIn[1], line 1\u001b[0m\n\u001b[1;32m----> 1\u001b[0m s1, s2, s3 \u001b[38;5;241m=\u001b[39m \u001b[38;5;28mmap\u001b[39m(\u001b[38;5;28mint\u001b[39m, \u001b[38;5;28minput\u001b[39m()\u001b[38;5;241m.\u001b[39msplit())\n\u001b[0;32m      2\u001b[0m result \u001b[38;5;241m=\u001b[39m [\u001b[38;5;241m0\u001b[39m] \u001b[38;5;241m*\u001b[39m (s1 \u001b[38;5;241m+\u001b[39m s2 \u001b[38;5;241m+\u001b[39m s3 \u001b[38;5;241m+\u001b[39m \u001b[38;5;241m1\u001b[39m)  \u001b[38;5;66;03m# 가능한 합의 범위를 고려한 리스트 생성\u001b[39;00m\n\u001b[0;32m      4\u001b[0m \u001b[38;5;66;03m# 주사위 눈의 합을 구하고 빈도수를 저장\u001b[39;00m\n",
      "\u001b[1;31mValueError\u001b[0m: not enough values to unpack (expected 3, got 0)"
     ]
    }
   ],
   "source": [
    "s1, s2, s3 = map(int, input().split())\n",
    "result = [0] * (s1 + s2 + s3 + 1)  # 가능한 합의 범위를 고려한 리스트 생성\n",
    "\n",
    "# 주사위 눈의 합을 구하고 빈도수를 저장\n",
    "for i in range(1, s1 + 1):\n",
    "    for b in range(1, s2 + 1):\n",
    "        for c in range(1, s3 + 1):\n",
    "            result[i + b + c] += 1  # 각 합에 해당하는 빈도 증가\n",
    "\n",
    "# 가장 빈도가 높은 합을 찾음\n",
    "max_frequency = max(result)  # 최대 빈도 찾기\n",
    "most_frequent_sum = result.index(max_frequency)  # 최대 빈도가 처음 나오는 합을 찾음\n",
    "\n",
    "print(most_frequent_sum)\n"
   ]
  },
  {
   "cell_type": "code",
   "execution_count": 11,
   "id": "801597d4-7ae7-4725-bd84-e2aefa255dd1",
   "metadata": {},
   "outputs": [
    {
     "data": {
      "text/plain": [
       "2"
      ]
     },
     "execution_count": 11,
     "metadata": {},
     "output_type": "execute_result"
    }
   ],
   "source": [
    "arr = {'B':3,'B':2,'A':2,\"C\":1}\n",
    "max(arr, key=arr.get)\n",
    "arr.get('A')"
   ]
  },
  {
   "cell_type": "code",
   "execution_count": 146,
   "id": "f69cb412-b590-4fd1-9369-bb3c21d2d75f",
   "metadata": {},
   "outputs": [
    {
     "name": "stdin",
     "output_type": "stream",
     "text": [
      " 7\n"
     ]
    },
    {
     "name": "stdout",
     "output_type": "stream",
     "text": [
      "84\n",
      "35\n"
     ]
    }
   ],
   "source": [
    "n = int(input())\n",
    "sum1 = 0\n",
    "for i in range(n-1):\n",
    "    for j in range(i + 1 , n):\n",
    "        sum1 += 1\n",
    "\n",
    "print((n * (n - 1) * (n-3) // 2))\n",
    "print((n * (n-2) *  (n-4) // 3))"
   ]
  },
  {
   "cell_type": "code",
   "execution_count": 15,
   "id": "636a15b0-79ec-40b5-8eb6-c62761ae725c",
   "metadata": {},
   "outputs": [
    {
     "name": "stdin",
     "output_type": "stream",
     "text": [
      " 5\n"
     ]
    },
    {
     "name": "stdout",
     "output_type": "stream",
     "text": [
      "0\n"
     ]
    }
   ],
   "source": [
    "n = int(input())\n",
    "arr = []\n",
    "a = str(n)\n",
    "tt = 0\n",
    "if n <= n - ( 9 * len(str(n))):\n",
    "    tt = len(str(n))\n",
    "else:\n",
    "    tt = len(str(n)) - 1\n",
    "for i in range(n - (9 * tt), n):\n",
    "    temp = str(i)\n",
    "    num = 0\n",
    "\n",
    "    for i in range(len(temp)):\n",
    "        num += int(temp[i])\n",
    "    num2 = n - num\n",
    "    temp = 0\n",
    "    for i in range(len(str(num2))):\n",
    "        num2 = str(num2)\n",
    "        temp += int(num2[i])\n",
    "    if n == int(num2) + temp:\n",
    "        arr.append(n-num)\n",
    "    \n",
    "if len(arr) != 0:\n",
    "    print(min(arr))\n",
    "else:\n",
    "    print(0)"
   ]
  },
  {
   "cell_type": "code",
   "execution_count": 8,
   "id": "95d18e1b-7039-4fad-9a04-acd72edbb4bb",
   "metadata": {},
   "outputs": [
    {
     "name": "stdin",
     "output_type": "stream",
     "text": [
      " 176\n"
     ]
    },
    {
     "name": "stdout",
     "output_type": "stream",
     "text": [
      "6\n",
      "13\n",
      "14\n"
     ]
    }
   ],
   "source": [
    "n = int(input())\n",
    "arr = [] # 분해합이 되는 경우의 수\n",
    "a = n\n",
    "num = 0\n",
    "while a > 0:\n",
    "    num += a % 10 \n",
    "    a = int(a / 10)\n",
    "\n",
    "for i in range(n - num, n):\n",
    "    for i in range(len"
   ]
  },
  {
   "cell_type": "code",
   "execution_count": 51,
   "id": "28fe8b46-d168-4c9e-b245-bcd11a34aa1a",
   "metadata": {},
   "outputs": [
    {
     "name": "stdin",
     "output_type": "stream",
     "text": [
      " ㅇ\n"
     ]
    },
    {
     "ename": "ValueError",
     "evalue": "invalid literal for int() with base 10: 'ㅇ'",
     "output_type": "error",
     "traceback": [
      "\u001b[1;31m---------------------------------------------------------------------------\u001b[0m",
      "\u001b[1;31mValueError\u001b[0m                                Traceback (most recent call last)",
      "Cell \u001b[1;32mIn[51], line 1\u001b[0m\n\u001b[1;32m----> 1\u001b[0m a, b, c, d, e, f \u001b[38;5;241m=\u001b[39m \u001b[38;5;28mmap\u001b[39m(\u001b[38;5;28mint\u001b[39m, \u001b[38;5;28minput\u001b[39m()\u001b[38;5;241m.\u001b[39msplit())\n\u001b[0;32m      3\u001b[0m \u001b[38;5;28mprint\u001b[39m((c\u001b[38;5;241m*\u001b[39me\u001b[38;5;241m-\u001b[39mb\u001b[38;5;241m*\u001b[39mf)\u001b[38;5;241m/\u001b[39m\u001b[38;5;241m/\u001b[39m(a\u001b[38;5;241m*\u001b[39me\u001b[38;5;241m-\u001b[39mb\u001b[38;5;241m*\u001b[39md), (a\u001b[38;5;241m*\u001b[39mf\u001b[38;5;241m-\u001b[39md\u001b[38;5;241m*\u001b[39mc)\u001b[38;5;241m/\u001b[39m\u001b[38;5;241m/\u001b[39m(a\u001b[38;5;241m*\u001b[39me\u001b[38;5;241m-\u001b[39mb\u001b[38;5;241m*\u001b[39md))\n",
      "\u001b[1;31mValueError\u001b[0m: invalid literal for int() with base 10: 'ㅇ'"
     ]
    }
   ],
   "source": [
    "a, b, c, d, e, f = map(int, input().split())\n",
    "\n",
    "print((c*e-b*f)//(a*e-b*d), (a*f-d*c)//(a*e-b*d))"
   ]
  },
  {
   "cell_type": "code",
   "execution_count": null,
   "id": "1ff1006f-9c18-44c3-abb1-7121f924ee32",
   "metadata": {},
   "outputs": [],
   "source": []
  },
  {
   "cell_type": "code",
   "execution_count": 72,
   "id": "3b511d5a-7018-48a0-945c-7534560053fe",
   "metadata": {},
   "outputs": [
    {
     "name": "stdin",
     "output_type": "stream",
     "text": [
      " 6 3\n",
      " 100 76 85 93 98 99\n"
     ]
    },
    {
     "name": "stdout",
     "output_type": "stream",
     "text": [
      "[76, 85, 93, 98, 99, 100]\n",
      "98\n"
     ]
    }
   ],
   "source": [
    "n , k = map(int, input().split())\n",
    "arr = list(map(int, input().split()))\n",
    "arr.sort()\n",
    "print(arr[-k])"
   ]
  },
  {
   "cell_type": "code",
   "execution_count": 85,
   "id": "7c04e526-4863-4451-9ca7-e127d15448f7",
   "metadata": {},
   "outputs": [
    {
     "name": "stdin",
     "output_type": "stream",
     "text": [
      " 10\n",
      " 5\n",
      " 2\n",
      " 3\n",
      " 1\n",
      " 4\n",
      " 2\n",
      " 3\n",
      " 5\n",
      " 1\n",
      " 7\n"
     ]
    },
    {
     "name": "stdout",
     "output_type": "stream",
     "text": [
      "1\n",
      "1\n",
      "2\n",
      "2\n",
      "3\n",
      "3\n",
      "4\n",
      "5\n",
      "5\n",
      "7\n"
     ]
    }
   ],
   "source": [
    "n = int(input())\n",
    "\n",
    "temp = [int(input()) for _ in range(n)]\n",
    "temp.sort()\n",
    "for i in range(n):\n",
    "    print(temp[i])"
   ]
  },
  {
   "cell_type": "code",
   "execution_count": 159,
   "id": "bf16e487-ccea-4ccc-a210-4b2396564ecf",
   "metadata": {},
   "outputs": [
    {
     "name": "stdin",
     "output_type": "stream",
     "text": [
      " 5\n",
      " 1 -1\n",
      " 1 2\n",
      " 3 2\n",
      " 2 2\n",
      " 0 4\n"
     ]
    },
    {
     "name": "stdout",
     "output_type": "stream",
     "text": [
      "1 -1\n",
      "1 2\n",
      "2 2\n",
      "3 2\n",
      "0 4\n"
     ]
    }
   ],
   "source": [
    "import  sys\n",
    "\n",
    "n = int(input())\n",
    "arr = []\n",
    "for i in range(n):\n",
    "    arr.append(tuple(map(int, input().split())))\n",
    "arr.sort(key=lambda x: (x[1],x[0]))\n",
    "for x,y in arr:\n",
    "    print(x,y)"
   ]
  },
  {
   "cell_type": "code",
   "execution_count": 245,
   "id": "e1026346-218a-4679-98b5-e4066f6ad40a",
   "metadata": {},
   "outputs": [
    {
     "ename": "ValueError",
     "evalue": "invalid literal for int() with base 10: ''",
     "output_type": "error",
     "traceback": [
      "\u001b[1;31m---------------------------------------------------------------------------\u001b[0m",
      "\u001b[1;31mValueError\u001b[0m                                Traceback (most recent call last)",
      "Cell \u001b[1;32mIn[245], line 3\u001b[0m\n\u001b[0;32m      1\u001b[0m \u001b[38;5;28;01mimport\u001b[39;00m \u001b[38;5;21;01msys\u001b[39;00m\n\u001b[0;32m      2\u001b[0m \u001b[38;5;28minput\u001b[39m \u001b[38;5;241m=\u001b[39m sys\u001b[38;5;241m.\u001b[39mstdin\u001b[38;5;241m.\u001b[39mreadline\n\u001b[1;32m----> 3\u001b[0m n \u001b[38;5;241m=\u001b[39m \u001b[38;5;28;43mint\u001b[39;49m\u001b[43m(\u001b[49m\u001b[38;5;28;43minput\u001b[39;49m\u001b[43m(\u001b[49m\u001b[43m)\u001b[49m\u001b[43m)\u001b[49m\n\u001b[0;32m      4\u001b[0m temp \u001b[38;5;241m=\u001b[39m \u001b[38;5;28mlist\u001b[39m(\u001b[38;5;28mmap\u001b[39m(\u001b[38;5;28mint\u001b[39m,\u001b[38;5;28minput\u001b[39m()\u001b[38;5;241m.\u001b[39msplit()))\n\u001b[0;32m      5\u001b[0m arr \u001b[38;5;241m=\u001b[39m temp\n",
      "\u001b[1;31mValueError\u001b[0m: invalid literal for int() with base 10: ''"
     ]
    }
   ],
   "source": [
    "import sys\n",
    "n = int(sys.stdin.readline())\n",
    "temp = list(map(int, sys.stdin.readline() .split()))\n",
    "arr = temp\n",
    "temp = list(set(temp))\n",
    "temp.sort()\n",
    "print(arr, temp)"
   ]
  },
  {
   "cell_type": "code",
   "execution_count": 6,
   "id": "1de749f1-10d6-4b4b-9190-15aa3d86645c",
   "metadata": {},
   "outputs": [
    {
     "name": "stdin",
     "output_type": "stream",
     "text": [
      " \n"
     ]
    },
    {
     "ename": "ValueError",
     "evalue": "invalid literal for int() with base 10: ''",
     "output_type": "error",
     "traceback": [
      "\u001b[1;31m---------------------------------------------------------------------------\u001b[0m",
      "\u001b[1;31mValueError\u001b[0m                                Traceback (most recent call last)",
      "Cell \u001b[1;32mIn[6], line 1\u001b[0m\n\u001b[1;32m----> 1\u001b[0m n \u001b[38;5;241m=\u001b[39m \u001b[38;5;28;43mint\u001b[39;49m\u001b[43m(\u001b[49m\u001b[38;5;28;43minput\u001b[39;49m\u001b[43m(\u001b[49m\u001b[43m)\u001b[49m\u001b[43m)\u001b[49m\n\u001b[0;32m      2\u001b[0m arr \u001b[38;5;241m=\u001b[39m \u001b[38;5;28mlist\u001b[39m(\u001b[38;5;28mmap\u001b[39m(\u001b[38;5;28mint\u001b[39m,\u001b[38;5;28minput\u001b[39m()\u001b[38;5;241m.\u001b[39msplit()))\n\u001b[0;32m      3\u001b[0m temp \u001b[38;5;241m=\u001b[39m \u001b[38;5;28mlist\u001b[39m(\u001b[38;5;28mset\u001b[39m(arr))\n",
      "\u001b[1;31mValueError\u001b[0m: invalid literal for int() with base 10: ''"
     ]
    }
   ],
   "source": [
    "n = int(input())\n",
    "arr = list(map(int,input().split()))\n",
    "temp = list(set(arr))\n",
    "temp.sort()\n",
    "dic = {temp[i] : i for i in range(len(temp))}\n",
    "for i in arr:\n",
    "    print(dic[i], end=\" \")"
   ]
  },
  {
   "cell_type": "code",
   "execution_count": 9,
   "id": "5e03bcdb-7c03-4dfe-807b-b256674a894a",
   "metadata": {},
   "outputs": [
    {
     "name": "stdin",
     "output_type": "stream",
     "text": [
      " 5 11\n",
      " back\n",
      " start\n",
      " code\n",
      " sund\n",
      " codi\n",
      " back\n",
      " code\n",
      " codem\n",
      " start\n",
      " start\n",
      " sundy\n",
      " codi\n",
      " codi\n",
      " sonda\n",
      " start\n",
      " ice\n"
     ]
    },
    {
     "name": "stdout",
     "output_type": "stream",
     "text": [
      "7\n"
     ]
    }
   ],
   "source": [
    "n, m = map(int, input().split())\n",
    "S = []\n",
    "for _ in range(n):\n",
    "    S.append(input())\n",
    "temp = []\n",
    "for _ in range(m):\n",
    "    temp.append(input())\n",
    "count = 0\n",
    "_dict = {}\n",
    "for i in range(n):\n",
    "    _dict[S[i]] = 0\n",
    "for i in range(m):\n",
    "    if temp[i] in _dict:\n",
    "        count += 1\n",
    "    else:\n",
    "        continue\n",
    "print(count)"
   ]
  },
  {
   "cell_type": "code",
   "execution_count": 44,
   "id": "7918c46f-3492-42cf-9703-c65579d87d54",
   "metadata": {},
   "outputs": [
    {
     "name": "stdin",
     "output_type": "stream",
     "text": [
      " 5\n",
      " ba en\n",
      " as en\n",
      " ar en\n",
      " ar le\n",
      " ba le\n"
     ]
    },
    {
     "name": "stdout",
     "output_type": "stream",
     "text": [
      "ba\n",
      "as\n",
      "ar\n"
     ]
    }
   ],
   "source": [
    "n = int(input())\n",
    "dic = {}\n",
    "for _ in range(n):\n",
    "    name, log = input().split()\n",
    "    dic[name] = log\n",
    "    if log == \"leave\":\n",
    "        del dic[name]\n",
    "a = sorted(dic.items(), reverse = True)\n",
    "dic = dict(a)\n",
    "for key in dic.keys():\n",
    "    print(key)"
   ]
  },
  {
   "cell_type": "code",
   "execution_count": 56,
   "id": "a1a8d851-85eb-485b-9816-5c87749f5b4d",
   "metadata": {},
   "outputs": [
    {
     "name": "stdin",
     "output_type": "stream",
     "text": [
      " 5 2\n",
      " banan\n",
      " apple\n",
      " cherry\n",
      " grape\n",
      " qwer\n",
      " 3\n"
     ]
    },
    {
     "name": "stdout",
     "output_type": "stream",
     "text": [
      "cherry\n"
     ]
    },
    {
     "name": "stdin",
     "output_type": "stream",
     "text": [
      " qwer\n"
     ]
    },
    {
     "name": "stdout",
     "output_type": "stream",
     "text": [
      "5\n"
     ]
    }
   ],
   "source": [
    "n, m = map(int, input().split())\n",
    "arr = {}\n",
    "arr_name = {}\n",
    "for i in range(n):\n",
    "    name = input()\n",
    "    arr[i] = name\n",
    "    arr_name[name] = i\n",
    "for i in range(m):\n",
    "    prog = input()\n",
    "    if prog.isdecimal() == True:\n",
    "        print(arr[int(prog) -1])\n",
    "    else:\n",
    "        print(int(arr_name[prog]) + 1)"
   ]
  },
  {
   "cell_type": "code",
   "execution_count": 40,
   "id": "181a247b-e193-4ca1-96a2-5e4134579a58",
   "metadata": {},
   "outputs": [
    {
     "name": "stdout",
     "output_type": "stream",
     "text": [
      "HiGumbeng\n",
      "True\n"
     ]
    }
   ],
   "source": [
    "name = \"Hi Gumbeng\"\n",
    "name = name.replace(\" \", \"\")\n",
    "print(name)\n",
    "print(name.isalpha())"
   ]
  },
  {
   "cell_type": "code",
   "execution_count": 47,
   "id": "ddf78fa5-157e-427e-84cd-df93c6318a57",
   "metadata": {},
   "outputs": [
    {
     "data": {
      "text/plain": [
       "2"
      ]
     },
     "execution_count": 47,
     "metadata": {},
     "output_type": "execute_result"
    }
   ],
   "source": [
    "arr = ['ab','cd','ef']\n",
    "num = [0,1,2]\n",
    "arr.index('ef')"
   ]
  }
 ],
 "metadata": {
  "kernelspec": {
   "display_name": "Python 3 (ipykernel)",
   "language": "python",
   "name": "python3"
  },
  "language_info": {
   "codemirror_mode": {
    "name": "ipython",
    "version": 3
   },
   "file_extension": ".py",
   "mimetype": "text/x-python",
   "name": "python",
   "nbconvert_exporter": "python",
   "pygments_lexer": "ipython3",
   "version": "3.12.5"
  }
 },
 "nbformat": 4,
 "nbformat_minor": 5
}
