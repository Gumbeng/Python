{
 "cells": [
  {
   "cell_type": "code",
   "execution_count": 1,
   "id": "ba57934e-7f2f-4513-972d-e938053c8ee5",
   "metadata": {},
   "outputs": [],
   "source": [
    "import pandas as pd\n",
    "import numpy as np\n",
    "from sklearn.model_selection import train_test_split\n",
    "\n",
    "from sklearn.ensemble import GradientBoostingClassifier, RandomForestClassifier\n",
    "from sklearn.neighbors import KNeighborsClassifier\n",
    "from xgboost import XGBClassifier\n",
    "from sklearn.metrics import accuracy_score, precision_score, recall_score, f1_score, roc_auc_score\n",
    "\n",
    "from sklearn.model_selection import RandomizedSearchCV\n",
    "from sklearn.model_selection import GridSearchCV\n",
    "\n",
    "import joblib\n"
   ]
  },
  {
   "cell_type": "code",
   "execution_count": 2,
   "id": "76824ef2-2481-4831-a7f7-32ea4ee4c6ee",
   "metadata": {},
   "outputs": [
    {
     "name": "stdout",
     "output_type": "stream",
     "text": [
      "[0.73475 0.26525]\n",
      "[0.73466667 0.26533333]\n",
      "[0.735 0.265]\n"
     ]
    }
   ],
   "source": [
    "# 데이터 로드\n",
    "df = pd.read_csv('Data/gym_revised.csv')\n",
    "# X, y 분할\n",
    "X = df.drop(columns=['Churn', 'Phone', 'Unnamed: 0'])\n",
    "y = df['Churn']\n",
    "# print(X.info())\n",
    "# print(y.info())\n",
    "\n",
    "# train, valid 분할 \n",
    "X_train, X_valid, y_train, y_valid = train_test_split(X, y, test_size=0.25, stratify=y, random_state=0)\n",
    "# print(X_trian.shape, X_valid.shape, y_train.shape, y_valid.shape)\n",
    "\n",
    "# 비율 확인 (이탈 N / Y)\n",
    "print(np.unique(y, return_counts=True)[1]/y.size)\n",
    "print(np.unique(y_train, return_counts=True)[1]/y_train.size)\n",
    "print(np.unique(y_valid, return_counts=True)[1]/y_valid.size)"
   ]
  },
  {
   "cell_type": "code",
   "execution_count": 3,
   "id": "8a4a71f0-b931-43db-a723-e4be44f28f24",
   "metadata": {},
   "outputs": [
    {
     "data": {
      "text/html": [
       "<div>\n",
       "<style scoped>\n",
       "    .dataframe tbody tr th:only-of-type {\n",
       "        vertical-align: middle;\n",
       "    }\n",
       "\n",
       "    .dataframe tbody tr th {\n",
       "        vertical-align: top;\n",
       "    }\n",
       "\n",
       "    .dataframe thead th {\n",
       "        text-align: right;\n",
       "    }\n",
       "</style>\n",
       "<table border=\"1\" class=\"dataframe\">\n",
       "  <thead>\n",
       "    <tr style=\"text-align: right;\">\n",
       "      <th></th>\n",
       "      <th>GBM</th>\n",
       "      <th>RF</th>\n",
       "      <th>KNN</th>\n",
       "      <th>XGB</th>\n",
       "    </tr>\n",
       "  </thead>\n",
       "  <tbody>\n",
       "    <tr>\n",
       "      <th>accuracy</th>\n",
       "      <td>0.935000</td>\n",
       "      <td>0.923000</td>\n",
       "      <td>0.864000</td>\n",
       "      <td>0.938000</td>\n",
       "    </tr>\n",
       "    <tr>\n",
       "      <th>precision</th>\n",
       "      <td>0.920168</td>\n",
       "      <td>0.888430</td>\n",
       "      <td>0.747126</td>\n",
       "      <td>0.914286</td>\n",
       "    </tr>\n",
       "    <tr>\n",
       "      <th>recall</th>\n",
       "      <td>0.826415</td>\n",
       "      <td>0.811321</td>\n",
       "      <td>0.735849</td>\n",
       "      <td>0.845283</td>\n",
       "    </tr>\n",
       "    <tr>\n",
       "      <th>f1</th>\n",
       "      <td>0.870775</td>\n",
       "      <td>0.848126</td>\n",
       "      <td>0.741445</td>\n",
       "      <td>0.878431</td>\n",
       "    </tr>\n",
       "    <tr>\n",
       "      <th>roc-auc</th>\n",
       "      <td>0.978295</td>\n",
       "      <td>0.970838</td>\n",
       "      <td>0.882647</td>\n",
       "      <td>0.979828</td>\n",
       "    </tr>\n",
       "  </tbody>\n",
       "</table>\n",
       "</div>"
      ],
      "text/plain": [
       "                GBM        RF       KNN       XGB\n",
       "accuracy   0.935000  0.923000  0.864000  0.938000\n",
       "precision  0.920168  0.888430  0.747126  0.914286\n",
       "recall     0.826415  0.811321  0.735849  0.845283\n",
       "f1         0.870775  0.848126  0.741445  0.878431\n",
       "roc-auc    0.978295  0.970838  0.882647  0.979828"
      ]
     },
     "execution_count": 3,
     "metadata": {},
     "output_type": "execute_result"
    }
   ],
   "source": [
    "# 베이스라인 모델 학습 (Gradient Boosting / RandomForest, KNN, XGBoosting) \n",
    "\n",
    "models = [\n",
    "    (\"GBM\", GradientBoostingClassifier(random_state=0)),\n",
    "    (\"RF\", RandomForestClassifier(random_state=0)),\n",
    "    (\"KNN\", KNeighborsClassifier()),\n",
    "    (\"XGB\", XGBClassifier(random_state=0))\n",
    "]\n",
    "\n",
    "baseline_result_valid = {}\n",
    "\n",
    "for name, model in models:\n",
    "    model.fit(X_train, y_train)\n",
    "    \n",
    "    pred_valid = model.predict(X_valid)\n",
    "    pred_proba_valid = model.predict_proba(X_valid)[:, 1]\n",
    "\n",
    "    accuracy_valid = accuracy_score(y_valid, pred_valid)\n",
    "    precision_valid = precision_score(y_valid, pred_valid)\n",
    "    recall_valid = recall_score(y_valid, pred_valid)\n",
    "    f1_valid = f1_score(y_valid, pred_valid)\n",
    "    roc_auc_valid = roc_auc_score(y_valid, pred_proba_valid)\n",
    "    \n",
    "    baseline_result_valid[name] = [accuracy_valid, precision_valid, recall_valid, f1_valid, roc_auc_valid]\n",
    "\n",
    "pd.DataFrame(baseline_result_valid, index=['accuracy', 'precision', 'recall', 'f1', 'roc-auc'])"
   ]
  },
  {
   "cell_type": "code",
   "execution_count": 4,
   "id": "520eb715-f5b5-4675-8f4c-146eaa9dba57",
   "metadata": {},
   "outputs": [],
   "source": [
    "# 모델 튜닝, 학습, 저 함수 (파라미터 수에 따라, Grid Search 또는 Randomized Search 사용)\n",
    "def cv(t, model, params):\n",
    "    if t == 'grid':\n",
    "        cv = GridSearchCV(\n",
    "            estimator=model,\n",
    "            param_grid=params,\n",
    "            scoring='roc_auc',\n",
    "            cv=4,\n",
    "            n_jobs=-1\n",
    "        )\n",
    "    elif t == 'rand':\n",
    "        cv = RandomizedSearchCV(\n",
    "            model, params, \n",
    "            cv=4, \n",
    "            scoring='roc_auc', \n",
    "            n_jobs=-1, \n",
    "            n_iter=60, \n",
    "            random_state=0\n",
    "        )\n",
    "\n",
    "    cv.fit(X_train, y_train)\n",
    "    print(cv.best_params_)\n",
    "    print(cv.best_estimator_)\n",
    "    print(cv.best_score_)\n",
    "    \n",
    "    best_model = cv.best_estimator_\n",
    "    \n",
    "    pred_train = best_model.predict(X_train)\n",
    "    pred_test = best_model.predict(X_valid)\n",
    "    \n",
    "    pred_train_proba = best_model.predict_proba(X_train)\n",
    "    pred_valid_proba = best_model.predict_proba(X_valid)\n",
    "    \n",
    "    train_score = roc_auc_score(y_train, pred_train_proba[:,1])\n",
    "    valid_score = roc_auc_score(y_valid, pred_valid_proba[:,1])\n",
    "    \n",
    "    print('Train Score:', train_score)\n",
    "    print('Valid Score:', valid_score)\n",
    "    return best_model\n"
   ]
  },
  {
   "cell_type": "code",
   "execution_count": 7,
   "id": "81a3d82f-fce1-46f0-81bd-11da833e524d",
   "metadata": {},
   "outputs": [
    {
     "name": "stdout",
     "output_type": "stream",
     "text": [
      "{'max_depth': 7, 'n_estimators': 500}\n",
      "RandomForestClassifier(max_depth=7, n_estimators=500, random_state=0)\n",
      "0.9682737644666162\n",
      "Train Score: 0.9878042663407783\n",
      "Valid Score: 0.9683532280836863\n"
     ]
    },
    {
     "data": {
      "text/plain": [
       "['models/best_rf.pkl']"
      ]
     },
     "execution_count": 7,
     "metadata": {},
     "output_type": "execute_result"
    }
   ],
   "source": [
    "# RandomForest Grid Search\n",
    "model_rf = RandomForestClassifier(random_state=0)\n",
    "\n",
    "params_rf = {\n",
    "    'n_estimators': [100, 200, 300, 400, 500, 600, 700],\n",
    "    'max_depth': [2, 3, 4, 5, 6, 7],\n",
    "}\n",
    "\n",
    "best_rf = cv('grid', model_rf, params_rf)\n",
    "joblib.dump(best_rf, 'models/best_rf.pkl')\n"
   ]
  },
  {
   "cell_type": "code",
   "execution_count": 6,
   "id": "b41ac0bb-31ef-47ed-9ce8-57f65ce8171d",
   "metadata": {
    "scrolled": true
   },
   "outputs": [
    {
     "name": "stdout",
     "output_type": "stream",
     "text": [
      "{'subsample': 0.7, 'n_estimators': 4000, 'max_depth': 2, 'learning_rate': 0.01}\n",
      "GradientBoostingClassifier(learning_rate=0.01, max_depth=2, n_estimators=4000,\n",
      "                           random_state=0, subsample=0.7)\n",
      "0.9829569809118187\n",
      "Train Score: 0.9965190061012867\n",
      "Valid Score: 0.9823796688486715\n"
     ]
    },
    {
     "data": {
      "text/plain": [
       "['models/best_gb.pkl']"
      ]
     },
     "execution_count": 6,
     "metadata": {},
     "output_type": "execute_result"
    }
   ],
   "source": [
    "# Gradient Boosting Randomized Search\n",
    "\n",
    "model_gb = GradientBoostingClassifier(random_state=0)\n",
    "\n",
    "params_gb = {\n",
    "    'learning_rate': [0.001, 0.01, 0.1, 0.2],\n",
    "    'n_estimators': [1000, 2000, 3000, 4000, 5000],\n",
    "    'max_depth': range(1, 6),\n",
    "    'subsample': [0.5, 0.6, 0.7, 0.8, 0.9, 1]\n",
    "}\n",
    "\n",
    "best_gb = cv('rand', model_gb, params_gb)\n",
    "joblib.dump(best_gb, 'models/best_gb.pkl')\n"
   ]
  },
  {
   "cell_type": "code",
   "execution_count": 8,
   "id": "d845cda2-9466-4f28-915c-800323575529",
   "metadata": {},
   "outputs": [
    {
     "name": "stdout",
     "output_type": "stream",
     "text": [
      "{'subsample': 0.7, 'n_estimators': 4000, 'max_depth': 2, 'learning_rate': 0.01}\n",
      "XGBClassifier(base_score=None, booster=None, callbacks=None,\n",
      "              colsample_bylevel=None, colsample_bynode=None,\n",
      "              colsample_bytree=None, device=None, early_stopping_rounds=None,\n",
      "              enable_categorical=False, eval_metric=None, feature_types=None,\n",
      "              gamma=None, grow_policy=None, importance_type=None,\n",
      "              interaction_constraints=None, learning_rate=0.01, max_bin=None,\n",
      "              max_cat_threshold=None, max_cat_to_onehot=None,\n",
      "              max_delta_step=None, max_depth=2, max_leaves=None,\n",
      "              min_child_weight=None, missing=nan, monotone_constraints=None,\n",
      "              multi_strategy=None, n_estimators=4000, n_jobs=None,\n",
      "              num_parallel_tree=None, random_state=0, ...)\n",
      "0.9825260604291877\n",
      "Train Score: 0.9951105345237986\n",
      "Valid Score: 0.98182518290335\n"
     ]
    },
    {
     "data": {
      "text/plain": [
       "['models/best_xgb.pkl']"
      ]
     },
     "execution_count": 8,
     "metadata": {},
     "output_type": "execute_result"
    }
   ],
   "source": [
    "# XGBoosting Randomized Search\n",
    "\n",
    "model_xgb = XGBClassifier(random_state=0)\n",
    "\n",
    "params_xgb = {\n",
    "    'learning_rate': [0.001, 0.01, 0.1, 0.2],\n",
    "    'n_estimators': [1000, 2000, 3000, 4000, 5000],\n",
    "    'max_depth': range(1, 6),\n",
    "    'subsample': [0.5, 0.6, 0.7, 0.8, 0.9, 1]\n",
    "}\n",
    "\n",
    "best_xgb = cv('rand', model_xgb, params_xgb)\n",
    "joblib.dump(best_xgb, 'models/best_xgb.pkl')\n"
   ]
  },
  {
   "cell_type": "code",
   "execution_count": null,
   "id": "7d918e67-86e2-40ca-a028-2499b75ee945",
   "metadata": {},
   "outputs": [],
   "source": []
  }
 ],
 "metadata": {
  "kernelspec": {
   "display_name": "Python 3 (ipykernel)",
   "language": "python",
   "name": "python3"
  },
  "language_info": {
   "codemirror_mode": {
    "name": "ipython",
    "version": 3
   },
   "file_extension": ".py",
   "mimetype": "text/x-python",
   "name": "python",
   "nbconvert_exporter": "python",
   "pygments_lexer": "ipython3",
   "version": "3.12.7"
  }
 },
 "nbformat": 4,
 "nbformat_minor": 5
}
