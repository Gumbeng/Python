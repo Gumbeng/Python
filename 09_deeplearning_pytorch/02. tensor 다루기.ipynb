{
 "cells": [
  {
   "cell_type": "markdown",
   "id": "84c0614b",
   "metadata": {},
   "source": [
    "# Tensor 생성\n",
    "- 파이토치에서 데이터를 저장하는 자료구조\n",
    "- ndarray와 성격, 사용법이 유사하다.\n",
    "\n",
    "> **pytorch의 tensor는 숫자 데이터 타입만 지원한다.**"
   ]
  },
  {
   "cell_type": "markdown",
   "id": "06d118ec",
   "metadata": {},
   "source": [
    "##  원하는 형태(shape) 텐서 생성\n",
    "- **torch.tensor(자료구조 \\[, dtype\\])**\n",
    "    - 지정한 dtype(Data type)에 맞는 Tensor객체를 생성해서 반환한다.\n",
    "      \n",
    "## 특정 타입의 Tensor를 직접 생성\n",
    "- torch.tensor()로 생성하면서 dtype을 지정하면 아래 타입의 Tensor객체가 생성된다.\n",
    "- 원하는 Type의 Tensor클래스를 이용해 직접 생성해도 된다.\n",
    "- **torch.FloatTensor(자료구조)**\n",
    "    - float32 타입 텐서 생성\n",
    "- **torch.LongTensor(자료구조)** \n",
    "    - int64 타입 텐서생성\n",
    "- 그외\n",
    "    - BoolTensor(bool), CharTensor(int8), ShortTensor(int16), IntTensor(int32), DoubleTensor(float64)\n",
    "    \n",
    "## tensor 상태 조회\n",
    "- **tensor.shape, tensor.size(\\[축번호\\])**\n",
    "    -  tensor의 shape조회\n",
    "- **tensor.dtype, tensor.type()**\n",
    "    - tensor 원소들의 데이터타입 조회\n",
    "    - dtype은 **data type**을 type()은 tensor **객체의 클래스 타입**을 반환한다.\n",
    "- **tensor.ndim, tensor.dim()**  : tensor 차원\n",
    "- **tensor.numel()**: 전체 원소 개수\n",
    "\n"
   ]
  },
  {
   "cell_type": "code",
   "execution_count": 125,
   "id": "8f81163c",
   "metadata": {},
   "outputs": [],
   "source": [
    "import torch"
   ]
  },
  {
   "cell_type": "code",
   "execution_count": 126,
   "id": "1a471610-e0d4-477c-bbe7-03f8a8d7202c",
   "metadata": {},
   "outputs": [
    {
     "name": "stdout",
     "output_type": "stream",
     "text": [
      "torch Data types\n",
      "float torch.float16 torch.float32 torch.float64 torch.float32 torch.float64\n",
      "int: torch.int8 torch.int16 torch.int32 torch.int64\n",
      "uint: torch.uint8 torch.uint16 torch.uint32 torch.uint64\n",
      "bool: torch.bool\n"
     ]
    }
   ],
   "source": [
    "print('torch Data types')\n",
    "print(\"float\", torch.float16, torch.float32, torch.float64, torch.float, torch.double)  #torch.float: float32\n",
    "print(\"int:\", torch.int8, torch.int16, torch.int32, torch.int64)#  torch.short, torch.int, torch.long 가능\n",
    "print(\"uint:\", torch.uint8, torch.uint16, torch.uint32, torch.uint64)\n",
    "print(\"bool:\", torch.bool)"
   ]
  },
  {
   "cell_type": "code",
   "execution_count": 127,
   "id": "370e0dcd",
   "metadata": {},
   "outputs": [
    {
     "name": "stdout",
     "output_type": "stream",
     "text": [
      "shape: torch.Size([2, 2]) torch.Size([2, 2])\n",
      "0축 크기: 2 2\n",
      "type: torch.FloatTensor torch.float32\n",
      "차원크기: 2 2\n",
      "원소개수: 4\n",
      "device: cpu\n"
     ]
    }
   ],
   "source": [
    "a = torch.tensor([[1,2],[3,4]], dtype=torch.float32)\n",
    "print(\"shape:\", a.shape, a.size())\n",
    "print(\"0축 크기:\", a.shape[0], a.size(0))\n",
    "print(\"type:\", a.type(), a.dtype)  # type(): Tensor 객체 타입. dtype: data type => 둘은 좀 다르다.\n",
    "print('차원크기:', a.dim(), a.ndim)\n",
    "print('원소개수:', a.numel())\n",
    "print(\"device:\", a.device)  # tensor를 다루는 processor(메모리위치) - cpu, cuda(gpu)"
   ]
  },
  {
   "cell_type": "code",
   "execution_count": 128,
   "id": "27f077a1",
   "metadata": {},
   "outputs": [
    {
     "name": "stdout",
     "output_type": "stream",
     "text": [
      "tensor([0, 1, 2, 3, 4, 5, 6, 7, 8, 9])\n"
     ]
    }
   ],
   "source": [
    "aa = torch.tensor(range(10))\n",
    "print(aa)"
   ]
  },
  {
   "cell_type": "code",
   "execution_count": 129,
   "id": "e40a7f96",
   "metadata": {},
   "outputs": [
    {
     "name": "stdout",
     "output_type": "stream",
     "text": [
      "torch.float32\n"
     ]
    }
   ],
   "source": [
    "#Float, Double(32, 64bit 실수)/Int, Long(32, 64 bit 정수) type Tensor\n",
    "b = torch.FloatTensor([1,3,7])  #float32\n",
    "print(b.dtype)\n",
    "# c = torch.IntTensor([10,20,30])    # int32\n",
    "# print(c.dtype)\n",
    "# d = torch.DoubleTensor([1, 2, 3])  # float64\n",
    "# print(d.dtype)\n",
    "# e = torch.LongTensor([10, 20, 30]) # int64\n",
    "# print(e.dtype)"
   ]
  },
  {
   "cell_type": "markdown",
   "id": "b57bc602",
   "metadata": {},
   "source": [
    "## 동일한 값을 원소로 가지는 Tensor 생성\n",
    "- **torch.zeros(\\*size), zeros_like(텐서)**: 0으로 구성된 tensor 생성\n",
    "- **torch.ones(\\*size), ones_like(텐서)**: 1로 구성된 tensor생성\n",
    "- **torch.full(size, fill_value), full_like(텐서, fill_value)**: 지정한 값으로 구성된 tensor생성\n",
    "  - size \n",
    "    - shape을 지정한다.\n",
    "    - zeros, ones는 가변인자이므로 축별 size를 순서대로 서정\n",
    "    - full 은 tuple/list로 shape을 지정한다.\n",
    "    "
   ]
  },
  {
   "cell_type": "code",
   "execution_count": 130,
   "id": "801e4ffc",
   "metadata": {
    "scrolled": true
   },
   "outputs": [
    {
     "data": {
      "text/plain": [
       "tensor([[100, 100],\n",
       "        [100, 100],\n",
       "        [100, 100]])"
      ]
     },
     "execution_count": 130,
     "metadata": {},
     "output_type": "execute_result"
    }
   ],
   "source": [
    "torch.zeros(3,2,3)\n",
    "torch.ones(2,3)\n",
    "torch.full([3,2], fill_value=100)\n"
   ]
  },
  {
   "cell_type": "code",
   "execution_count": 131,
   "id": "1697cfd6",
   "metadata": {},
   "outputs": [
    {
     "name": "stdout",
     "output_type": "stream",
     "text": [
      "torch.Size([2, 2])\n"
     ]
    },
    {
     "data": {
      "text/plain": [
       "torch.Size([2, 2])"
      ]
     },
     "execution_count": 131,
     "metadata": {},
     "output_type": "execute_result"
    }
   ],
   "source": [
    "# 특정 배열과 동일한 shape의 tensor 생성.\n",
    "a = torch.tensor([[1, 2],[3, 4]]) # 2 x 2\n",
    "print(a.shape)\n",
    "b = torch.zeros_like(a)  # a와 같은 shape으로 생성.\n",
    "# b = torch.ones_like(a)\n",
    "# b = torch.full_like(a, 20)\n",
    "b.shape\n",
    "# b"
   ]
  },
  {
   "cell_type": "markdown",
   "id": "01301e5c",
   "metadata": {},
   "source": [
    "## 동일한 간격으로 떨어진 값들로 구성된 배열생성\n",
    "- **torch.arange(start=0, end, step=1)** \n",
    "- **torch.linspace(start, end, steps,)** : steps - 원소개수"
   ]
  },
  {
   "cell_type": "code",
   "execution_count": 132,
   "id": "f9b9fd1b",
   "metadata": {},
   "outputs": [
    {
     "data": {
      "text/plain": [
       "tensor([10,  9,  8,  7,  6,  5,  4,  3,  2])"
      ]
     },
     "execution_count": 132,
     "metadata": {},
     "output_type": "execute_result"
    }
   ],
   "source": [
    "torch.arange(10)  # end. 0 ~ 10 1씩 증가\n",
    "torch.arange(0, 1, 0.1) # 0 ~ 1, 0.1 \n",
    "torch.arange(10, 1, -1) # 10 ~ 1, -1 "
   ]
  },
  {
   "cell_type": "code",
   "execution_count": 133,
   "id": "afa883dd",
   "metadata": {},
   "outputs": [
    {
     "data": {
      "text/plain": [
       "tensor([0.0000, 0.1000, 0.2000, 0.3000, 0.4000, 0.5000, 0.6000, 0.7000, 0.8000,\n",
       "        0.9000, 1.0000])"
      ]
     },
     "execution_count": 133,
     "metadata": {},
     "output_type": "execute_result"
    }
   ],
   "source": [
    "torch.linspace(0, 10, 5)\n",
    "torch.linspace(0, 1, 11)\n"
   ]
  },
  {
   "cell_type": "markdown",
   "id": "f2bd2a03",
   "metadata": {},
   "source": [
    "## 빈 tensor 생성\n",
    "- **torch.empty(\\*size)**"
   ]
  },
  {
   "cell_type": "code",
   "execution_count": 134,
   "id": "f9a865f4",
   "metadata": {
    "scrolled": true
   },
   "outputs": [
    {
     "data": {
      "text/plain": [
       "tensor([[[-8.1196e-26,  1.5330e-42,  0.0000e+00,  0.0000e+00,  0.0000e+00,\n",
       "           0.0000e+00,  0.0000e+00],\n",
       "         [ 0.0000e+00,  0.0000e+00,  0.0000e+00,  0.0000e+00,  0.0000e+00,\n",
       "           0.0000e+00,  0.0000e+00]],\n",
       "\n",
       "        [[ 0.0000e+00,  0.0000e+00,  0.0000e+00,  0.0000e+00,  0.0000e+00,\n",
       "           0.0000e+00,  0.0000e+00],\n",
       "         [ 0.0000e+00,  0.0000e+00,  0.0000e+00,  0.0000e+00,  0.0000e+00,\n",
       "           0.0000e+00,  0.0000e+00]],\n",
       "\n",
       "        [[ 0.0000e+00,  0.0000e+00,  0.0000e+00,  0.0000e+00,  0.0000e+00,\n",
       "           0.0000e+00,  0.0000e+00],\n",
       "         [ 0.0000e+00,  0.0000e+00,  0.0000e+00,  0.0000e+00,  0.0000e+00,\n",
       "           0.0000e+00,  0.0000e+00]]])"
      ]
     },
     "execution_count": 134,
     "metadata": {},
     "output_type": "execute_result"
    }
   ],
   "source": [
    "torch.empty(3,2,7)"
   ]
  },
  {
   "cell_type": "markdown",
   "id": "6ec59585",
   "metadata": {},
   "source": [
    "## 난수를 이용한 생성\n",
    "\n",
    "- **torch.rand(\\*size)**: 0 ~ 1사이 실수로 구성된 배열을 생성. 각 값은 균등분포를 따른다.\n",
    "- **torch.randn(\\*size)**: 표준정규분포(평균:0, 표준편차:1)를 따르는 실수로 구성된 배열 생성\n",
    "- **torch.randint(low=0, high, size)**: 지정한 범위의 정수로 구성된 배열 생성\n",
    "- **torch.randperm(n)**: 0 ~ n-1 사이의 정수를 랜덤하게 섞은 값을 원소로 가지는 배열 생성"
   ]
  },
  {
   "cell_type": "code",
   "execution_count": 135,
   "id": "def1448b",
   "metadata": {},
   "outputs": [
    {
     "data": {
      "text/plain": [
       "tensor([0, 4, 2, 3, 1])"
      ]
     },
     "execution_count": 135,
     "metadata": {},
     "output_type": "execute_result"
    }
   ],
   "source": [
    "# torch.manual_seed(0)  # seed 설정\n",
    "torch.rand(100, 3, 5) #.shape\n",
    "torch.randn(30,3)\n",
    "torch.randint(1, 100, (3,3))  \n",
    "torch.randperm(5) # 0 ~ 4 를 섞어서 구성"
   ]
  },
  {
   "cell_type": "code",
   "execution_count": 136,
   "id": "8e9b7c88-3511-4c26-8282-5fc9ad857b98",
   "metadata": {},
   "outputs": [
    {
     "data": {
      "text/plain": [
       "tensor([ 9, 10, 58, 14, 90, 64, 85, 18, 36, 46, 93, 17, 28, 65, 74, 59, 48, 96,\n",
       "        92, 40, 66, 33, 69, 23,  1,  3,  4, 38, 60, 95, 31, 24, 70,  8, 98, 62,\n",
       "        87, 26, 55, 53,  2, 63, 29, 61, 57, 39, 99, 41, 94, 43, 83, 81, 12, 44,\n",
       "        19, 11, 56, 89, 25, 20, 16,  7,  6, 32, 77, 97, 30,  0, 27, 49, 84, 42,\n",
       "        67, 22, 82, 75, 47, 80, 35, 54, 73, 88, 34, 71,  5, 37, 51, 91, 79, 76,\n",
       "        72, 15, 45, 52, 86, 21, 68, 78, 13, 50])"
      ]
     },
     "execution_count": 136,
     "metadata": {},
     "output_type": "execute_result"
    }
   ],
   "source": [
    "a = torch.arange(100)\n",
    "# a 섞기\n",
    "idx = torch.randperm(100) # 0 ~ 99 섞어서 반환. -> index\n",
    "a[idx]"
   ]
  },
  {
   "cell_type": "markdown",
   "id": "d8494a6a",
   "metadata": {},
   "source": [
    "## Tensor gpu/cpu 메모리로 옮기기\n",
    "\n",
    "- pytorch는 데이터셋인 tensor를 cpu메모리와 gpu 메모리로 서로 옮길 수 있다.\n",
    "    - 데이터에 대한 연산처리를 어디서 하느냐에 따라 메모리를 선택한다.\n",
    "    - 장치는 문자열로 설정한다.\n",
    "        - CPU 사용: \"cpu\"\n",
    "        - nvida GPU: \"cuda\"\n",
    "        - Apple m1: \"mps\"\n",
    "            - pytorch 1.12 부터 지원\n",
    "- 옮기기\n",
    "    - tensor 생성시 `device` 파라미터를 이용해 설정\n",
    "    - `tensor.to(device)`를 이용해 설정\n",
    "- 현재 실행환경에서 어떤 장비를 사용할 수 있는지 확인\n",
    "    - nvidia gpu 사용가능확인\n",
    "        - `torch.cuda.is_available()` - nvida gpu 사용가능 여부\n",
    "        - `torch.backends.mps.is_available()` - M1 사용가능 여부"
   ]
  },
  {
   "cell_type": "code",
   "execution_count": 137,
   "id": "9bf69bd8",
   "metadata": {},
   "outputs": [
    {
     "data": {
      "text/plain": [
       "'cpu'"
      ]
     },
     "execution_count": 137,
     "metadata": {},
     "output_type": "execute_result"
    }
   ],
   "source": [
    "import torch\n",
    "# device = 'cuda' if torch.cuda.is_available() else 'mps' if torch.backends.mps.is_available() else 'cpu'\n",
    "device = 'cuda' if torch.cuda.is_available() else 'cpu'\n",
    "device"
   ]
  },
  {
   "cell_type": "code",
   "execution_count": 138,
   "id": "92ffadca",
   "metadata": {},
   "outputs": [
    {
     "name": "stdout",
     "output_type": "stream",
     "text": [
      "tensor([1., 2., 3.]) cpu\n",
      "tensor([1., 2., 3.]) cpu\n"
     ]
    }
   ],
   "source": [
    "t = torch.tensor([1, 2, 3], dtype=torch.float32, device=device)\n",
    "print(t, t.device)\n",
    "\n",
    "t2 = t.to(\"cpu\")\n",
    "print(t2, t2.device)"
   ]
  },
  {
   "cell_type": "markdown",
   "id": "eb9df51a",
   "metadata": {},
   "source": [
    "## tensor를 상수로 변환\n",
    "- torch.Tensor객체를 파이썬 상수로 변환.\n",
    "- tensor객체.item()\n",
    "    - Scalar(상수) 또는 원소가 하나인 tensor를 python 상수로 변환"
   ]
  },
  {
   "cell_type": "code",
   "execution_count": 139,
   "id": "9e24dc70",
   "metadata": {
    "scrolled": true
   },
   "outputs": [
    {
     "name": "stdout",
     "output_type": "stream",
     "text": [
      "tensor(10) 0\n",
      "10\n",
      "<class 'torch.Tensor'> <class 'int'>\n"
     ]
    }
   ],
   "source": [
    "a = torch.tensor(10)  # 상수(scalar) => 0차원 Tensor\n",
    "print(a, a.ndim)\n",
    "print(a.item())\n",
    "print(type(a), type(a.item()))"
   ]
  },
  {
   "cell_type": "code",
   "execution_count": 140,
   "id": "d62c3168",
   "metadata": {},
   "outputs": [
    {
     "name": "stdout",
     "output_type": "stream",
     "text": [
      "tensor([[20]]) 2\n",
      "20\n"
     ]
    }
   ],
   "source": [
    "b = torch.tensor([[20]]) # 원소가 하나인 N차원 배열\n",
    "print(b, b.dim())\n",
    "print(b.item()) #원소가 하나인 배열(텐서) 변환 가능"
   ]
  },
  {
   "cell_type": "code",
   "execution_count": 141,
   "id": "cefb6f7b",
   "metadata": {
    "scrolled": true
   },
   "outputs": [
    {
     "name": "stdout",
     "output_type": "stream",
     "text": [
      "tensor([  1,  10, 100])\n"
     ]
    }
   ],
   "source": [
    "c = torch.tensor([1, 10, 100])\n",
    "print(c)\n",
    "# print(c.item()) #원소가 여러개일 경우 Exception발생"
   ]
  },
  {
   "cell_type": "code",
   "execution_count": 142,
   "id": "06f1ae95",
   "metadata": {},
   "outputs": [],
   "source": [
    "# d = torch.tensor([10], device='cuda')\n",
    "# print(d)\n",
    "# print(d.item())"
   ]
  },
  {
   "cell_type": "markdown",
   "id": "a8709f0b",
   "metadata": {},
   "source": [
    "## ndarray 호환\n",
    "\n",
    "- ndarray를 tensor로 생성\n",
    "    - **torch.tensor(ndarray)**\n",
    "    - **torch.from_numpy(ndarray)**\n",
    "- tensor를 ndarray로 변환\n",
    "    - **tensor.numpy()**\n",
    "    - tensor가 gpu에 있을 경우 cpu로 옮긴 뒤 변환해야 한다."
   ]
  },
  {
   "cell_type": "code",
   "execution_count": 143,
   "id": "ff396b21",
   "metadata": {},
   "outputs": [],
   "source": [
    "import numpy as np\n",
    "import torch"
   ]
  },
  {
   "cell_type": "code",
   "execution_count": 144,
   "id": "2c1d1b90",
   "metadata": {},
   "outputs": [
    {
     "data": {
      "text/plain": [
       "tensor([1, 2, 3, 4, 5, 6, 7, 8, 9])"
      ]
     },
     "execution_count": 144,
     "metadata": {},
     "output_type": "execute_result"
    }
   ],
   "source": [
    "# ndarray -> tensor\n",
    "arr = np.arange(1,10)\n",
    "\n",
    "torch.tensor(arr, dtype=torch.float32)\n",
    "torch.from_numpy(arr)"
   ]
  },
  {
   "cell_type": "code",
   "execution_count": 145,
   "id": "4a5fa181",
   "metadata": {},
   "outputs": [
    {
     "name": "stdout",
     "output_type": "stream",
     "text": [
      "tensor([[ 1.5274,  1.3666,  0.4709],\n",
      "        [-0.0340,  1.1586, -0.1378],\n",
      "        [ 0.4096, -0.1650, -0.4443]])\n"
     ]
    },
    {
     "data": {
      "text/plain": [
       "array([[ 1.527367  ,  1.3666053 ,  0.47085184],\n",
       "       [-0.03403444,  1.1586424 , -0.1377694 ],\n",
       "       [ 0.4095782 , -0.16502123, -0.44432795]], dtype=float32)"
      ]
     },
     "execution_count": 145,
     "metadata": {},
     "output_type": "execute_result"
    }
   ],
   "source": [
    "# tensor -> ndarray\n",
    "t = torch.randn(3,3)\n",
    "print(t)\n",
    "t.to(\"cpu\").numpy()"
   ]
  },
  {
   "cell_type": "code",
   "execution_count": 146,
   "id": "d85bf50c",
   "metadata": {},
   "outputs": [
    {
     "ename": "AssertionError",
     "evalue": "Torch not compiled with CUDA enabled",
     "output_type": "error",
     "traceback": [
      "\u001b[1;31m---------------------------------------------------------------------------\u001b[0m",
      "\u001b[1;31mAssertionError\u001b[0m                            Traceback (most recent call last)",
      "Cell \u001b[1;32mIn[146], line 1\u001b[0m\n\u001b[1;32m----> 1\u001b[0m t2 \u001b[38;5;241m=\u001b[39m \u001b[43mtorch\u001b[49m\u001b[38;5;241;43m.\u001b[39;49m\u001b[43mrandn\u001b[49m\u001b[43m(\u001b[49m\u001b[38;5;241;43m2\u001b[39;49m\u001b[43m,\u001b[49m\u001b[38;5;241;43m2\u001b[39;49m\u001b[43m,\u001b[49m\u001b[43m \u001b[49m\u001b[43mdevice\u001b[49m\u001b[38;5;241;43m=\u001b[39;49m\u001b[38;5;124;43m\"\u001b[39;49m\u001b[38;5;124;43mcuda\u001b[39;49m\u001b[38;5;124;43m\"\u001b[39;49m\u001b[43m)\u001b[49m\n\u001b[0;32m      2\u001b[0m t2\n",
      "File \u001b[1;32m~\\AppData\\Local\\miniconda3\\envs\\ml\\Lib\\site-packages\\torch\\cuda\\__init__.py:310\u001b[0m, in \u001b[0;36m_lazy_init\u001b[1;34m()\u001b[0m\n\u001b[0;32m    305\u001b[0m     \u001b[38;5;28;01mraise\u001b[39;00m \u001b[38;5;167;01mRuntimeError\u001b[39;00m(\n\u001b[0;32m    306\u001b[0m         \u001b[38;5;124m\"\u001b[39m\u001b[38;5;124mCannot re-initialize CUDA in forked subprocess. To use CUDA with \u001b[39m\u001b[38;5;124m\"\u001b[39m\n\u001b[0;32m    307\u001b[0m         \u001b[38;5;124m\"\u001b[39m\u001b[38;5;124mmultiprocessing, you must use the \u001b[39m\u001b[38;5;124m'\u001b[39m\u001b[38;5;124mspawn\u001b[39m\u001b[38;5;124m'\u001b[39m\u001b[38;5;124m start method\u001b[39m\u001b[38;5;124m\"\u001b[39m\n\u001b[0;32m    308\u001b[0m     )\n\u001b[0;32m    309\u001b[0m \u001b[38;5;28;01mif\u001b[39;00m \u001b[38;5;129;01mnot\u001b[39;00m \u001b[38;5;28mhasattr\u001b[39m(torch\u001b[38;5;241m.\u001b[39m_C, \u001b[38;5;124m\"\u001b[39m\u001b[38;5;124m_cuda_getDeviceCount\u001b[39m\u001b[38;5;124m\"\u001b[39m):\n\u001b[1;32m--> 310\u001b[0m     \u001b[38;5;28;01mraise\u001b[39;00m \u001b[38;5;167;01mAssertionError\u001b[39;00m(\u001b[38;5;124m\"\u001b[39m\u001b[38;5;124mTorch not compiled with CUDA enabled\u001b[39m\u001b[38;5;124m\"\u001b[39m)\n\u001b[0;32m    311\u001b[0m \u001b[38;5;28;01mif\u001b[39;00m _cudart \u001b[38;5;129;01mis\u001b[39;00m \u001b[38;5;28;01mNone\u001b[39;00m:\n\u001b[0;32m    312\u001b[0m     \u001b[38;5;28;01mraise\u001b[39;00m \u001b[38;5;167;01mAssertionError\u001b[39;00m(\n\u001b[0;32m    313\u001b[0m         \u001b[38;5;124m\"\u001b[39m\u001b[38;5;124mlibcudart functions unavailable. It looks like you have a broken build?\u001b[39m\u001b[38;5;124m\"\u001b[39m\n\u001b[0;32m    314\u001b[0m     )\n",
      "\u001b[1;31mAssertionError\u001b[0m: Torch not compiled with CUDA enabled"
     ]
    }
   ],
   "source": [
    "t2 = torch.randn(2,2, device=\"cuda\")\n",
    "t2"
   ]
  },
  {
   "cell_type": "code",
   "execution_count": null,
   "id": "28c9d47a",
   "metadata": {
    "scrolled": true
   },
   "outputs": [],
   "source": [
    "t2.numpy() \n",
    "# t2.to(\"cpu\").numpy()"
   ]
  },
  {
   "cell_type": "markdown",
   "id": "f10f4911",
   "metadata": {},
   "source": [
    "# 원소 조회및 변경 - indexing/slicing\n",
    "\n",
    "- 대부분 Numpy 와 동일\n",
    "    - **slicing에서 step을 <u>음수로 지정할 수 없다.</u>**\n"
   ]
  },
  {
   "cell_type": "code",
   "execution_count": null,
   "id": "2300078c",
   "metadata": {},
   "outputs": [],
   "source": [
    "t = torch.randint(-10, 10, (100, ))\n",
    "t"
   ]
  },
  {
   "cell_type": "code",
   "execution_count": null,
   "id": "a28537ed",
   "metadata": {},
   "outputs": [],
   "source": [
    "t[0]\n",
    "t[[1, 5, -1]] # 여러개 조회-> fancy indexing"
   ]
  },
  {
   "cell_type": "code",
   "execution_count": null,
   "id": "73763041",
   "metadata": {},
   "outputs": [],
   "source": [
    "t[:5]\n",
    "t[10:15]\n",
    "t[90:]\n",
    "t[3:30:3]\n",
    "\n",
    "\n",
    "# t[10:1:-2]  # step 음수 안됨. reverse 안됨. reverse하려면 flip() 사용\n",
    "t[1:10:2].flip(dims=(0,)) #reverse"
   ]
  },
  {
   "cell_type": "markdown",
   "id": "292f1a3e",
   "metadata": {},
   "source": [
    "# boolean index\n",
    "- 논리 연산은 &, |, ~ 을 사용한다."
   ]
  },
  {
   "cell_type": "code",
   "execution_count": 147,
   "id": "81965586",
   "metadata": {},
   "outputs": [
    {
     "data": {
      "text/plain": [
       "tensor([1.5274, 1.3666, 0.4709, 1.1586, 0.4096])"
      ]
     },
     "execution_count": 147,
     "metadata": {},
     "output_type": "execute_result"
    }
   ],
   "source": [
    "# boolean index\n",
    "t[t > 0]"
   ]
  },
  {
   "cell_type": "code",
   "execution_count": 148,
   "id": "49576bbe",
   "metadata": {},
   "outputs": [
    {
     "data": {
      "text/plain": [
       "tensor([1.5274, 1.3666, 0.4709, 1.1586, 0.4096])"
      ]
     },
     "execution_count": 148,
     "metadata": {},
     "output_type": "execute_result"
    }
   ],
   "source": [
    "t[(t > 0) & (t < 5)]"
   ]
  },
  {
   "cell_type": "code",
   "execution_count": 149,
   "id": "e8f93620",
   "metadata": {},
   "outputs": [
    {
     "data": {
      "text/plain": [
       "tensor([1.5274, 1.3666, 0.4709, 1.1586, 0.4096])"
      ]
     },
     "execution_count": 149,
     "metadata": {},
     "output_type": "execute_result"
    }
   ],
   "source": [
    "# 함수로 조회\n",
    "t.masked_select(t > 0)"
   ]
  },
  {
   "cell_type": "code",
   "execution_count": 150,
   "id": "03a01027",
   "metadata": {
    "scrolled": true
   },
   "outputs": [
    {
     "data": {
      "text/plain": [
       "tensor([[ 1.0000e+02,  1.0000e+02,  1.0000e+02],\n",
       "        [-3.4034e-02,  1.1586e+00, -1.3777e-01],\n",
       "        [ 4.0958e-01, -1.6502e-01, -4.4433e-01]])"
      ]
     },
     "execution_count": 150,
     "metadata": {},
     "output_type": "execute_result"
    }
   ],
   "source": [
    "# 변경\n",
    "t[0] = 100\n",
    "t"
   ]
  },
  {
   "cell_type": "code",
   "execution_count": 151,
   "id": "49419f63",
   "metadata": {},
   "outputs": [
    {
     "data": {
      "text/plain": [
       "tensor([[1, 2, 3],\n",
       "        [4, 5, 6],\n",
       "        [7, 8, 9]])"
      ]
     },
     "execution_count": 151,
     "metadata": {},
     "output_type": "execute_result"
    }
   ],
   "source": [
    "t = torch.arange(1, 10).reshape(3,3)\n",
    "t"
   ]
  },
  {
   "cell_type": "code",
   "execution_count": 152,
   "id": "67affa22",
   "metadata": {},
   "outputs": [
    {
     "data": {
      "text/plain": [
       "6"
      ]
     },
     "execution_count": 152,
     "metadata": {},
     "output_type": "execute_result"
    }
   ],
   "source": [
    "# t[ 0축, 1축 ]\n",
    "t[1, 2].item()\n",
    "# t[0, 2].item()"
   ]
  },
  {
   "cell_type": "code",
   "execution_count": 153,
   "id": "15855bcf",
   "metadata": {},
   "outputs": [
    {
     "data": {
      "text/plain": [
       "tensor([6, 3])"
      ]
     },
     "execution_count": 153,
     "metadata": {},
     "output_type": "execute_result"
    }
   ],
   "source": [
    "t[[1,0], [2,2]]  #(1,2), (0,2)\n",
    "# t[[첫번째값, 두번째값]-0축, [첫번째값, 두번째값]-1축]"
   ]
  },
  {
   "cell_type": "code",
   "execution_count": null,
   "id": "a89cfb06",
   "metadata": {},
   "outputs": [],
   "source": []
  },
  {
   "cell_type": "markdown",
   "id": "a02f14d8",
   "metadata": {},
   "source": [
    "# Reshape"
   ]
  },
  {
   "cell_type": "markdown",
   "id": "221e70f8",
   "metadata": {},
   "source": [
    "## shape 변경\n",
    "- tensor객체.reshape(\\*shape) / view(\\*shape) 이용\n",
    "    - 변환 후 값을 변경하면 원본 배열의 값도 같이 바뀐다.\n",
    " > tensor.clone(): tensor를 복제한다."
   ]
  },
  {
   "cell_type": "code",
   "execution_count": 154,
   "id": "71f88268",
   "metadata": {},
   "outputs": [
    {
     "name": "stdout",
     "output_type": "stream",
     "text": [
      "torch.Size([12]) torch.Size([3, 4]) torch.Size([3, 2, 2]) torch.Size([3, 2, 2])\n"
     ]
    }
   ],
   "source": [
    "a=torch.rand(12)\n",
    "a2 = a.reshape(3,4)\n",
    "a3 = a.reshape((3,2,2))\n",
    "a4 = a.reshape((3,2,-1))  #한 개 axis는 -1로 설정가능하고 그럼 계산해서 알아서 설정해 준다.\n",
    "print(a.shape, a2.size(), a3.shape, a4.shape)\n",
    "               "
   ]
  },
  {
   "cell_type": "code",
   "execution_count": 155,
   "id": "18d307e4-65be-43cd-928a-f7b3cd0f340a",
   "metadata": {},
   "outputs": [
    {
     "data": {
      "text/plain": [
       "tensor([0.9454, 0.0511, 0.1343, 0.2434, 0.1772, 0.0059, 0.3463, 0.0714, 0.6954,\n",
       "        0.2255, 0.9670, 0.0518])"
      ]
     },
     "execution_count": 155,
     "metadata": {},
     "output_type": "execute_result"
    }
   ],
   "source": [
    "a"
   ]
  },
  {
   "cell_type": "code",
   "execution_count": 156,
   "id": "d4efda5a-a5bd-4196-a103-52df9201e825",
   "metadata": {},
   "outputs": [
    {
     "data": {
      "text/plain": [
       "tensor([[0.9454, 0.0511, 0.1343, 0.2434],\n",
       "        [0.1772, 0.0059, 0.3463, 0.0714],\n",
       "        [0.6954, 0.2255, 0.9670, 0.0518]])"
      ]
     },
     "execution_count": 156,
     "metadata": {},
     "output_type": "execute_result"
    }
   ],
   "source": [
    "a2"
   ]
  },
  {
   "cell_type": "code",
   "execution_count": 157,
   "id": "6744974f",
   "metadata": {},
   "outputs": [
    {
     "name": "stdout",
     "output_type": "stream",
     "text": [
      "torch.Size([12]) torch.Size([3, 4]) torch.Size([3, 2, 2]) torch.Size([3, 2, 2])\n"
     ]
    }
   ],
   "source": [
    "a5 = a.view(3,4)\n",
    "a6 = a.view((3,2,2))\n",
    "a7 = a.view((3,2,-1))  #한개 axis는 -1로 설정가능\n",
    "print(a.shape, a5.size(), a6.shape, a7.shape)"
   ]
  },
  {
   "cell_type": "code",
   "execution_count": 158,
   "id": "7ec11d87-49fc-41e4-8c61-03b71e96d089",
   "metadata": {},
   "outputs": [
    {
     "data": {
      "text/plain": [
       "tensor([0.9454, 0.0511, 0.1343, 0.2434, 0.1772, 0.0059, 0.3463, 0.0714, 0.6954,\n",
       "        0.2255, 0.9670, 0.0518])"
      ]
     },
     "execution_count": 158,
     "metadata": {},
     "output_type": "execute_result"
    }
   ],
   "source": [
    "a"
   ]
  },
  {
   "cell_type": "code",
   "execution_count": 159,
   "id": "1a0e3191-7e8a-4a83-8568-76ae632e476a",
   "metadata": {},
   "outputs": [
    {
     "data": {
      "text/plain": [
       "tensor([[0.9454, 0.0511, 0.1343, 0.2434],\n",
       "        [0.1772, 0.0059, 0.3463, 0.0714],\n",
       "        [0.6954, 0.2255, 0.9670, 0.0518]])"
      ]
     },
     "execution_count": 159,
     "metadata": {},
     "output_type": "execute_result"
    }
   ],
   "source": [
    "a5  # a.view(3, 4)"
   ]
  },
  {
   "cell_type": "code",
   "execution_count": 160,
   "id": "c8e0e53a-4698-410d-825a-f89e8f3e2383",
   "metadata": {},
   "outputs": [
    {
     "data": {
      "text/plain": [
       "tensor([[0.9454, 0.0511, 0.1343, 0.2434],\n",
       "        [0.1772, 0.0059, 0.3463, 0.0714],\n",
       "        [0.6954, 0.2255, 0.9670, 0.0518]])"
      ]
     },
     "execution_count": 160,
     "metadata": {},
     "output_type": "execute_result"
    }
   ],
   "source": [
    "a2  # a.reshape(3,4)"
   ]
  },
  {
   "cell_type": "code",
   "execution_count": 161,
   "id": "8ace33cf",
   "metadata": {},
   "outputs": [
    {
     "name": "stdout",
     "output_type": "stream",
     "text": [
      "tensor([9.4544e-01, 1.5100e+01, 1.3431e-01, 2.4335e-01, 1.7715e-01, 5.8649e-03,\n",
      "        3.4634e-01, 7.1390e-02, 6.9536e-01, 2.2553e-01, 9.6703e-01, 5.1789e-02])\n"
     ]
    }
   ],
   "source": [
    "# a5[0, 0] = 12.1\n",
    "a2[0, 1] = 15.1\n",
    "\n",
    "print(a)"
   ]
  },
  {
   "cell_type": "code",
   "execution_count": 162,
   "id": "0bee46bb-ef79-4a4c-b990-f3de08ab58af",
   "metadata": {},
   "outputs": [
    {
     "data": {
      "text/plain": [
       "tensor([[[9.4544e-01, 1.5100e+01],\n",
       "         [1.3431e-01, 2.4335e-01]],\n",
       "\n",
       "        [[1.7715e-01, 5.8649e-03],\n",
       "         [3.4634e-01, 7.1390e-02]],\n",
       "\n",
       "        [[6.9536e-01, 2.2553e-01],\n",
       "         [9.6703e-01, 5.1789e-02]]])"
      ]
     },
     "execution_count": 162,
     "metadata": {},
     "output_type": "execute_result"
    }
   ],
   "source": [
    "a4"
   ]
  },
  {
   "cell_type": "code",
   "execution_count": 163,
   "id": "88561ee6",
   "metadata": {},
   "outputs": [
    {
     "name": "stdout",
     "output_type": "stream",
     "text": [
      "tensor([9.4544e-01, 1.5100e+01, 1.3431e-01, 2.4335e-01, 1.7715e-01, 5.8649e-03,\n",
      "        3.4634e-01, 7.1390e-02, 6.9536e-01, 2.2553e-01, 9.6703e-01, 5.1789e-02])\n"
     ]
    }
   ],
   "source": [
    "# tensor복사: clone() 메소드\n",
    "r = a.clone().reshape(3,4)\n",
    "r[0,0] = 100.1\n",
    "print(a)"
   ]
  },
  {
   "cell_type": "markdown",
   "id": "fa8c2fa4",
   "metadata": {},
   "source": [
    "## dummy 축 늘리기\n",
    "\n",
    "- None을 이용 (numpy의 newaxis 대신 None을 사용한다.)\n",
    "- unsqueeze(dim=축번호)"
   ]
  },
  {
   "cell_type": "code",
   "execution_count": 164,
   "id": "356a078c",
   "metadata": {},
   "outputs": [
    {
     "name": "stdout",
     "output_type": "stream",
     "text": [
      "torch.Size([2, 2])\n",
      "torch.Size([1, 2, 2]) torch.Size([1, 2, 2])\n",
      "torch.Size([2, 2, 1]) torch.Size([2, 2, 1])\n",
      "torch.Size([2, 1, 2, 1, 1]) torch.Size([2, 1, 2, 1])\n"
     ]
    }
   ],
   "source": [
    "import torch\n",
    "a = torch.tensor([[10,20],[10,20]])\n",
    "print(a.shape)\n",
    "\n",
    "a1, a2 = a[None, :], a.unsqueeze(dim=0) # dim=정수만가능\n",
    "print(a1.shape, a2.shape)\n",
    "\n",
    "a3, a4 = a[:, :, None], a.unsqueeze(dim=-1)   # a[:, None] # 0축 :, 1축 None, 2번축 지정안함 -> 원래대로 그래서 (2, 1, 2) 가됨.\n",
    "print(a3.shape, a4.shape)\n",
    "\n",
    "a5, a6 = a3[:,None,:,:, None], a3.unsqueeze(dim=1)  # dim=정수만가능\n",
    "print(a5.shape, a6.shape)"
   ]
  },
  {
   "cell_type": "markdown",
   "id": "9947b6ac",
   "metadata": {},
   "source": [
    "## dummy 축 제거\n",
    "- squeeze(\\[dim=축번호\\]) 이용"
   ]
  },
  {
   "cell_type": "code",
   "execution_count": 165,
   "id": "4e40b9cf",
   "metadata": {},
   "outputs": [
    {
     "name": "stdout",
     "output_type": "stream",
     "text": [
      "torch.Size([3, 1, 4, 1, 5, 1])\n",
      "torch.Size([3, 4, 5])\n",
      "torch.Size([3, 4, 1, 5, 1])\n",
      "torch.Size([3, 4, 5, 1])\n"
     ]
    }
   ],
   "source": [
    "t = torch.rand(3, 1, 4, 1, 5, 1)\n",
    "print(t.shape)\n",
    "\n",
    "r1 = t.squeeze()  #축을 명시 하지 않으면 모두 제거\n",
    "print(r1.shape)\n",
    "\n",
    "r2 = t.squeeze(dim=1) # 특정 axis 제거\n",
    "print(r2.shape)\n",
    "\n",
    "r3 = t.squeeze(dim=[1,3]) # 여러 axis의 dummy 축 제거\n",
    "print(r3.shape)"
   ]
  },
  {
   "cell_type": "markdown",
   "id": "b3018717",
   "metadata": {},
   "source": [
    "## tensor 합치기\n",
    "torch.cat([tensorA, tensorB, ...], dim=0) : 기준축 default 는 0"
   ]
  },
  {
   "cell_type": "code",
   "execution_count": 166,
   "id": "7564c2b5",
   "metadata": {},
   "outputs": [
    {
     "name": "stdout",
     "output_type": "stream",
     "text": [
      "tensor([[0, 1, 2, 3, 4],\n",
      "        [5, 6, 7, 8, 9]])\n",
      "tensor([[10, 11, 12, 13, 14],\n",
      "        [15, 16, 17, 18, 19]])\n",
      "tensor([[20, 21, 22, 23, 24],\n",
      "        [25, 26, 27, 28, 29]])\n",
      "tensor([[10, 11, 12],\n",
      "        [13, 14, 15],\n",
      "        [16, 17, 18]])\n"
     ]
    }
   ],
   "source": [
    "a = torch.arange(10).reshape(2,5)\n",
    "b = torch.arange(10,20).reshape(2,5)\n",
    "c = torch.arange(20,30).reshape(2,5)\n",
    "d = torch.arange(10,19).reshape(3,3)\n",
    "print(a)\n",
    "print(b)\n",
    "print(c)\n",
    "print(d)"
   ]
  },
  {
   "cell_type": "code",
   "execution_count": 167,
   "id": "a633d695",
   "metadata": {},
   "outputs": [
    {
     "data": {
      "text/plain": [
       "tensor([[ 0,  1,  2,  3,  4],\n",
       "        [ 5,  6,  7,  8,  9],\n",
       "        [10, 11, 12, 13, 14],\n",
       "        [15, 16, 17, 18, 19]])"
      ]
     },
     "execution_count": 167,
     "metadata": {},
     "output_type": "execute_result"
    }
   ],
   "source": [
    "torch.cat([a, b], dim=0)"
   ]
  },
  {
   "cell_type": "code",
   "execution_count": 168,
   "id": "6ee08217",
   "metadata": {},
   "outputs": [
    {
     "data": {
      "text/plain": [
       "tensor([[ 0,  1,  2,  3,  4],\n",
       "        [ 5,  6,  7,  8,  9],\n",
       "        [10, 11, 12, 13, 14],\n",
       "        [15, 16, 17, 18, 19],\n",
       "        [20, 21, 22, 23, 24],\n",
       "        [25, 26, 27, 28, 29]])"
      ]
     },
     "execution_count": 168,
     "metadata": {},
     "output_type": "execute_result"
    }
   ],
   "source": [
    "torch.cat([a, b, c], dim=0)"
   ]
  },
  {
   "cell_type": "code",
   "execution_count": 169,
   "id": "edb2f33a",
   "metadata": {},
   "outputs": [
    {
     "data": {
      "text/plain": [
       "tensor([[ 0,  1,  2,  3,  4, 10, 11, 12, 13, 14],\n",
       "        [ 5,  6,  7,  8,  9, 15, 16, 17, 18, 19]])"
      ]
     },
     "execution_count": 169,
     "metadata": {},
     "output_type": "execute_result"
    }
   ],
   "source": [
    "torch.cat([a, b], axis=1) # dim 대신 axis사용가능"
   ]
  },
  {
   "cell_type": "code",
   "execution_count": 170,
   "id": "25f7277a",
   "metadata": {},
   "outputs": [
    {
     "data": {
      "text/plain": [
       "tensor([[ 0,  1,  2,  3,  4, 10, 11, 12, 13, 14, 20, 21, 22, 23, 24],\n",
       "        [ 5,  6,  7,  8,  9, 15, 16, 17, 18, 19, 25, 26, 27, 28, 29]])"
      ]
     },
     "execution_count": 170,
     "metadata": {},
     "output_type": "execute_result"
    }
   ],
   "source": [
    "torch.cat([a, b, c], axis=1)"
   ]
  },
  {
   "cell_type": "code",
   "execution_count": 171,
   "id": "82477d9e",
   "metadata": {},
   "outputs": [
    {
     "data": {
      "text/plain": [
       "tensor([[ 0,  1,  2,  3,  4, 10, 11, 12, 13, 14],\n",
       "        [ 5,  6,  7,  8,  9, 15, 16, 17, 18, 19]])"
      ]
     },
     "execution_count": 171,
     "metadata": {},
     "output_type": "execute_result"
    }
   ],
   "source": [
    "torch.cat([a, b], axis=-1)  # -1: 마지막 axis"
   ]
  },
  {
   "cell_type": "code",
   "execution_count": 172,
   "id": "f441999c",
   "metadata": {},
   "outputs": [
    {
     "data": {
      "text/plain": [
       "(torch.Size([2, 5]), torch.Size([3, 3]))"
      ]
     },
     "execution_count": 172,
     "metadata": {},
     "output_type": "execute_result"
    }
   ],
   "source": [
    "a.shape, d.shape\n",
    "# 합치는 기준축 이외의 축 size는 같아야 한다.\n",
    "# torch.cat([a, d])  #dim=0, Error  1축 size가 달라서 Error"
   ]
  },
  {
   "cell_type": "markdown",
   "id": "c1aaa81f",
   "metadata": {},
   "source": [
    "## 값의 위치(index) 변경\n",
    "- tensor 원소의 index의 위치를 바꾼다.\n",
    "- `tensor.transpose(axis1, axis2)` \n",
    "    - 두 축의 자리만 변경 할 수 있다.\n",
    "- `tensor.permute(axis1, axis2, axis3, ..)`\n",
    "    - 두 개 이상의 축 자리를 변경한다."
   ]
  },
  {
   "cell_type": "code",
   "execution_count": 173,
   "id": "c621ab2d",
   "metadata": {},
   "outputs": [
    {
     "name": "stdout",
     "output_type": "stream",
     "text": [
      "torch.Size([2, 3, 4])\n",
      "torch.Size([2, 4, 3])\n",
      "torch.Size([4, 2, 3])\n"
     ]
    }
   ],
   "source": [
    "X = torch.arange(24).reshape(2, 3, 4)\n",
    "print(X.shape)\n",
    "# X\n",
    "y = X.transpose(1, 2)\n",
    "print(y.shape)\n",
    "\n",
    "z = X.permute(2, 0, 1)\n",
    "print(z.shape)"
   ]
  },
  {
   "cell_type": "markdown",
   "id": "2bfe8a88",
   "metadata": {},
   "source": [
    "# tensor 연산 및 주요 함수\n",
    "\n",
    "## element-wise 연산\n",
    "- tensor와 상수 연산시, tensor와 tensor간 연산시 원소별로 처리한다.\n",
    "- 행렬곱 연산을 제외하고 tensor간 연산시 피연산지 tensor간에 shape이 같아야 한다.\n",
    "    - shape이 다를 경우 조건이 맞으면 broadcasting을 한 뒤에 연산한다. (size가 다른 축의 경우 한개의 피연산자 size가 1일 경우 복사하여 shape을 맞춘다.)\n",
    "    "
   ]
  },
  {
   "cell_type": "code",
   "execution_count": 174,
   "id": "85d3d7a3",
   "metadata": {},
   "outputs": [
    {
     "name": "stdout",
     "output_type": "stream",
     "text": [
      "tensor([[0, 1, 2, 3, 4],\n",
      "        [5, 6, 7, 8, 9]])\n",
      "tensor([[10, 11, 12, 13, 14],\n",
      "        [15, 16, 17, 18, 19]])\n",
      "tensor([50, 51, 52, 53, 54])\n"
     ]
    }
   ],
   "source": [
    "import torch\n",
    "\n",
    "a = torch.arange(10).reshape(2,5)\n",
    "b = torch.arange(10,20).reshape(2,5)\n",
    "c = torch.arange(50, 55)\n",
    "\n",
    "print(a)\n",
    "print(b)\n",
    "print(c)"
   ]
  },
  {
   "cell_type": "code",
   "execution_count": 175,
   "id": "24f4f435",
   "metadata": {},
   "outputs": [
    {
     "name": "stdout",
     "output_type": "stream",
     "text": [
      "tensor([[100, 101, 102, 103, 104],\n",
      "        [105, 106, 107, 108, 109]])\n",
      "tensor([[-100,  -99,  -98,  -97,  -96],\n",
      "        [ -95,  -94,  -93,  -92,  -91]])\n",
      "tensor([[ True,  True,  True,  True,  True],\n",
      "        [False, False, False, False, False]])\n"
     ]
    }
   ],
   "source": [
    "print(a + 100)\n",
    "print(a - 100)\n",
    "print(a < 5)"
   ]
  },
  {
   "cell_type": "code",
   "execution_count": 176,
   "id": "1a5ed369",
   "metadata": {},
   "outputs": [
    {
     "name": "stdout",
     "output_type": "stream",
     "text": [
      "tensor([[10, 12, 14, 16, 18],\n",
      "        [20, 22, 24, 26, 28]])\n",
      "tensor([[False, False, False, False, False],\n",
      "        [False, False, False, False, False]])\n"
     ]
    }
   ],
   "source": [
    "print(a + b)\n",
    "print(a == b)"
   ]
  },
  {
   "cell_type": "code",
   "execution_count": 177,
   "id": "46ceb3e6-ecd2-41b0-b3c8-c2e87e05171f",
   "metadata": {},
   "outputs": [
    {
     "data": {
      "text/plain": [
       "(torch.Size([2, 5]), torch.Size([5]))"
      ]
     },
     "execution_count": 177,
     "metadata": {},
     "output_type": "execute_result"
    }
   ],
   "source": [
    "a.size(), c.size()"
   ]
  },
  {
   "cell_type": "code",
   "execution_count": 178,
   "id": "15256a5e",
   "metadata": {},
   "outputs": [
    {
     "name": "stdout",
     "output_type": "stream",
     "text": [
      "tensor([[50, 52, 54, 56, 58],\n",
      "        [55, 57, 59, 61, 63]])\n"
     ]
    }
   ],
   "source": [
    "# broadcasting\n",
    "print(a + c)"
   ]
  },
  {
   "cell_type": "markdown",
   "id": "729874b2",
   "metadata": {},
   "source": [
    "## 주요 연산함수"
   ]
  },
  {
   "cell_type": "code",
   "execution_count": 187,
   "id": "22a50df6",
   "metadata": {},
   "outputs": [
    {
     "data": {
      "text/plain": [
       "(2.718281828459045, 2.718281828459045)"
      ]
     },
     "execution_count": 187,
     "metadata": {},
     "output_type": "execute_result"
    }
   ],
   "source": [
    "## 자연상수 e\n",
    "torch.e, np.e"
   ]
  },
  {
   "cell_type": "code",
   "execution_count": 188,
   "id": "6fc6ac19",
   "metadata": {},
   "outputs": [
    {
     "name": "stdout",
     "output_type": "stream",
     "text": [
      "tensor([[-4, -3, -2],\n",
      "        [-1,  0,  1],\n",
      "        [ 2,  3,  4]])\n",
      "tensor([[4, 3, 2],\n",
      "        [1, 0, 1],\n",
      "        [2, 3, 4]])\n",
      "tensor([[2.0000, 1.7321, 1.4142],\n",
      "        [1.0000, 0.0000, 1.0000],\n",
      "        [1.4142, 1.7321, 2.0000]])\n",
      "tensor([[1.8316e-02, 4.9787e-02, 1.3534e-01],\n",
      "        [3.6788e-01, 1.0000e+00, 2.7183e+00],\n",
      "        [7.3891e+00, 2.0086e+01, 5.4598e+01]])\n",
      "tensor([[1.3863, 1.0986, 0.6931],\n",
      "        [0.0000,   -inf, 0.0000],\n",
      "        [0.6931, 1.0986, 1.3863]])\n",
      "tensor(1.)\n",
      "tensor(1.)\n",
      "tensor(1.)\n"
     ]
    }
   ],
   "source": [
    "x=torch.arange(-4, 5).reshape(3,3)\n",
    "print(x)\n",
    "print(torch.abs(x)) # 절대값 \n",
    "print(torch.sqrt(torch.abs(x))) #  제곱근\n",
    "print(torch.exp(x))  # torch.e**x\n",
    "print(torch.log(torch.abs(x)))\n",
    "print(torch.log(torch.exp(torch.tensor(1))))  # torch.log() 밑이 e인 로그계산\n",
    "print(torch.log10(torch.tensor(10)))         # torch.log10() 밑이 10인 로그계산\n",
    "print(torch.log2(torch.tensor(2)))           # torch.log2() 밑이 2인 로그계산"
   ]
  },
  {
   "cell_type": "code",
   "execution_count": 189,
   "id": "026192bd",
   "metadata": {
    "scrolled": true
   },
   "outputs": [
    {
     "name": "stdout",
     "output_type": "stream",
     "text": [
      "tensor([[-4.1982, -2.8894, -2.1403],\n",
      "        [-0.5436, -1.6513,  0.0197],\n",
      "        [ 1.5047,  3.9787,  4.4552]])\n",
      "tensor([[-4., -3., -2.],\n",
      "        [-1., -2.,  0.],\n",
      "        [ 2.,  4.,  4.]])\n",
      "tensor([[-4.2000, -2.8900, -2.1400],\n",
      "        [-0.5400, -1.6500,  0.0200],\n",
      "        [ 1.5000,  3.9800,  4.4600]])\n",
      "tensor([[-5., -3., -3.],\n",
      "        [-1., -2.,  0.],\n",
      "        [ 1.,  3.,  4.]])\n",
      "tensor([[-4., -2., -2.],\n",
      "        [-0., -1.,  1.],\n",
      "        [ 2.,  4.,  5.]])\n"
     ]
    }
   ],
   "source": [
    "y = x + torch.randn((3,3))\n",
    "print(y)\n",
    "print(torch.round(y)) # 반올림\n",
    "print(torch.round(y, decimals=2)) # 소수점 둘째자리 이하에서 반올림\n",
    "print(torch.floor(y)) # 내림\n",
    "print(torch.ceil(y)) # 올림"
   ]
  },
  {
   "cell_type": "markdown",
   "id": "358832d4",
   "metadata": {},
   "source": [
    "### 행렬곱\n",
    "- `@` 연산자 또는 `torch.matmul(tensor1, tensor2)` 함수 이용"
   ]
  },
  {
   "cell_type": "code",
   "execution_count": 190,
   "id": "ac6cfff6",
   "metadata": {},
   "outputs": [],
   "source": [
    "import torch"
   ]
  },
  {
   "cell_type": "code",
   "execution_count": 191,
   "id": "eb349ca8",
   "metadata": {},
   "outputs": [
    {
     "data": {
      "text/plain": [
       "(torch.Size([3, 2]), torch.Size([2, 2]))"
      ]
     },
     "execution_count": 191,
     "metadata": {},
     "output_type": "execute_result"
    }
   ],
   "source": [
    "x = torch.FloatTensor([[1, 2],[3, 4],[5, 6]])\n",
    "\n",
    "y = torch.FloatTensor([[1, 2],[1, 2],])\n",
    "x.size(), y.shape"
   ]
  },
  {
   "cell_type": "code",
   "execution_count": 192,
   "id": "4283adae",
   "metadata": {},
   "outputs": [
    {
     "name": "stdout",
     "output_type": "stream",
     "text": [
      "torch.Size([3, 2]) torch.Size([3, 2])\n",
      "tensor([[ 3.,  6.],\n",
      "        [ 7., 14.],\n",
      "        [11., 22.]])\n",
      "tensor([[ 3.,  6.],\n",
      "        [ 7., 14.],\n",
      "        [11., 22.]])\n"
     ]
    }
   ],
   "source": [
    "z1 = x @ y\n",
    "z2 = torch.matmul(x, y)\n",
    "print(z1.shape, z2.shape)\n",
    "print(z1)\n",
    "print(z2)"
   ]
  },
  {
   "cell_type": "code",
   "execution_count": 193,
   "id": "004d5f21",
   "metadata": {},
   "outputs": [
    {
     "data": {
      "text/plain": [
       "torch.Size([3, 4, 5])"
      ]
     },
     "execution_count": 193,
     "metadata": {},
     "output_type": "execute_result"
    }
   ],
   "source": [
    "# Batch 행렬곱(Batch matrix muliplication) - bmm()\n",
    "# 피연산자로 두개의 3차원 tensor를 axis (1, 2)를 기준으로 행렬곱을 처리한다.\n",
    "import torch\n",
    "x = torch.FloatTensor(3,4,2)\n",
    "y = torch.FloatTensor(3,2,5)\n",
    "z = torch.bmm(x, y)\n",
    "z.shape\n"
   ]
  },
  {
   "cell_type": "markdown",
   "id": "1c85a8b6",
   "metadata": {},
   "source": [
    "## torch.nan, torch.inf\n",
    "- nan: Not a Number, 주로 결측치를 표현한다.\n",
    "- inf: infinit 무한. \n",
    "    - torch.inf: 양의 무한\n",
    "    - -torch.inf: 음의 무한\n",
    "- torch.isnan(tensor)\n",
    "    - 원소별 결측치 확인\n",
    "- torch.isinf(tensor)    \n",
    "    - 원소별 inf 확인"
   ]
  },
  {
   "cell_type": "code",
   "execution_count": 194,
   "id": "7a051744",
   "metadata": {},
   "outputs": [
    {
     "name": "stdout",
     "output_type": "stream",
     "text": [
      "True False\n",
      "True False\n"
     ]
    }
   ],
   "source": [
    "print(torch.inf > 100000000, torch.inf < 10)\n",
    "print(-torch.inf < 10, -torch.inf > 10)"
   ]
  },
  {
   "cell_type": "code",
   "execution_count": null,
   "id": "d722e6c4",
   "metadata": {},
   "outputs": [],
   "source": [
    "print(torch.log(torch.tensor(-1))) # nan (계산결과가 없으므로-없는값-nan 반환)\n",
    "print(torch.isnan(torch.tensor([1,2,torch.nan,3,4])))  # nan 여부 확인\n",
    "print(torch.isinf(torch.tensor([1,2,3,4,torch.inf])))  # inf 여부 확인"
   ]
  },
  {
   "cell_type": "markdown",
   "id": "2214bd73",
   "metadata": {},
   "source": [
    "## 기술통계함수"
   ]
  },
  {
   "cell_type": "code",
   "execution_count": 195,
   "id": "11a0d448",
   "metadata": {},
   "outputs": [
    {
     "name": "stdout",
     "output_type": "stream",
     "text": [
      "tensor([[-0.3218, -2.4738,  0.4027,  0.0278],\n",
      "        [-0.2010,  0.3222, -0.0499,  1.0624],\n",
      "        [-1.1130, -1.1640,  0.6300, -0.0464]])\n"
     ]
    }
   ],
   "source": [
    "X=torch.randn(3,4)\n",
    "print(X)"
   ]
  },
  {
   "cell_type": "code",
   "execution_count": 196,
   "id": "7b696371",
   "metadata": {},
   "outputs": [
    {
     "name": "stdout",
     "output_type": "stream",
     "text": [
      "tensor(-2.9247)\n",
      "tensor([-2.3650,  1.1337, -1.6933])\n",
      "tensor([[-2.3650],\n",
      "        [ 1.1337],\n",
      "        [-1.6933]])\n"
     ]
    }
   ],
   "source": [
    "print(torch.sum(X))  # default: 전체기준으로 계산. dim=None\n",
    "print(torch.sum(X, dim=1)) #dim/axis 지정: 지정한 axis의 index가 다른 값끼리 계산.\n",
    "print(torch.sum(X, dim=1, keepdims=True)) # 기술통계함수들을 실행하면 차원이 줄어든다. keepdims=True로 하면 차원유지"
   ]
  },
  {
   "cell_type": "code",
   "execution_count": 197,
   "id": "99c06f26",
   "metadata": {},
   "outputs": [
    {
     "name": "stdout",
     "output_type": "stream",
     "text": [
      "tensor(-0.2437)\n",
      "tensor([-0.5913,  0.2834, -0.4233])\n",
      "tensor([[-0.5913],\n",
      "        [ 0.2834],\n",
      "        [-0.4233]])\n"
     ]
    }
   ],
   "source": [
    "print(torch.mean(X))\n",
    "print(torch.mean(X, dim=1))\n",
    "print(torch.mean(X, dim=1, keepdims=True))"
   ]
  },
  {
   "cell_type": "code",
   "execution_count": 198,
   "id": "db8d8f1e",
   "metadata": {},
   "outputs": [
    {
     "name": "stdout",
     "output_type": "stream",
     "text": [
      "tensor(0.9507)\n",
      "tensor(0.9038)\n",
      "tensor([0.2454, 1.9570, 0.1198, 0.3842])\n"
     ]
    }
   ],
   "source": [
    "print(torch.std(X)) # standard deviation 표준 편차\n",
    "print(torch.var(X)) # variance\n",
    "print(torch.var(X, dim=0))"
   ]
  },
  {
   "cell_type": "code",
   "execution_count": 199,
   "id": "51ecc064",
   "metadata": {},
   "outputs": [
    {
     "name": "stdout",
     "output_type": "stream",
     "text": [
      "tensor([[-2.3650],\n",
      "        [ 1.1337],\n",
      "        [-1.6933]])\n",
      "tensor([[-0.5913],\n",
      "        [ 0.2834],\n",
      "        [-0.4233]])\n",
      "tensor(0.9507)\n"
     ]
    }
   ],
   "source": [
    "# tensor.메소드() \n",
    "print(X.sum(dim=1, keepdims=True))\n",
    "print(X.mean(dim=1, keepdims=True))\n",
    "print(X.std())"
   ]
  },
  {
   "cell_type": "code",
   "execution_count": 200,
   "id": "f72865f1-80e6-4433-a366-02449bc493df",
   "metadata": {},
   "outputs": [
    {
     "data": {
      "text/plain": [
       "tensor([[-0.3218, -2.4738,  0.4027,  0.0278],\n",
       "        [-0.2010,  0.3222, -0.0499,  1.0624],\n",
       "        [-1.1130, -1.1640,  0.6300, -0.0464]])"
      ]
     },
     "execution_count": 200,
     "metadata": {},
     "output_type": "execute_result"
    }
   ],
   "source": [
    "X"
   ]
  },
  {
   "cell_type": "code",
   "execution_count": 201,
   "id": "afe123ff",
   "metadata": {},
   "outputs": [
    {
     "name": "stdout",
     "output_type": "stream",
     "text": [
      "tensor(1.0624)\n"
     ]
    }
   ],
   "source": [
    "print(torch.max(X)) # 전체 기준 max값 계산.\n",
    "# print(torch.max(X, dim=0))  # 축을 지정하면 return_types.max 타입객체로 반환. max값과 max값의 index를 묶어서 반환\n",
    "# print(torch.max(X, dim=1))\n",
    "# print(torch.max(X, dim=1).values, torch.max(X, dim=1).indices, sep=\" || \")\n",
    "# print(torch.max(X, dim=0, keepdims=True))  #keepdims=True : 차원(rank)를 유지\n",
    "# print(torch.max(X, dim=1, keepdims=True))"
   ]
  },
  {
   "cell_type": "code",
   "execution_count": 202,
   "id": "234df8b9",
   "metadata": {},
   "outputs": [
    {
     "name": "stdout",
     "output_type": "stream",
     "text": [
      "tensor(-2.4738)\n"
     ]
    }
   ],
   "source": [
    "print(torch.min(X))\n",
    "# print(torch.min(X, dim=0)) # return_types.min 타입객체로 반환. min값과 min값의 index를 묶어서 반환\n",
    "# print(torch.min(X, dim=1))\n",
    "\n",
    "# print(torch.argmax(X))\n",
    "# print(torch.argmax(X, dim=0)) # 각 열에서 가장 큰 애가 존재하는 인덱스\n",
    "# print(torch.argmax(X, dim=1)) # 각 행에서 가장 큰 애가 존재하는 인덱스"
   ]
  },
  {
   "cell_type": "code",
   "execution_count": 203,
   "id": "642696a3-bfe3-41f5-a4fc-397075454e2d",
   "metadata": {},
   "outputs": [
    {
     "name": "stdout",
     "output_type": "stream",
     "text": [
      "tensor([-0.2010,  0.3222,  0.6300,  1.0624])\n",
      "tensor([1, 1, 2, 1])\n"
     ]
    }
   ],
   "source": [
    "a = torch.max(X, dim=0)\n",
    "print(a.values)\n",
    "print(a.indices)"
   ]
  },
  {
   "cell_type": "markdown",
   "id": "a02bf59a",
   "metadata": {},
   "source": [
    "# autograd(자동미분)\n",
    "- 자동 미분을 이용해 gradient(미분계수)를 계산하는 pytorch system.\n",
    "- 딥러닝 모델에서 weight와 bias tensor들(Parameter)은 backpropagation(역전파)를 이용해 gradient를 구해서 loss가 줄어드는 방향으로 update를 하게된다.\n",
    "- pytorch는 이런 미분 수행을 자동으로 처리해 준다.\n",
    "    - gradient(기울기)를 구한다는 것은 미분을 한다는 것을 말한다.\n",
    "- tensor가 미분 가능하려면(gradient 계산 대상 변수) `requires_grad=True` 로 설정되 있어야 한다. (default: False)\n",
    "    "
   ]
  },
  {
   "cell_type": "code",
   "execution_count": 206,
   "id": "4e99f3da",
   "metadata": {},
   "outputs": [],
   "source": [
    "import torch"
   ]
  },
  {
   "cell_type": "code",
   "execution_count": 212,
   "id": "c353ce6b",
   "metadata": {},
   "outputs": [],
   "source": [
    "x = torch.tensor([1.0], requires_grad=True) # gradient 구할 대산변수에 requires_grad=True"
   ]
  },
  {
   "cell_type": "code",
   "execution_count": 214,
   "id": "82829794-54c5-4b9e-8074-8ddf7610de04",
   "metadata": {},
   "outputs": [
    {
     "name": "stdout",
     "output_type": "stream",
     "text": [
      "None\n"
     ]
    }
   ],
   "source": [
    "print(x.grad_fn)"
   ]
  },
  {
   "cell_type": "code",
   "execution_count": 217,
   "id": "c078a295",
   "metadata": {},
   "outputs": [],
   "source": [
    "y = x ** 2 # x의 도함수를 계산 => x.grad_fn에 저장"
   ]
  },
  {
   "cell_type": "code",
   "execution_count": 218,
   "id": "0bcd6e2a-f153-4d40-9684-761b7650633b",
   "metadata": {},
   "outputs": [
    {
     "name": "stdout",
     "output_type": "stream",
     "text": [
      "<PowBackward0 object at 0x000001B994407280>\n"
     ]
    }
   ],
   "source": [
    "print(y.grad_fn)"
   ]
  },
  {
   "cell_type": "code",
   "execution_count": 219,
   "id": "850a5409-4457-4eca-817a-39f1005e6861",
   "metadata": {},
   "outputs": [
    {
     "data": {
      "text/plain": [
       "tensor([1.], grad_fn=<PowBackward0>)"
      ]
     },
     "execution_count": 219,
     "metadata": {},
     "output_type": "execute_result"
    }
   ],
   "source": [
    "y"
   ]
  },
  {
   "cell_type": "code",
   "execution_count": 220,
   "id": "eeb4ea32-990c-4a4b-b4a5-b9dba5ac68a4",
   "metadata": {},
   "outputs": [],
   "source": [
    "a = torch.tensor([1.0], requires_grad=True)\n",
    "b = torch.tensor([2.0], requires_grad=True)\n",
    "\n",
    "y = a ** 2\n",
    "z = y ** b # z = (a**2) * b"
   ]
  },
  {
   "cell_type": "code",
   "execution_count": 221,
   "id": "e1d905f7-7a0b-41e6-9307-af1533372d6d",
   "metadata": {},
   "outputs": [],
   "source": [
    "z.backward()"
   ]
  },
  {
   "cell_type": "code",
   "execution_count": 224,
   "id": "ac673041-9e6f-46d8-81b8-313d3849f3dc",
   "metadata": {},
   "outputs": [
    {
     "name": "stdout",
     "output_type": "stream",
     "text": [
      "tensor([2.]) tensor([0.])\n"
     ]
    }
   ],
   "source": [
    "print(b.data, b.grad)"
   ]
  },
  {
   "cell_type": "code",
   "execution_count": 225,
   "id": "6205a7d7-28cb-45f5-8bf3-8b9352307597",
   "metadata": {},
   "outputs": [
    {
     "name": "stdout",
     "output_type": "stream",
     "text": [
      "tensor([1.]) tensor([4.])\n"
     ]
    }
   ],
   "source": [
    "print(a.data, a.grad)"
   ]
  },
  {
   "cell_type": "code",
   "execution_count": 260,
   "id": "3b13c728-565c-4c2d-8950-4b1fc2af48d5",
   "metadata": {},
   "outputs": [],
   "source": [
    "# 편미분\n",
    "a = torch.tensor([1.0], requires_grad=True)\n",
    "b = torch.tensor([2.0], requires_grad=True)\n",
    "y = a* b # a에 대한 y의 변화율 (b는 상수 취급), b에 대한 y의 변화율 (a는 상수 취급)\n",
    "# dy/da, dy/db"
   ]
  },
  {
   "cell_type": "code",
   "execution_count": 261,
   "id": "9c7c93d7-58f8-496e-b81c-bf99748214be",
   "metadata": {},
   "outputs": [
    {
     "data": {
      "text/plain": [
       "<MulBackward0 at 0x1b9956ac3a0>"
      ]
     },
     "execution_count": 261,
     "metadata": {},
     "output_type": "execute_result"
    }
   ],
   "source": [
    "y.grad_fn"
   ]
  },
  {
   "cell_type": "code",
   "execution_count": 262,
   "id": "c0d1d6c1-6ff6-494e-b64b-4259d6ff41af",
   "metadata": {},
   "outputs": [],
   "source": [
    "y.backward()"
   ]
  },
  {
   "cell_type": "code",
   "execution_count": 256,
   "id": "b5a9fc36-894d-4fb3-87a7-835fdd989aaf",
   "metadata": {},
   "outputs": [
    {
     "data": {
      "text/plain": [
       "(tensor([2.]), tensor([1.]))"
      ]
     },
     "execution_count": 256,
     "metadata": {},
     "output_type": "execute_result"
    }
   ],
   "source": [
    "a.grad, b.grad"
   ]
  },
  {
   "cell_type": "markdown",
   "id": "a304c280",
   "metadata": {},
   "source": [
    "## torch.no_grad() \n",
    "- no_grad() 구문에서 연산을 할 경우 requires_grad=True로 설정되었다 하더라도 gradient를 update하지 않는다.\n",
    "- 딥러닝 모델 학습이 끝나고 평가할 때는 gradient를 계산할 필요가 없기 때문에 no_grad 구문을 사용한다.\n"
   ]
  },
  {
   "cell_type": "code",
   "execution_count": 271,
   "id": "902239fa",
   "metadata": {},
   "outputs": [
    {
     "name": "stdout",
     "output_type": "stream",
     "text": [
      "결과 : tensor([2.])\n",
      "None\n"
     ]
    }
   ],
   "source": [
    "x = torch.tensor([1.0], requires_grad=True)\n",
    "x.requires_grad = False\n",
    "y = x * 2\n",
    "print('결과 :', y.data)\n",
    "print(y.grad_fn)"
   ]
  },
  {
   "cell_type": "code",
   "execution_count": 278,
   "id": "e1667cd1",
   "metadata": {},
   "outputs": [
    {
     "name": "stdout",
     "output_type": "stream",
     "text": [
      "None\n"
     ]
    }
   ],
   "source": [
    "x = torch.tensor([1.0], requires_grad=True)\n",
    "with torch.no_grad(): # with문 안에서 requires_grad=True인 변수를 이용해 계산해도 grad_fn을 만들지 않는다.\n",
    "    y = x ** 2\n",
    "    print(y.grad_fn)"
   ]
  },
  {
   "cell_type": "code",
   "execution_count": 279,
   "id": "946169cd-241d-4f4d-90b6-d6b3abb87f45",
   "metadata": {},
   "outputs": [
    {
     "name": "stdout",
     "output_type": "stream",
     "text": [
      "<PowBackward0 object at 0x000001B993E5CEE0>\n"
     ]
    }
   ],
   "source": [
    "y = x ** 2\n",
    "print(y.grad_fn)"
   ]
  },
  {
   "cell_type": "markdown",
   "id": "b3811c4b",
   "metadata": {},
   "source": [
    "## gradient 값 초기화"
   ]
  },
  {
   "cell_type": "code",
   "execution_count": 334,
   "id": "7b2e71a5",
   "metadata": {},
   "outputs": [
    {
     "name": "stdout",
     "output_type": "stream",
     "text": [
      "None\n",
      "tensor([2.])\n"
     ]
    }
   ],
   "source": [
    "x = torch.tensor([1.0], requires_grad = True)\n",
    "print(x.grad)\n",
    "y = x ** 2 # x ** 2 ->  2*x\n",
    "y.backward()\n",
    "print(x.grad)"
   ]
  },
  {
   "cell_type": "code",
   "execution_count": 335,
   "id": "2b59b6f3",
   "metadata": {},
   "outputs": [
    {
     "name": "stdout",
     "output_type": "stream",
     "text": [
      "tensor([3.])\n"
     ]
    }
   ],
   "source": [
    "# 새로운 계산\n",
    "x.grad = None\n",
    "z = x ** 3 # grad_fn: 3*x\n",
    "z.backward()\n",
    "print(x.grad) # tensor의 grad에 값이 이미 있는 경우 계속 더해진다. => grad값을 초기화(0, None으로 변경)"
   ]
  },
  {
   "cell_type": "code",
   "execution_count": 336,
   "id": "a4ea2b44",
   "metadata": {},
   "outputs": [
    {
     "name": "stdout",
     "output_type": "stream",
     "text": [
      "tensor([3.])\n"
     ]
    }
   ],
   "source": [
    "# x.grad = None\n",
    "x.grad = None\n",
    "z = x ** 3 # grad_fn: 3*x\n",
    "z.backward()\n",
    "print(x.grad)"
   ]
  },
  {
   "cell_type": "code",
   "execution_count": null,
   "id": "4073b82c-b147-444c-9706-d306a9e83d21",
   "metadata": {},
   "outputs": [],
   "source": []
  }
 ],
 "metadata": {
  "kernelspec": {
   "display_name": "Python 3 (ipykernel)",
   "language": "python",
   "name": "python3"
  },
  "language_info": {
   "codemirror_mode": {
    "name": "ipython",
    "version": 3
   },
   "file_extension": ".py",
   "mimetype": "text/x-python",
   "name": "python",
   "nbconvert_exporter": "python",
   "pygments_lexer": "ipython3",
   "version": "3.12.7"
  },
  "toc": {
   "base_numbering": 1,
   "nav_menu": {},
   "number_sections": true,
   "sideBar": true,
   "skip_h1_title": false,
   "title_cell": "Table of Contents",
   "title_sidebar": "Contents",
   "toc_cell": false,
   "toc_position": {},
   "toc_section_display": true,
   "toc_window_display": false
  },
  "varInspector": {
   "cols": {
    "lenName": 16,
    "lenType": 16,
    "lenVar": 40
   },
   "kernels_config": {
    "python": {
     "delete_cmd_postfix": "",
     "delete_cmd_prefix": "del ",
     "library": "var_list.py",
     "varRefreshCmd": "print(var_dic_list())"
    },
    "r": {
     "delete_cmd_postfix": ") ",
     "delete_cmd_prefix": "rm(",
     "library": "var_list.r",
     "varRefreshCmd": "cat(var_dic_list()) "
    }
   },
   "types_to_exclude": [
    "module",
    "function",
    "builtin_function_or_method",
    "instance",
    "_Feature"
   ],
   "window_display": false
  }
 },
 "nbformat": 4,
 "nbformat_minor": 5
}
