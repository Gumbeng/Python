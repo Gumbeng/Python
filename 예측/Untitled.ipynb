{
 "cells": [
  {
   "cell_type": "code",
   "execution_count": 11,
   "id": "89a38e3e-4581-40cd-9529-566a7745c058",
   "metadata": {},
   "outputs": [
    {
     "name": "stdout",
     "output_type": "stream",
     "text": [
      "   0                                   1  \\\n",
      "0  1                    Toy Story (1995)   \n",
      "1  2                      Jumanji (1995)   \n",
      "2  3             Grumpier Old Men (1995)   \n",
      "3  4            Waiting to Exhale (1995)   \n",
      "4  5  Father of the Bride Part II (1995)   \n",
      "\n",
      "                                             2  \n",
      "0  Adventure|Animation|Children|Comedy|Fantasy  \n",
      "1                   Adventure|Children|Fantasy  \n",
      "2                               Comedy|Romance  \n",
      "3                         Comedy|Drama|Romance  \n",
      "4                                       Comedy  \n"
     ]
    }
   ],
   "source": [
    "import pandas as pd\n",
    "\n",
    "# 데이터 파일 불러오기\n",
    "ratings = pd.read_csv('ml-10M100K/movies.dat', delimiter='::', engine='python', header=None)\n",
    "\n",
    "# 데이터 확인\n",
    "print(ratings.head())\n"
   ]
  }
 ],
 "metadata": {
  "kernelspec": {
   "display_name": "Python 3 (ipykernel)",
   "language": "python",
   "name": "python3"
  },
  "language_info": {
   "codemirror_mode": {
    "name": "ipython",
    "version": 3
   },
   "file_extension": ".py",
   "mimetype": "text/x-python",
   "name": "python",
   "nbconvert_exporter": "python",
   "pygments_lexer": "ipython3",
   "version": "3.12.7"
  }
 },
 "nbformat": 4,
 "nbformat_minor": 5
}
